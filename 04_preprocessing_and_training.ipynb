{
  "nbformat": 4,
  "nbformat_minor": 0,
  "metadata": {
    "kernelspec": {
      "display_name": "Python 3",
      "language": "python",
      "name": "python3"
    },
    "language_info": {
      "codemirror_mode": {
        "name": "ipython",
        "version": 3
      },
      "file_extension": ".py",
      "mimetype": "text/x-python",
      "name": "python",
      "nbconvert_exporter": "python",
      "pygments_lexer": "ipython3",
      "version": "3.7.9"
    },
    "toc": {
      "base_numbering": 1,
      "nav_menu": {},
      "number_sections": true,
      "sideBar": true,
      "skip_h1_title": false,
      "title_cell": "Table of Contents",
      "title_sidebar": "Contents",
      "toc_cell": false,
      "toc_position": {},
      "toc_section_display": true,
      "toc_window_display": true
    },
    "varInspector": {
      "cols": {
        "lenName": 16,
        "lenType": 16,
        "lenVar": 40
      },
      "kernels_config": {
        "python": {
          "delete_cmd_postfix": "",
          "delete_cmd_prefix": "del ",
          "library": "var_list.py",
          "varRefreshCmd": "print(var_dic_list())"
        },
        "r": {
          "delete_cmd_postfix": ") ",
          "delete_cmd_prefix": "rm(",
          "library": "var_list.r",
          "varRefreshCmd": "cat(var_dic_list()) "
        }
      },
      "types_to_exclude": [
        "module",
        "function",
        "builtin_function_or_method",
        "instance",
        "_Feature"
      ],
      "window_display": false
    },
    "colab": {
      "name": "04_preprocessing_and_training.ipynb",
      "provenance": [],
      "collapsed_sections": [],
      "include_colab_link": true
    }
  },
  "cells": [
    {
      "cell_type": "markdown",
      "metadata": {
        "id": "view-in-github",
        "colab_type": "text"
      },
      "source": [
        "<a href=\"https://colab.research.google.com/github/robpalinic/DataScienceGuidedCapstone/blob/master/04_preprocessing_and_training.ipynb\" target=\"_parent\"><img src=\"https://colab.research.google.com/assets/colab-badge.svg\" alt=\"Open In Colab\"/></a>"
      ]
    },
    {
      "cell_type": "markdown",
      "metadata": {
        "id": "BPBC6UOQU9Tj"
      },
      "source": [
        "# 4 Pre-Processing and Training Data<a id='4_Pre-Processing_and_Training_Data'></a>"
      ]
    },
    {
      "cell_type": "markdown",
      "metadata": {
        "id": "EHYVj0c2U9Tm"
      },
      "source": [
        "## 4.1 Contents<a id='4.1_Contents'></a>\n",
        "* [4 Pre-Processing and Training Data](#4_Pre-Processing_and_Training_Data)\n",
        "  * [4.1 Contents](#4.1_Contents)\n",
        "  * [4.2 Introduction](#4.2_Introduction)\n",
        "  * [4.3 Imports](#4.3_Imports)\n",
        "  * [4.4 Load Data](#4.4_Load_Data)\n",
        "  * [4.5 Extract Big Mountain Data](#4.5_Extract_Big_Mountain_Data)\n",
        "  * [4.6 Train/Test Split](#4.6_Train/Test_Split)\n",
        "  * [4.7 Initial Not-Even-A-Model](#4.7_Initial_Not-Even-A-Model)\n",
        "    * [4.7.1 Metrics](#4.7.1_Metrics)\n",
        "      * [4.7.1.1 R-squared, or coefficient of determination](#4.7.1.1_R-squared,_or_coefficient_of_determination)\n",
        "      * [4.7.1.2 Mean Absolute Error](#4.7.1.2_Mean_Absolute_Error)\n",
        "      * [4.7.1.3 Mean Squared Error](#4.7.1.3_Mean_Squared_Error)\n",
        "    * [4.7.2 sklearn metrics](#4.7.2_sklearn_metrics)\n",
        "        * [4.7.2.0.1 R-squared](#4.7.2.0.1_R-squared)\n",
        "        * [4.7.2.0.2 Mean absolute error](#4.7.2.0.2_Mean_absolute_error)\n",
        "        * [4.7.2.0.3 Mean squared error](#4.7.2.0.3_Mean_squared_error)\n",
        "    * [4.7.3 Note On Calculating Metrics](#4.7.3_Note_On_Calculating_Metrics)\n",
        "  * [4.8 Initial Models](#4.8_Initial_Models)\n",
        "    * [4.8.1 Imputing missing feature (predictor) values](#4.8.1_Imputing_missing_feature_(predictor)_values)\n",
        "      * [4.8.1.1 Impute missing values with median](#4.8.1.1_Impute_missing_values_with_median)\n",
        "        * [4.8.1.1.1 Learn the values to impute from the train set](#4.8.1.1.1_Learn_the_values_to_impute_from_the_train_set)\n",
        "        * [4.8.1.1.2 Apply the imputation to both train and test splits](#4.8.1.1.2_Apply_the_imputation_to_both_train_and_test_splits)\n",
        "        * [4.8.1.1.3 Scale the data](#4.8.1.1.3_Scale_the_data)\n",
        "        * [4.8.1.1.4 Train the model on the train split](#4.8.1.1.4_Train_the_model_on_the_train_split)\n",
        "        * [4.8.1.1.5 Make predictions using the model on both train and test splits](#4.8.1.1.5_Make_predictions_using_the_model_on_both_train_and_test_splits)\n",
        "        * [4.8.1.1.6 Assess model performance](#4.8.1.1.6_Assess_model_performance)\n",
        "      * [4.8.1.2 Impute missing values with the mean](#4.8.1.2_Impute_missing_values_with_the_mean)\n",
        "        * [4.8.1.2.1 Learn the values to impute from the train set](#4.8.1.2.1_Learn_the_values_to_impute_from_the_train_set)\n",
        "        * [4.8.1.2.2 Apply the imputation to both train and test splits](#4.8.1.2.2_Apply_the_imputation_to_both_train_and_test_splits)\n",
        "        * [4.8.1.2.3 Scale the data](#4.8.1.2.3_Scale_the_data)\n",
        "        * [4.8.1.2.4 Train the model on the train split](#4.8.1.2.4_Train_the_model_on_the_train_split)\n",
        "        * [4.8.1.2.5 Make predictions using the model on both train and test splits](#4.8.1.2.5_Make_predictions_using_the_model_on_both_train_and_test_splits)\n",
        "        * [4.8.1.2.6 Assess model performance](#4.8.1.2.6_Assess_model_performance)\n",
        "    * [4.8.2 Pipelines](#4.8.2_Pipelines)\n",
        "      * [4.8.2.1 Define the pipeline](#4.8.2.1_Define_the_pipeline)\n",
        "      * [4.8.2.2 Fit the pipeline](#4.8.2.2_Fit_the_pipeline)\n",
        "      * [4.8.2.3 Make predictions on the train and test sets](#4.8.2.3_Make_predictions_on_the_train_and_test_sets)\n",
        "      * [4.8.2.4 Assess performance](#4.8.2.4_Assess_performance)\n",
        "  * [4.9 Refining The Linear Model](#4.9_Refining_The_Linear_Model)\n",
        "    * [4.9.1 Define the pipeline](#4.9.1_Define_the_pipeline)\n",
        "    * [4.9.2 Fit the pipeline](#4.9.2_Fit_the_pipeline)\n",
        "    * [4.9.3 Assess performance on the train and test set](#4.9.3_Assess_performance_on_the_train_and_test_set)\n",
        "    * [4.9.4 Define a new pipeline to select a different number of features](#4.9.4_Define_a_new_pipeline_to_select_a_different_number_of_features)\n",
        "    * [4.9.5 Fit the pipeline](#4.9.5_Fit_the_pipeline)\n",
        "    * [4.9.6 Assess performance on train and test data](#4.9.6_Assess_performance_on_train_and_test_data)\n",
        "    * [4.9.7 Assessing performance using cross-validation](#4.9.7_Assessing_performance_using_cross-validation)\n",
        "    * [4.9.8 Hyperparameter search using GridSearchCV](#4.9.8_Hyperparameter_search_using_GridSearchCV)\n",
        "  * [4.10 Random Forest Model](#4.10_Random_Forest_Model)\n",
        "    * [4.10.1 Define the pipeline](#4.10.1_Define_the_pipeline)\n",
        "    * [4.10.2 Fit and assess performance using cross-validation](#4.10.2_Fit_and_assess_performance_using_cross-validation)\n",
        "    * [4.10.3 Hyperparameter search using GridSearchCV](#4.10.3_Hyperparameter_search_using_GridSearchCV)\n",
        "  * [4.11 Final Model Selection](#4.11_Final_Model_Selection)\n",
        "    * [4.11.1 Linear regression model performance](#4.11.1_Linear_regression_model_performance)\n",
        "    * [4.11.2 Random forest regression model performance](#4.11.2_Random_forest_regression_model_performance)\n",
        "    * [4.11.3 Conclusion](#4.11.3_Conclusion)\n",
        "  * [4.12 Data quantity assessment](#4.12_Data_quantity_assessment)\n",
        "  * [4.13 Save best model object from pipeline](#4.13_Save_best_model_object_from_pipeline)\n",
        "  * [4.14 Summary](#4.14_Summary)\n"
      ]
    },
    {
      "cell_type": "markdown",
      "metadata": {
        "id": "w21Nga39U9To"
      },
      "source": [
        "## 4.2 Introduction<a id='4.2_Introduction'></a>"
      ]
    },
    {
      "cell_type": "markdown",
      "metadata": {
        "id": "oFE-jsgfU9To"
      },
      "source": [
        "In preceding notebooks, performed preliminary assessments of data quality and refined the question to be answered. You found a small number of data values that gave clear choices about whether to replace values or drop a whole row. You determined that predicting the adult weekend ticket price was your primary aim. You threw away records with missing price data, but not before making the most of the other available data to look for any patterns between the states. You didn't see any and decided to treat all states equally; the state label didn't seem to be particularly useful.\n",
        "\n",
        "In this notebook you'll start to build machine learning models. Before even starting with learning a machine learning model, however, start by considering how useful the mean value is as a predictor. This is more than just a pedagogical device. You never want to go to stakeholders with a machine learning model only to have the CEO point out that it performs worse than just guessing the average! Your first model is a baseline performance comparitor for any subsequent model. You then build up the process of efficiently and robustly creating and assessing models against it. The development we lay out may be little slower than in the real world, but this step of the capstone is definitely more than just instructional. It is good practice to build up an understanding that the machine learning pipelines you build work as expected. You can validate steps with your own functions for checking expected equivalence between, say, pandas and sklearn implementations."
      ]
    },
    {
      "cell_type": "code",
      "metadata": {
        "colab": {
          "resources": {
            "http://localhost:8080/nbextensions/google.colab/files.js": {
              "data": "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",
              "ok": true,
              "headers": [
                [
                  "content-type",
                  "application/javascript"
                ]
              ],
              "status": 200,
              "status_text": ""
            }
          },
          "base_uri": "https://localhost:8080/",
          "height": 72
        },
        "id": "5DXMUDX5U_Gd",
        "outputId": "8abfb0ce-df3d-4075-ec93-b436bab28ddf"
      },
      "source": [
        "from google.colab import files\n",
        "uploaded = files.upload()"
      ],
      "execution_count": null,
      "outputs": [
        {
          "output_type": "display_data",
          "data": {
            "text/html": [
              "\n",
              "     <input type=\"file\" id=\"files-7ffd98a0-6f79-41ff-b407-b1003963f486\" name=\"files[]\" multiple disabled\n",
              "        style=\"border:none\" />\n",
              "     <output id=\"result-7ffd98a0-6f79-41ff-b407-b1003963f486\">\n",
              "      Upload widget is only available when the cell has been executed in the\n",
              "      current browser session. Please rerun this cell to enable.\n",
              "      </output>\n",
              "      <script src=\"/nbextensions/google.colab/files.js\"></script> "
            ],
            "text/plain": [
              "<IPython.core.display.HTML object>"
            ]
          },
          "metadata": {
            "tags": []
          }
        },
        {
          "output_type": "stream",
          "text": [
            "Saving sb_utils.py to sb_utils.py\n"
          ],
          "name": "stdout"
        }
      ]
    },
    {
      "cell_type": "code",
      "metadata": {
        "colab": {
          "resources": {
            "http://localhost:8080/nbextensions/google.colab/files.js": {
              "data": "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",
              "ok": true,
              "headers": [
                [
                  "content-type",
                  "application/javascript"
                ]
              ],
              "status": 200,
              "status_text": ""
            }
          },
          "base_uri": "https://localhost:8080/",
          "height": 72
        },
        "id": "gWKVbwawVJ2N",
        "outputId": "ae6fa0f7-2479-482b-e389-dc9abb343b4e"
      },
      "source": [
        "uploaded = files.upload()"
      ],
      "execution_count": null,
      "outputs": [
        {
          "output_type": "display_data",
          "data": {
            "text/html": [
              "\n",
              "     <input type=\"file\" id=\"files-4745e952-d1fd-47fd-ad79-8a294a89ef1c\" name=\"files[]\" multiple disabled\n",
              "        style=\"border:none\" />\n",
              "     <output id=\"result-4745e952-d1fd-47fd-ad79-8a294a89ef1c\">\n",
              "      Upload widget is only available when the cell has been executed in the\n",
              "      current browser session. Please rerun this cell to enable.\n",
              "      </output>\n",
              "      <script src=\"/nbextensions/google.colab/files.js\"></script> "
            ],
            "text/plain": [
              "<IPython.core.display.HTML object>"
            ]
          },
          "metadata": {
            "tags": []
          }
        },
        {
          "output_type": "stream",
          "text": [
            "Saving ski_data_step3_features.csv to ski_data_step3_features.csv\n"
          ],
          "name": "stdout"
        }
      ]
    },
    {
      "cell_type": "markdown",
      "metadata": {
        "id": "OQhJ9u5CU9Tp"
      },
      "source": [
        "## 4.3 Imports<a id='4.3_Imports'></a>"
      ]
    },
    {
      "cell_type": "code",
      "metadata": {
        "id": "PkCu7w7nU9Tp"
      },
      "source": [
        "import pandas as pd\n",
        "import numpy as np\n",
        "import os\n",
        "import pickle\n",
        "import matplotlib.pyplot as plt\n",
        "import seaborn as sns\n",
        "from sklearn import __version__ as sklearn_version\n",
        "from sklearn.decomposition import PCA\n",
        "from sklearn.preprocessing import scale\n",
        "from sklearn.model_selection import train_test_split, cross_validate, GridSearchCV, learning_curve\n",
        "from sklearn.preprocessing import StandardScaler, MinMaxScaler\n",
        "from sklearn.dummy import DummyRegressor\n",
        "from sklearn.linear_model import LinearRegression\n",
        "from sklearn.ensemble import RandomForestRegressor\n",
        "from sklearn.metrics import r2_score, mean_squared_error, mean_absolute_error\n",
        "from sklearn.pipeline import make_pipeline\n",
        "from sklearn.impute import SimpleImputer\n",
        "from sklearn.feature_selection import SelectKBest, f_regression\n",
        "import datetime\n",
        "\n",
        "from sb_utils import save_file"
      ],
      "execution_count": null,
      "outputs": []
    },
    {
      "cell_type": "markdown",
      "metadata": {
        "id": "nwbgpdKZU9Tq"
      },
      "source": [
        "## 4.4 Load Data<a id='4.4_Load_Data'></a>"
      ]
    },
    {
      "cell_type": "code",
      "metadata": {
        "scrolled": true,
        "colab": {
          "base_uri": "https://localhost:8080/",
          "height": 1000
        },
        "id": "SBtS42FjU9Tr",
        "outputId": "10ffec6c-d2ab-4595-bf0e-9c90e179cf07"
      },
      "source": [
        "ski_data = pd.read_csv('ski_data_step3_features.csv')\n",
        "ski_data.head().T"
      ],
      "execution_count": null,
      "outputs": [
        {
          "output_type": "execute_result",
          "data": {
            "text/html": [
              "<div>\n",
              "<style scoped>\n",
              "    .dataframe tbody tr th:only-of-type {\n",
              "        vertical-align: middle;\n",
              "    }\n",
              "\n",
              "    .dataframe tbody tr th {\n",
              "        vertical-align: top;\n",
              "    }\n",
              "\n",
              "    .dataframe thead th {\n",
              "        text-align: right;\n",
              "    }\n",
              "</style>\n",
              "<table border=\"1\" class=\"dataframe\">\n",
              "  <thead>\n",
              "    <tr style=\"text-align: right;\">\n",
              "      <th></th>\n",
              "      <th>0</th>\n",
              "      <th>1</th>\n",
              "      <th>2</th>\n",
              "      <th>3</th>\n",
              "      <th>4</th>\n",
              "    </tr>\n",
              "  </thead>\n",
              "  <tbody>\n",
              "    <tr>\n",
              "      <th>Name</th>\n",
              "      <td>Alyeska Resort</td>\n",
              "      <td>Eaglecrest Ski Area</td>\n",
              "      <td>Hilltop Ski Area</td>\n",
              "      <td>Arizona Snowbowl</td>\n",
              "      <td>Sunrise Park Resort</td>\n",
              "    </tr>\n",
              "    <tr>\n",
              "      <th>Region</th>\n",
              "      <td>Alaska</td>\n",
              "      <td>Alaska</td>\n",
              "      <td>Alaska</td>\n",
              "      <td>Arizona</td>\n",
              "      <td>Arizona</td>\n",
              "    </tr>\n",
              "    <tr>\n",
              "      <th>state</th>\n",
              "      <td>Alaska</td>\n",
              "      <td>Alaska</td>\n",
              "      <td>Alaska</td>\n",
              "      <td>Arizona</td>\n",
              "      <td>Arizona</td>\n",
              "    </tr>\n",
              "    <tr>\n",
              "      <th>summit_elev</th>\n",
              "      <td>3939</td>\n",
              "      <td>2600</td>\n",
              "      <td>2090</td>\n",
              "      <td>11500</td>\n",
              "      <td>11100</td>\n",
              "    </tr>\n",
              "    <tr>\n",
              "      <th>vertical_drop</th>\n",
              "      <td>2500</td>\n",
              "      <td>1540</td>\n",
              "      <td>294</td>\n",
              "      <td>2300</td>\n",
              "      <td>1800</td>\n",
              "    </tr>\n",
              "    <tr>\n",
              "      <th>base_elev</th>\n",
              "      <td>250</td>\n",
              "      <td>1200</td>\n",
              "      <td>1796</td>\n",
              "      <td>9200</td>\n",
              "      <td>9200</td>\n",
              "    </tr>\n",
              "    <tr>\n",
              "      <th>trams</th>\n",
              "      <td>1</td>\n",
              "      <td>0</td>\n",
              "      <td>0</td>\n",
              "      <td>0</td>\n",
              "      <td>0</td>\n",
              "    </tr>\n",
              "    <tr>\n",
              "      <th>fastSixes</th>\n",
              "      <td>0</td>\n",
              "      <td>0</td>\n",
              "      <td>0</td>\n",
              "      <td>1</td>\n",
              "      <td>0</td>\n",
              "    </tr>\n",
              "    <tr>\n",
              "      <th>fastQuads</th>\n",
              "      <td>2</td>\n",
              "      <td>0</td>\n",
              "      <td>0</td>\n",
              "      <td>0</td>\n",
              "      <td>1</td>\n",
              "    </tr>\n",
              "    <tr>\n",
              "      <th>quad</th>\n",
              "      <td>2</td>\n",
              "      <td>0</td>\n",
              "      <td>0</td>\n",
              "      <td>2</td>\n",
              "      <td>2</td>\n",
              "    </tr>\n",
              "    <tr>\n",
              "      <th>triple</th>\n",
              "      <td>0</td>\n",
              "      <td>0</td>\n",
              "      <td>1</td>\n",
              "      <td>2</td>\n",
              "      <td>3</td>\n",
              "    </tr>\n",
              "    <tr>\n",
              "      <th>double</th>\n",
              "      <td>0</td>\n",
              "      <td>4</td>\n",
              "      <td>0</td>\n",
              "      <td>1</td>\n",
              "      <td>1</td>\n",
              "    </tr>\n",
              "    <tr>\n",
              "      <th>surface</th>\n",
              "      <td>2</td>\n",
              "      <td>0</td>\n",
              "      <td>2</td>\n",
              "      <td>2</td>\n",
              "      <td>0</td>\n",
              "    </tr>\n",
              "    <tr>\n",
              "      <th>total_chairs</th>\n",
              "      <td>7</td>\n",
              "      <td>4</td>\n",
              "      <td>3</td>\n",
              "      <td>8</td>\n",
              "      <td>7</td>\n",
              "    </tr>\n",
              "    <tr>\n",
              "      <th>Runs</th>\n",
              "      <td>76</td>\n",
              "      <td>36</td>\n",
              "      <td>13</td>\n",
              "      <td>55</td>\n",
              "      <td>65</td>\n",
              "    </tr>\n",
              "    <tr>\n",
              "      <th>TerrainParks</th>\n",
              "      <td>2</td>\n",
              "      <td>1</td>\n",
              "      <td>1</td>\n",
              "      <td>4</td>\n",
              "      <td>2</td>\n",
              "    </tr>\n",
              "    <tr>\n",
              "      <th>LongestRun_mi</th>\n",
              "      <td>1</td>\n",
              "      <td>2</td>\n",
              "      <td>1</td>\n",
              "      <td>2</td>\n",
              "      <td>1.2</td>\n",
              "    </tr>\n",
              "    <tr>\n",
              "      <th>SkiableTerrain_ac</th>\n",
              "      <td>1610</td>\n",
              "      <td>640</td>\n",
              "      <td>30</td>\n",
              "      <td>777</td>\n",
              "      <td>800</td>\n",
              "    </tr>\n",
              "    <tr>\n",
              "      <th>Snow Making_ac</th>\n",
              "      <td>113</td>\n",
              "      <td>60</td>\n",
              "      <td>30</td>\n",
              "      <td>104</td>\n",
              "      <td>80</td>\n",
              "    </tr>\n",
              "    <tr>\n",
              "      <th>daysOpenLastYear</th>\n",
              "      <td>150</td>\n",
              "      <td>45</td>\n",
              "      <td>150</td>\n",
              "      <td>122</td>\n",
              "      <td>115</td>\n",
              "    </tr>\n",
              "    <tr>\n",
              "      <th>yearsOpen</th>\n",
              "      <td>60</td>\n",
              "      <td>44</td>\n",
              "      <td>36</td>\n",
              "      <td>81</td>\n",
              "      <td>49</td>\n",
              "    </tr>\n",
              "    <tr>\n",
              "      <th>averageSnowfall</th>\n",
              "      <td>669</td>\n",
              "      <td>350</td>\n",
              "      <td>69</td>\n",
              "      <td>260</td>\n",
              "      <td>250</td>\n",
              "    </tr>\n",
              "    <tr>\n",
              "      <th>AdultWeekend</th>\n",
              "      <td>85</td>\n",
              "      <td>53</td>\n",
              "      <td>34</td>\n",
              "      <td>89</td>\n",
              "      <td>78</td>\n",
              "    </tr>\n",
              "    <tr>\n",
              "      <th>projectedDaysOpen</th>\n",
              "      <td>150</td>\n",
              "      <td>90</td>\n",
              "      <td>152</td>\n",
              "      <td>122</td>\n",
              "      <td>104</td>\n",
              "    </tr>\n",
              "    <tr>\n",
              "      <th>NightSkiing_ac</th>\n",
              "      <td>550</td>\n",
              "      <td>NaN</td>\n",
              "      <td>30</td>\n",
              "      <td>NaN</td>\n",
              "      <td>80</td>\n",
              "    </tr>\n",
              "    <tr>\n",
              "      <th>resorts_per_state</th>\n",
              "      <td>3</td>\n",
              "      <td>3</td>\n",
              "      <td>3</td>\n",
              "      <td>2</td>\n",
              "      <td>2</td>\n",
              "    </tr>\n",
              "    <tr>\n",
              "      <th>resorts_per_100kcapita</th>\n",
              "      <td>0.410091</td>\n",
              "      <td>0.410091</td>\n",
              "      <td>0.410091</td>\n",
              "      <td>0.0274774</td>\n",
              "      <td>0.0274774</td>\n",
              "    </tr>\n",
              "    <tr>\n",
              "      <th>resorts_per_100ksq_mile</th>\n",
              "      <td>0.450867</td>\n",
              "      <td>0.450867</td>\n",
              "      <td>0.450867</td>\n",
              "      <td>1.75454</td>\n",
              "      <td>1.75454</td>\n",
              "    </tr>\n",
              "    <tr>\n",
              "      <th>resort_skiable_area_ac_state_ratio</th>\n",
              "      <td>0.70614</td>\n",
              "      <td>0.280702</td>\n",
              "      <td>0.0131579</td>\n",
              "      <td>0.492708</td>\n",
              "      <td>0.507292</td>\n",
              "    </tr>\n",
              "    <tr>\n",
              "      <th>resort_days_open_state_ratio</th>\n",
              "      <td>0.434783</td>\n",
              "      <td>0.130435</td>\n",
              "      <td>0.434783</td>\n",
              "      <td>0.514768</td>\n",
              "      <td>0.485232</td>\n",
              "    </tr>\n",
              "    <tr>\n",
              "      <th>resort_terrain_park_state_ratio</th>\n",
              "      <td>0.5</td>\n",
              "      <td>0.25</td>\n",
              "      <td>0.25</td>\n",
              "      <td>0.666667</td>\n",
              "      <td>0.333333</td>\n",
              "    </tr>\n",
              "    <tr>\n",
              "      <th>resort_night_skiing_state_ratio</th>\n",
              "      <td>0.948276</td>\n",
              "      <td>NaN</td>\n",
              "      <td>0.0517241</td>\n",
              "      <td>NaN</td>\n",
              "      <td>1</td>\n",
              "    </tr>\n",
              "    <tr>\n",
              "      <th>total_chairs_runs_ratio</th>\n",
              "      <td>0.0921053</td>\n",
              "      <td>0.111111</td>\n",
              "      <td>0.230769</td>\n",
              "      <td>0.145455</td>\n",
              "      <td>0.107692</td>\n",
              "    </tr>\n",
              "    <tr>\n",
              "      <th>total_chairs_skiable_ratio</th>\n",
              "      <td>0.00434783</td>\n",
              "      <td>0.00625</td>\n",
              "      <td>0.1</td>\n",
              "      <td>0.010296</td>\n",
              "      <td>0.00875</td>\n",
              "    </tr>\n",
              "    <tr>\n",
              "      <th>fastQuads_runs_ratio</th>\n",
              "      <td>0.0263158</td>\n",
              "      <td>0</td>\n",
              "      <td>0</td>\n",
              "      <td>0</td>\n",
              "      <td>0.0153846</td>\n",
              "    </tr>\n",
              "    <tr>\n",
              "      <th>fastQuads_skiable_ratio</th>\n",
              "      <td>0.00124224</td>\n",
              "      <td>0</td>\n",
              "      <td>0</td>\n",
              "      <td>0</td>\n",
              "      <td>0.00125</td>\n",
              "    </tr>\n",
              "  </tbody>\n",
              "</table>\n",
              "</div>"
            ],
            "text/plain": [
              "                                                 0  ...                    4\n",
              "Name                                Alyeska Resort  ...  Sunrise Park Resort\n",
              "Region                                      Alaska  ...              Arizona\n",
              "state                                       Alaska  ...              Arizona\n",
              "summit_elev                                   3939  ...                11100\n",
              "vertical_drop                                 2500  ...                 1800\n",
              "base_elev                                      250  ...                 9200\n",
              "trams                                            1  ...                    0\n",
              "fastSixes                                        0  ...                    0\n",
              "fastQuads                                        2  ...                    1\n",
              "quad                                             2  ...                    2\n",
              "triple                                           0  ...                    3\n",
              "double                                           0  ...                    1\n",
              "surface                                          2  ...                    0\n",
              "total_chairs                                     7  ...                    7\n",
              "Runs                                            76  ...                   65\n",
              "TerrainParks                                     2  ...                    2\n",
              "LongestRun_mi                                    1  ...                  1.2\n",
              "SkiableTerrain_ac                             1610  ...                  800\n",
              "Snow Making_ac                                 113  ...                   80\n",
              "daysOpenLastYear                               150  ...                  115\n",
              "yearsOpen                                       60  ...                   49\n",
              "averageSnowfall                                669  ...                  250\n",
              "AdultWeekend                                    85  ...                   78\n",
              "projectedDaysOpen                              150  ...                  104\n",
              "NightSkiing_ac                                 550  ...                   80\n",
              "resorts_per_state                                3  ...                    2\n",
              "resorts_per_100kcapita                    0.410091  ...            0.0274774\n",
              "resorts_per_100ksq_mile                   0.450867  ...              1.75454\n",
              "resort_skiable_area_ac_state_ratio         0.70614  ...             0.507292\n",
              "resort_days_open_state_ratio              0.434783  ...             0.485232\n",
              "resort_terrain_park_state_ratio                0.5  ...             0.333333\n",
              "resort_night_skiing_state_ratio           0.948276  ...                    1\n",
              "total_chairs_runs_ratio                  0.0921053  ...             0.107692\n",
              "total_chairs_skiable_ratio              0.00434783  ...              0.00875\n",
              "fastQuads_runs_ratio                     0.0263158  ...            0.0153846\n",
              "fastQuads_skiable_ratio                 0.00124224  ...              0.00125\n",
              "\n",
              "[36 rows x 5 columns]"
            ]
          },
          "metadata": {
            "tags": []
          },
          "execution_count": 53
        }
      ]
    },
    {
      "cell_type": "markdown",
      "metadata": {
        "id": "KZrlgqpEU9Ts"
      },
      "source": [
        "## 4.5 Extract Big Mountain Data<a id='4.5_Extract_Big_Mountain_Data'></a>"
      ]
    },
    {
      "cell_type": "markdown",
      "metadata": {
        "id": "XQDoNKGCU9Ts"
      },
      "source": [
        "Big Mountain is your resort. Separate it from the rest of the data to use later."
      ]
    },
    {
      "cell_type": "code",
      "metadata": {
        "id": "ngXKmIy_U9Ts"
      },
      "source": [
        "big_mountain = ski_data[ski_data.Name == 'Big Mountain Resort']"
      ],
      "execution_count": 179,
      "outputs": []
    },
    {
      "cell_type": "code",
      "metadata": {
        "colab": {
          "base_uri": "https://localhost:8080/",
          "height": 1000
        },
        "id": "jL1tAP6KU9Ts",
        "outputId": "0640e899-0a3f-47ef-9bf5-4d2b769081af"
      },
      "source": [
        "big_mountain.T"
      ],
      "execution_count": 180,
      "outputs": [
        {
          "output_type": "execute_result",
          "data": {
            "text/html": [
              "<div>\n",
              "<style scoped>\n",
              "    .dataframe tbody tr th:only-of-type {\n",
              "        vertical-align: middle;\n",
              "    }\n",
              "\n",
              "    .dataframe tbody tr th {\n",
              "        vertical-align: top;\n",
              "    }\n",
              "\n",
              "    .dataframe thead th {\n",
              "        text-align: right;\n",
              "    }\n",
              "</style>\n",
              "<table border=\"1\" class=\"dataframe\">\n",
              "  <thead>\n",
              "    <tr style=\"text-align: right;\">\n",
              "      <th></th>\n",
              "    </tr>\n",
              "  </thead>\n",
              "  <tbody>\n",
              "    <tr>\n",
              "      <th>Name</th>\n",
              "    </tr>\n",
              "    <tr>\n",
              "      <th>Region</th>\n",
              "    </tr>\n",
              "    <tr>\n",
              "      <th>state</th>\n",
              "    </tr>\n",
              "    <tr>\n",
              "      <th>summit_elev</th>\n",
              "    </tr>\n",
              "    <tr>\n",
              "      <th>vertical_drop</th>\n",
              "    </tr>\n",
              "    <tr>\n",
              "      <th>base_elev</th>\n",
              "    </tr>\n",
              "    <tr>\n",
              "      <th>trams</th>\n",
              "    </tr>\n",
              "    <tr>\n",
              "      <th>fastSixes</th>\n",
              "    </tr>\n",
              "    <tr>\n",
              "      <th>fastQuads</th>\n",
              "    </tr>\n",
              "    <tr>\n",
              "      <th>quad</th>\n",
              "    </tr>\n",
              "    <tr>\n",
              "      <th>triple</th>\n",
              "    </tr>\n",
              "    <tr>\n",
              "      <th>double</th>\n",
              "    </tr>\n",
              "    <tr>\n",
              "      <th>surface</th>\n",
              "    </tr>\n",
              "    <tr>\n",
              "      <th>total_chairs</th>\n",
              "    </tr>\n",
              "    <tr>\n",
              "      <th>Runs</th>\n",
              "    </tr>\n",
              "    <tr>\n",
              "      <th>TerrainParks</th>\n",
              "    </tr>\n",
              "    <tr>\n",
              "      <th>LongestRun_mi</th>\n",
              "    </tr>\n",
              "    <tr>\n",
              "      <th>SkiableTerrain_ac</th>\n",
              "    </tr>\n",
              "    <tr>\n",
              "      <th>Snow Making_ac</th>\n",
              "    </tr>\n",
              "    <tr>\n",
              "      <th>daysOpenLastYear</th>\n",
              "    </tr>\n",
              "    <tr>\n",
              "      <th>yearsOpen</th>\n",
              "    </tr>\n",
              "    <tr>\n",
              "      <th>averageSnowfall</th>\n",
              "    </tr>\n",
              "    <tr>\n",
              "      <th>AdultWeekend</th>\n",
              "    </tr>\n",
              "    <tr>\n",
              "      <th>projectedDaysOpen</th>\n",
              "    </tr>\n",
              "    <tr>\n",
              "      <th>NightSkiing_ac</th>\n",
              "    </tr>\n",
              "    <tr>\n",
              "      <th>resorts_per_state</th>\n",
              "    </tr>\n",
              "    <tr>\n",
              "      <th>resorts_per_100kcapita</th>\n",
              "    </tr>\n",
              "    <tr>\n",
              "      <th>resorts_per_100ksq_mile</th>\n",
              "    </tr>\n",
              "    <tr>\n",
              "      <th>resort_skiable_area_ac_state_ratio</th>\n",
              "    </tr>\n",
              "    <tr>\n",
              "      <th>resort_days_open_state_ratio</th>\n",
              "    </tr>\n",
              "    <tr>\n",
              "      <th>resort_terrain_park_state_ratio</th>\n",
              "    </tr>\n",
              "    <tr>\n",
              "      <th>resort_night_skiing_state_ratio</th>\n",
              "    </tr>\n",
              "    <tr>\n",
              "      <th>total_chairs_runs_ratio</th>\n",
              "    </tr>\n",
              "    <tr>\n",
              "      <th>total_chairs_skiable_ratio</th>\n",
              "    </tr>\n",
              "    <tr>\n",
              "      <th>fastQuads_runs_ratio</th>\n",
              "    </tr>\n",
              "    <tr>\n",
              "      <th>fastQuads_skiable_ratio</th>\n",
              "    </tr>\n",
              "  </tbody>\n",
              "</table>\n",
              "</div>"
            ],
            "text/plain": [
              "Empty DataFrame\n",
              "Columns: []\n",
              "Index: [Name, Region, state, summit_elev, vertical_drop, base_elev, trams, fastSixes, fastQuads, quad, triple, double, surface, total_chairs, Runs, TerrainParks, LongestRun_mi, SkiableTerrain_ac, Snow Making_ac, daysOpenLastYear, yearsOpen, averageSnowfall, AdultWeekend, projectedDaysOpen, NightSkiing_ac, resorts_per_state, resorts_per_100kcapita, resorts_per_100ksq_mile, resort_skiable_area_ac_state_ratio, resort_days_open_state_ratio, resort_terrain_park_state_ratio, resort_night_skiing_state_ratio, total_chairs_runs_ratio, total_chairs_skiable_ratio, fastQuads_runs_ratio, fastQuads_skiable_ratio]"
            ]
          },
          "metadata": {
            "tags": []
          },
          "execution_count": 180
        }
      ]
    },
    {
      "cell_type": "code",
      "metadata": {
        "colab": {
          "base_uri": "https://localhost:8080/"
        },
        "id": "j2q4tVabU9Tt",
        "outputId": "5e75493e-f223-4e5d-a1a1-c32a6a7217c9"
      },
      "source": [
        "ski_data.shape"
      ],
      "execution_count": 181,
      "outputs": [
        {
          "output_type": "execute_result",
          "data": {
            "text/plain": [
              "(276, 36)"
            ]
          },
          "metadata": {
            "tags": []
          },
          "execution_count": 181
        }
      ]
    },
    {
      "cell_type": "code",
      "metadata": {
        "id": "zSLdXbBZU9Tt"
      },
      "source": [
        "ski_data = ski_data[ski_data.Name != 'Big Mountain Resort']"
      ],
      "execution_count": 182,
      "outputs": []
    },
    {
      "cell_type": "code",
      "metadata": {
        "colab": {
          "base_uri": "https://localhost:8080/"
        },
        "id": "J7_3z4pOU9Tu",
        "outputId": "26bde6d6-e0b0-4727-b7ba-961e5a8b6887"
      },
      "source": [
        "ski_data.shape"
      ],
      "execution_count": 183,
      "outputs": [
        {
          "output_type": "execute_result",
          "data": {
            "text/plain": [
              "(276, 36)"
            ]
          },
          "metadata": {
            "tags": []
          },
          "execution_count": 183
        }
      ]
    },
    {
      "cell_type": "markdown",
      "metadata": {
        "id": "vDGKMBKfU9Tu"
      },
      "source": [
        "## 4.6 Train/Test Split<a id='4.6_Train/Test_Split'></a>"
      ]
    },
    {
      "cell_type": "markdown",
      "metadata": {
        "id": "5oLyflftU9Tu"
      },
      "source": [
        "So far, you've treated ski resort data as a single entity. In machine learning, when you train your model on all of your data, you end up with no data set aside to evaluate model performance. You could keep making more and more complex models that fit the data better and better and not realise you were overfitting to that one set of samples. By partitioning the data into training and testing splits, without letting a model (or missing-value imputation) learn anything about the test split, you have a somewhat independent assessment of how your model might perform in the future. An often overlooked subtlety here is that people all too frequently use the test set to assess model performance _and then compare multiple models to pick the best_. This means their overall model selection process is  fitting to one specific data set, now the test split. You could keep going, trying to get better and better performance on that one data set, but that's  where cross-validation becomes especially useful. While training models, a test split is very useful as a final check on expected future performance."
      ]
    },
    {
      "cell_type": "markdown",
      "metadata": {
        "id": "9UF7sok0U9Tu"
      },
      "source": [
        "What partition sizes would you have with a 70/30 train/test split?"
      ]
    },
    {
      "cell_type": "code",
      "metadata": {
        "colab": {
          "base_uri": "https://localhost:8080/"
        },
        "id": "yR15F2R_U9Tv",
        "outputId": "661140cd-34c6-4851-a4e9-30d997107881"
      },
      "source": [
        "len(ski_data) * .7, len(ski_data) * .3"
      ],
      "execution_count": 184,
      "outputs": [
        {
          "output_type": "execute_result",
          "data": {
            "text/plain": [
              "(193.2, 82.8)"
            ]
          },
          "metadata": {
            "tags": []
          },
          "execution_count": 184
        }
      ]
    },
    {
      "cell_type": "code",
      "metadata": {
        "id": "wNy-Qr9OU9Tv"
      },
      "source": [
        "X_train, X_test, y_train, y_test = train_test_split(ski_data.drop(columns='AdultWeekend'), \n",
        "                                                    ski_data.AdultWeekend, test_size=0.3, \n",
        "                                                    random_state=47)"
      ],
      "execution_count": 185,
      "outputs": []
    },
    {
      "cell_type": "code",
      "metadata": {
        "colab": {
          "base_uri": "https://localhost:8080/"
        },
        "id": "4PUWMFRNU9Tv",
        "outputId": "6ba747cb-7ff3-48a0-e673-c5d452620fc8"
      },
      "source": [
        "X_train.shape, X_test.shape"
      ],
      "execution_count": 186,
      "outputs": [
        {
          "output_type": "execute_result",
          "data": {
            "text/plain": [
              "((193, 35), (83, 35))"
            ]
          },
          "metadata": {
            "tags": []
          },
          "execution_count": 186
        }
      ]
    },
    {
      "cell_type": "code",
      "metadata": {
        "colab": {
          "base_uri": "https://localhost:8080/"
        },
        "id": "v_cBwcxlU9Tw",
        "outputId": "41f8b7f1-12e0-4ce5-b2e8-57b32c98bb0c"
      },
      "source": [
        "y_train.shape, y_test.shape"
      ],
      "execution_count": 187,
      "outputs": [
        {
          "output_type": "execute_result",
          "data": {
            "text/plain": [
              "((193,), (83,))"
            ]
          },
          "metadata": {
            "tags": []
          },
          "execution_count": 187
        }
      ]
    },
    {
      "cell_type": "code",
      "metadata": {
        "colab": {
          "base_uri": "https://localhost:8080/"
        },
        "id": "yB6jp669U9Tw",
        "outputId": "f83ce1f8-95e9-427f-d465-2756a3a5b017"
      },
      "source": [
        "#Code task 1#\n",
        "#Save the 'Name', 'state', and 'Region' columns from the train/test data into names_train and names_test\n",
        "#Then drop those columns from `X_train` and `X_test`. Use 'inplace=True'\n",
        "names_list = ['Name', 'state', 'Region']\n",
        "names_train = X_train[names_list]\n",
        "names_test = X_test[names_list]\n",
        "X_train.drop(columns=names_list, inplace=True)\n",
        "X_test.drop(columns=names_list, inplace=True)\n",
        "X_train.shape, X_test.shape"
      ],
      "execution_count": 188,
      "outputs": [
        {
          "output_type": "execute_result",
          "data": {
            "text/plain": [
              "((193, 32), (83, 32))"
            ]
          },
          "metadata": {
            "tags": []
          },
          "execution_count": 188
        }
      ]
    },
    {
      "cell_type": "code",
      "metadata": {
        "colab": {
          "base_uri": "https://localhost:8080/"
        },
        "id": "C33SXjumU9Tw",
        "outputId": "9ee0d1b3-5b8a-4e5d-d42a-1dfe234d78e3"
      },
      "source": [
        "#Code task 2#\n",
        "#Check the `dtypes` attribute of `X_train` to verify all features are numeric\n",
        "X_train.dtypes"
      ],
      "execution_count": 189,
      "outputs": [
        {
          "output_type": "execute_result",
          "data": {
            "text/plain": [
              "summit_elev                             int64\n",
              "vertical_drop                           int64\n",
              "base_elev                               int64\n",
              "trams                                   int64\n",
              "fastSixes                               int64\n",
              "fastQuads                               int64\n",
              "quad                                    int64\n",
              "triple                                  int64\n",
              "double                                  int64\n",
              "surface                                 int64\n",
              "total_chairs                            int64\n",
              "Runs                                  float64\n",
              "TerrainParks                          float64\n",
              "LongestRun_mi                         float64\n",
              "SkiableTerrain_ac                     float64\n",
              "Snow Making_ac                        float64\n",
              "daysOpenLastYear                      float64\n",
              "yearsOpen                             float64\n",
              "averageSnowfall                       float64\n",
              "projectedDaysOpen                     float64\n",
              "NightSkiing_ac                        float64\n",
              "resorts_per_state                       int64\n",
              "resorts_per_100kcapita                float64\n",
              "resorts_per_100ksq_mile               float64\n",
              "resort_skiable_area_ac_state_ratio    float64\n",
              "resort_days_open_state_ratio          float64\n",
              "resort_terrain_park_state_ratio       float64\n",
              "resort_night_skiing_state_ratio       float64\n",
              "total_chairs_runs_ratio               float64\n",
              "total_chairs_skiable_ratio            float64\n",
              "fastQuads_runs_ratio                  float64\n",
              "fastQuads_skiable_ratio               float64\n",
              "dtype: object"
            ]
          },
          "metadata": {
            "tags": []
          },
          "execution_count": 189
        }
      ]
    },
    {
      "cell_type": "code",
      "metadata": {
        "colab": {
          "base_uri": "https://localhost:8080/"
        },
        "id": "z0P_LuPbU9Tx",
        "outputId": "f08a31be-c895-4ce8-a983-fcd104ed3b2e"
      },
      "source": [
        "#Code task 3#\n",
        "#Repeat this check for the test split in `X_test`\n",
        "X_test.dtypes"
      ],
      "execution_count": 190,
      "outputs": [
        {
          "output_type": "execute_result",
          "data": {
            "text/plain": [
              "summit_elev                             int64\n",
              "vertical_drop                           int64\n",
              "base_elev                               int64\n",
              "trams                                   int64\n",
              "fastSixes                               int64\n",
              "fastQuads                               int64\n",
              "quad                                    int64\n",
              "triple                                  int64\n",
              "double                                  int64\n",
              "surface                                 int64\n",
              "total_chairs                            int64\n",
              "Runs                                  float64\n",
              "TerrainParks                          float64\n",
              "LongestRun_mi                         float64\n",
              "SkiableTerrain_ac                     float64\n",
              "Snow Making_ac                        float64\n",
              "daysOpenLastYear                      float64\n",
              "yearsOpen                             float64\n",
              "averageSnowfall                       float64\n",
              "projectedDaysOpen                     float64\n",
              "NightSkiing_ac                        float64\n",
              "resorts_per_state                       int64\n",
              "resorts_per_100kcapita                float64\n",
              "resorts_per_100ksq_mile               float64\n",
              "resort_skiable_area_ac_state_ratio    float64\n",
              "resort_days_open_state_ratio          float64\n",
              "resort_terrain_park_state_ratio       float64\n",
              "resort_night_skiing_state_ratio       float64\n",
              "total_chairs_runs_ratio               float64\n",
              "total_chairs_skiable_ratio            float64\n",
              "fastQuads_runs_ratio                  float64\n",
              "fastQuads_skiable_ratio               float64\n",
              "dtype: object"
            ]
          },
          "metadata": {
            "tags": []
          },
          "execution_count": 190
        }
      ]
    },
    {
      "cell_type": "markdown",
      "metadata": {
        "id": "JZSS5D6TU9Tx"
      },
      "source": [
        "You have only numeric features in your X now!"
      ]
    },
    {
      "cell_type": "markdown",
      "metadata": {
        "id": "pWkJF3nkU9Tx"
      },
      "source": [
        "## 4.7 Initial Not-Even-A-Model<a id='4.7_Initial_Not-Even-A-Model'></a>"
      ]
    },
    {
      "cell_type": "markdown",
      "metadata": {
        "id": "KbdtGaiwU9Tx"
      },
      "source": [
        "A good place to start is to see how good the mean is as a predictor. In other words, what if you simply say your best guess is the average price?"
      ]
    },
    {
      "cell_type": "code",
      "metadata": {
        "colab": {
          "base_uri": "https://localhost:8080/"
        },
        "id": "tcCwBfhLU9Tx",
        "outputId": "f95a16ae-f911-47f7-95cc-885d07f99a3e"
      },
      "source": [
        "#Code task 4#\n",
        "#Calculate the mean of `y_train`\n",
        "train_mean = y_train.mean()\n",
        "train_mean"
      ],
      "execution_count": 191,
      "outputs": [
        {
          "output_type": "execute_result",
          "data": {
            "text/plain": [
              "63.811088082901556"
            ]
          },
          "metadata": {
            "tags": []
          },
          "execution_count": 191
        }
      ]
    },
    {
      "cell_type": "markdown",
      "metadata": {
        "id": "Rlpcn_uwU9Tx"
      },
      "source": [
        "`sklearn`'s `DummyRegressor` easily does this:"
      ]
    },
    {
      "cell_type": "code",
      "metadata": {
        "colab": {
          "base_uri": "https://localhost:8080/"
        },
        "id": "bMMeBsf3U9Ty",
        "outputId": "a44172b7-0c65-4ad8-9221-a57abc67b05f"
      },
      "source": [
        "#Code task 5#\n",
        "#Fit the dummy regressor on the training data\n",
        "#Hint, call its `.fit()` method with `X_train` and `y_train` as arguments\n",
        "#Then print the object's `constant_` attribute and verify it's the same as the mean above\n",
        "dumb_reg = DummyRegressor(strategy='mean')\n",
        "dumb_reg.fit(X_train, y_train)\n",
        "dumb_reg.constant_"
      ],
      "execution_count": 192,
      "outputs": [
        {
          "output_type": "execute_result",
          "data": {
            "text/plain": [
              "array([[63.81108808]])"
            ]
          },
          "metadata": {
            "tags": []
          },
          "execution_count": 192
        }
      ]
    },
    {
      "cell_type": "markdown",
      "metadata": {
        "id": "XoQFb-ZYU9Ty"
      },
      "source": [
        "How good is this? How closely does this match, or explain, the actual values? There are many ways of assessing how good one set of values agrees with another, which brings us to the subject of metrics."
      ]
    },
    {
      "cell_type": "markdown",
      "metadata": {
        "id": "6XLoCcLQU9Ty"
      },
      "source": [
        "### 4.7.1 Metrics<a id='4.7.1_Metrics'></a>"
      ]
    },
    {
      "cell_type": "markdown",
      "metadata": {
        "id": "J9s5fx1JU9Ty"
      },
      "source": [
        "#### 4.7.1.1 R-squared, or coefficient of determination<a id='4.7.1.1_R-squared,_or_coefficient_of_determination'></a>"
      ]
    },
    {
      "cell_type": "markdown",
      "metadata": {
        "id": "TQIFr9p6U9Ty"
      },
      "source": [
        "One measure is $R^2$, the [coefficient of determination](https://en.wikipedia.org/wiki/Coefficient_of_determination). This is a measure of the proportion of variance in the dependent variable (our ticket price) that is predicted by our \"model\". The linked Wikipedia articles gives a nice explanation of how negative values can arise. This is frequently a cause of confusion for newcomers who, reasonably, ask how can a squared value be negative?\n",
        "\n",
        "Recall the mean can be denoted by $\\bar{y}$, where\n",
        "\n",
        "$$\\bar{y} = \\frac{1}{n}\\sum_{i=1}^ny_i$$\n",
        "\n",
        "and where $y_i$ are the individual values of the dependent variable.\n",
        "\n",
        "The total sum of squares (error), can be expressed as\n",
        "\n",
        "$$SS_{tot} = \\sum_i(y_i-\\bar{y})^2$$\n",
        "\n",
        "The above formula should be familiar as it's simply the variance without the denominator to scale (divide) by the sample size.\n",
        "\n",
        "The residual sum of squares is similarly defined to be\n",
        "\n",
        "$$SS_{res} = \\sum_i(y_i-\\hat{y})^2$$\n",
        "\n",
        "where $\\hat{y}$ are our predicted values for the depended variable.\n",
        "\n",
        "The coefficient of determination, $R^2$, here is given by\n",
        "\n",
        "$$R^2 = 1 - \\frac{SS_{res}}{SS_{tot}}$$\n",
        "\n",
        "Putting it into words, it's one minus the ratio of the residual variance to the original variance. Thus, the baseline model here, which always predicts $\\bar{y}$, should give $R^2=0$. A model that perfectly predicts the observed values would have no residual error and so give $R^2=1$. Models that do worse than predicting the mean will have increased the sum of squares of residuals and so produce a negative $R^2$."
      ]
    },
    {
      "cell_type": "code",
      "metadata": {
        "id": "z-kfJft1U9Ty"
      },
      "source": [
        "#Code task 6#\n",
        "#Calculate the R^2 as defined above\n",
        "def r_squared(y, ypred):\n",
        "    \"\"\"R-squared score.\n",
        "    \n",
        "    Calculate the R-squared, or coefficient of determination, of the input.\n",
        "    \n",
        "    Arguments:\n",
        "    y -- the observed values\n",
        "    ypred -- the predicted values\n",
        "    \"\"\"\n",
        "    ybar = np.sum(y) / len(y) #yes, we could use np.mean(y)\n",
        "    sum_sq_tot = np.sum((y - ybar)**2) #total sum of squares error\n",
        "    sum_sq_res = np.sum((y - ypred)**2) #residual sum of squares error\n",
        "    R2 = 1.0 - sum_sq_res / sum_sq_tot \n",
        "    return R2"
      ],
      "execution_count": 193,
      "outputs": []
    },
    {
      "cell_type": "markdown",
      "metadata": {
        "id": "Wp85PXSFU9Tz"
      },
      "source": [
        "Make your predictions by creating an array of length the size of the training set with the single value of the mean."
      ]
    },
    {
      "cell_type": "code",
      "metadata": {
        "colab": {
          "base_uri": "https://localhost:8080/"
        },
        "id": "2ygUMuhcU9Tz",
        "outputId": "871a3d8c-a54f-491c-d4ff-1cec339310d2"
      },
      "source": [
        "y_tr_pred_ = train_mean * np.ones(len(y_train))\n",
        "y_tr_pred_[:5]"
      ],
      "execution_count": 194,
      "outputs": [
        {
          "output_type": "execute_result",
          "data": {
            "text/plain": [
              "array([63.81108808, 63.81108808, 63.81108808, 63.81108808, 63.81108808])"
            ]
          },
          "metadata": {
            "tags": []
          },
          "execution_count": 194
        }
      ]
    },
    {
      "cell_type": "markdown",
      "metadata": {
        "id": "WzUdiLMJU9Tz"
      },
      "source": [
        "Remember the `sklearn` dummy regressor? "
      ]
    },
    {
      "cell_type": "code",
      "metadata": {
        "colab": {
          "base_uri": "https://localhost:8080/"
        },
        "id": "pJmjnYdOU9Tz",
        "outputId": "7b174147-9cca-4022-e96d-681d43f288e5"
      },
      "source": [
        "y_tr_pred = dumb_reg.predict(X_train)\n",
        "y_tr_pred[:5]"
      ],
      "execution_count": 195,
      "outputs": [
        {
          "output_type": "execute_result",
          "data": {
            "text/plain": [
              "array([63.81108808, 63.81108808, 63.81108808, 63.81108808, 63.81108808])"
            ]
          },
          "metadata": {
            "tags": []
          },
          "execution_count": 195
        }
      ]
    },
    {
      "cell_type": "markdown",
      "metadata": {
        "id": "gyrmgBsZU9T0"
      },
      "source": [
        "You can see that `DummyRegressor` produces exactly the same results and saves you having to mess about broadcasting the mean (or whichever other statistic we used - check out the [documentation](https://scikit-learn.org/stable/modules/generated/sklearn.dummy.DummyRegressor.html) to see what's available) to an array of the appropriate length. It also gives you an object with `fit()` and `predict()` methods as well so you can use them as conveniently as any other `sklearn` estimator."
      ]
    },
    {
      "cell_type": "code",
      "metadata": {
        "colab": {
          "base_uri": "https://localhost:8080/"
        },
        "id": "pfaeZ54GU9T0",
        "outputId": "1e44330f-6f26-48b2-e4a9-bfb408496f83"
      },
      "source": [
        "r_squared(y_train, y_tr_pred)"
      ],
      "execution_count": 196,
      "outputs": [
        {
          "output_type": "execute_result",
          "data": {
            "text/plain": [
              "0.0"
            ]
          },
          "metadata": {
            "tags": []
          },
          "execution_count": 196
        }
      ]
    },
    {
      "cell_type": "markdown",
      "metadata": {
        "id": "VQZbNgMgU9T0"
      },
      "source": [
        "Exactly as expected, if you use the average value as your prediction, you get an $R^2$ of zero _on our training set_. What if you use this \"model\" to predict unseen values from the test set? Remember, of course, that your \"model\" is trained on the training set; you still use the training set mean as your prediction."
      ]
    },
    {
      "cell_type": "markdown",
      "metadata": {
        "id": "TGGI9EsbU9T0"
      },
      "source": [
        "Make your predictions by creating an array of length the size of the test set with the single value of the (training) mean."
      ]
    },
    {
      "cell_type": "code",
      "metadata": {
        "colab": {
          "base_uri": "https://localhost:8080/"
        },
        "id": "mu3nQLpjU9T0",
        "outputId": "864e0f3a-5033-4fcc-ea4b-911aca4128a6"
      },
      "source": [
        "y_te_pred = train_mean * np.ones(len(y_test))\n",
        "r_squared(y_test, y_te_pred)"
      ],
      "execution_count": 197,
      "outputs": [
        {
          "output_type": "execute_result",
          "data": {
            "text/plain": [
              "-0.0031235200417913944"
            ]
          },
          "metadata": {
            "tags": []
          },
          "execution_count": 197
        }
      ]
    },
    {
      "cell_type": "markdown",
      "metadata": {
        "id": "Lhe8W0G9U9T1"
      },
      "source": [
        "Generally, you can expect performance on a test set to be slightly worse than on the training set. As you are getting an $R^2$ of zero on the training set, there's nowhere to go but negative!"
      ]
    },
    {
      "cell_type": "markdown",
      "metadata": {
        "id": "xIOaJs0WU9T1"
      },
      "source": [
        "$R^2$ is a common metric, and interpretable in terms of the amount of variance explained, it's less appealing if you want an idea of how \"close\" your predictions are to the true values. Metrics that summarise the difference between predicted and actual values are _mean absolute error_ and _mean squared error_."
      ]
    },
    {
      "cell_type": "markdown",
      "metadata": {
        "id": "DH7-m1M6U9T1"
      },
      "source": [
        "#### 4.7.1.2 Mean Absolute Error<a id='4.7.1.2_Mean_Absolute_Error'></a>"
      ]
    },
    {
      "cell_type": "markdown",
      "metadata": {
        "id": "dZOSuQtEU9T1"
      },
      "source": [
        "This is very simply the average of the absolute errors:\n",
        "\n",
        "$$MAE = \\frac{1}{n}\\sum_i^n|y_i - \\hat{y}|$$"
      ]
    },
    {
      "cell_type": "code",
      "metadata": {
        "id": "hym3fwpFU9T1"
      },
      "source": [
        "#Code task 7#\n",
        "#Calculate the MAE as defined above\n",
        "def mae(y, ypred):\n",
        "    \"\"\"Mean absolute error.\n",
        "    \n",
        "    Calculate the mean absolute error of the arguments\n",
        "\n",
        "    Arguments:\n",
        "    y -- the observed values\n",
        "    ypred -- the predicted values\n",
        "    \"\"\"\n",
        "    abs_error = np.abs(y-ypred)\n",
        "    mae = np.mean(abs_error)\n",
        "    return mae"
      ],
      "execution_count": 198,
      "outputs": []
    },
    {
      "cell_type": "code",
      "metadata": {
        "colab": {
          "base_uri": "https://localhost:8080/"
        },
        "id": "5xZOScC5U9T1",
        "outputId": "dc65ffad-2a72-4d3d-d098-8a4b8c62dfb2"
      },
      "source": [
        "mae(y_train, y_tr_pred)"
      ],
      "execution_count": 199,
      "outputs": [
        {
          "output_type": "execute_result",
          "data": {
            "text/plain": [
              "17.923463717146785"
            ]
          },
          "metadata": {
            "tags": []
          },
          "execution_count": 199
        }
      ]
    },
    {
      "cell_type": "code",
      "metadata": {
        "colab": {
          "base_uri": "https://localhost:8080/"
        },
        "id": "upaRnzkvU9T2",
        "outputId": "96d30b47-01db-41cb-b9fd-f756df1ff750"
      },
      "source": [
        "mae(y_test, y_te_pred)"
      ],
      "execution_count": 200,
      "outputs": [
        {
          "output_type": "execute_result",
          "data": {
            "text/plain": [
              "19.136142081278486"
            ]
          },
          "metadata": {
            "tags": []
          },
          "execution_count": 200
        }
      ]
    },
    {
      "cell_type": "markdown",
      "metadata": {
        "id": "D1EagVs3U9T2"
      },
      "source": [
        "Mean absolute error is arguably the most intuitive of all the metrics, this essentially tells you that, on average, you might expect to be off by around \\\\$19 if you guessed ticket price based on an average of known values."
      ]
    },
    {
      "cell_type": "markdown",
      "metadata": {
        "id": "tXAc2Oe_U9T2"
      },
      "source": [
        "#### 4.7.1.3 Mean Squared Error<a id='4.7.1.3_Mean_Squared_Error'></a>"
      ]
    },
    {
      "cell_type": "markdown",
      "metadata": {
        "id": "xK6bRvR7U9T2"
      },
      "source": [
        "Another common metric (and an important one internally for optimizing machine learning models) is the mean squared error. This is simply the average of the square of the errors:\n",
        "\n",
        "$$MSE = \\frac{1}{n}\\sum_i^n(y_i - \\hat{y})^2$$"
      ]
    },
    {
      "cell_type": "code",
      "metadata": {
        "scrolled": true,
        "id": "Q55-cXXMU9T5"
      },
      "source": [
        "#Code task 8#\n",
        "#Calculate the MSE as defined above\n",
        "def mse(y, ypred):\n",
        "    \"\"\"Mean square error.\n",
        "    \n",
        "    Calculate the mean square error of the arguments\n",
        "\n",
        "    Arguments:\n",
        "    y -- the observed values\n",
        "    ypred -- the predicted values\n",
        "    \"\"\"\n",
        "    sq_error = (y-ypred)**2\n",
        "    mse = np.mean(sq_error)\n",
        "    return mse"
      ],
      "execution_count": 201,
      "outputs": []
    },
    {
      "cell_type": "code",
      "metadata": {
        "colab": {
          "base_uri": "https://localhost:8080/"
        },
        "id": "pMKZs4OtU9T5",
        "outputId": "ea35e7dd-bad9-477a-ab88-e8aedf579f06"
      },
      "source": [
        "mse(y_train, y_tr_pred)"
      ],
      "execution_count": 202,
      "outputs": [
        {
          "output_type": "execute_result",
          "data": {
            "text/plain": [
              "614.1334096969057"
            ]
          },
          "metadata": {
            "tags": []
          },
          "execution_count": 202
        }
      ]
    },
    {
      "cell_type": "code",
      "metadata": {
        "colab": {
          "base_uri": "https://localhost:8080/"
        },
        "id": "1G8uv3_YU9T6",
        "outputId": "68233bdf-e945-465a-ea87-2a46c4a68186"
      },
      "source": [
        "mse(y_test, y_te_pred)"
      ],
      "execution_count": 203,
      "outputs": [
        {
          "output_type": "execute_result",
          "data": {
            "text/plain": [
              "581.4365441953481"
            ]
          },
          "metadata": {
            "tags": []
          },
          "execution_count": 203
        }
      ]
    },
    {
      "cell_type": "markdown",
      "metadata": {
        "id": "KPk1lNmmU9T6"
      },
      "source": [
        "So here, you get a slightly better MSE on the test set than you did on the train set. And what does a squared error mean anyway? To convert this back to our measurement space, we often take the square root, to form the _root mean square error_ thus:"
      ]
    },
    {
      "cell_type": "code",
      "metadata": {
        "colab": {
          "base_uri": "https://localhost:8080/"
        },
        "id": "TDoLEB3DU9T6",
        "outputId": "411eda0b-518f-432c-cf8d-27976ae71e38"
      },
      "source": [
        "np.sqrt([mse(y_train, y_tr_pred), mse(y_test, y_te_pred)])"
      ],
      "execution_count": 204,
      "outputs": [
        {
          "output_type": "execute_result",
          "data": {
            "text/plain": [
              "array([24.78171523, 24.11299534])"
            ]
          },
          "metadata": {
            "tags": []
          },
          "execution_count": 204
        }
      ]
    },
    {
      "cell_type": "markdown",
      "metadata": {
        "id": "AbLj2lF8U9T7"
      },
      "source": [
        "### 4.7.2 sklearn metrics<a id='4.7.2_sklearn_metrics'></a>"
      ]
    },
    {
      "cell_type": "markdown",
      "metadata": {
        "id": "XveXfMHlU9T7"
      },
      "source": [
        "Functions are good, but you don't want to have to define functions every time we want to assess performance. `sklearn.metrics` provides many commonly used metrics, included the ones above."
      ]
    },
    {
      "cell_type": "markdown",
      "metadata": {
        "id": "B_CC6ewnU9T7"
      },
      "source": [
        "##### 4.7.2.0.1 R-squared<a id='4.7.2.0.1_R-squared'></a>"
      ]
    },
    {
      "cell_type": "code",
      "metadata": {
        "colab": {
          "base_uri": "https://localhost:8080/"
        },
        "id": "uk7hXRjqU9T7",
        "outputId": "fc486145-d52b-476a-c188-161ca7db6e0e"
      },
      "source": [
        "r2_score(y_train, y_tr_pred), r2_score(y_test, y_te_pred)"
      ],
      "execution_count": 205,
      "outputs": [
        {
          "output_type": "execute_result",
          "data": {
            "text/plain": [
              "(0.0, -0.0031235200417913944)"
            ]
          },
          "metadata": {
            "tags": []
          },
          "execution_count": 205
        }
      ]
    },
    {
      "cell_type": "markdown",
      "metadata": {
        "id": "8VtnNsqdU9T7"
      },
      "source": [
        "##### 4.7.2.0.2 Mean absolute error<a id='4.7.2.0.2_Mean_absolute_error'></a>"
      ]
    },
    {
      "cell_type": "code",
      "metadata": {
        "colab": {
          "base_uri": "https://localhost:8080/"
        },
        "id": "www_iZLLU9T8",
        "outputId": "1324e4c8-4b87-48ee-d050-915b674f9dd2"
      },
      "source": [
        "mean_absolute_error(y_train, y_tr_pred), mean_absolute_error(y_test, y_te_pred)"
      ],
      "execution_count": 206,
      "outputs": [
        {
          "output_type": "execute_result",
          "data": {
            "text/plain": [
              "(17.92346371714677, 19.136142081278486)"
            ]
          },
          "metadata": {
            "tags": []
          },
          "execution_count": 206
        }
      ]
    },
    {
      "cell_type": "markdown",
      "metadata": {
        "id": "7VnkUsm0U9T8"
      },
      "source": [
        "##### 4.7.2.0.3 Mean squared error<a id='4.7.2.0.3_Mean_squared_error'></a>"
      ]
    },
    {
      "cell_type": "code",
      "metadata": {
        "colab": {
          "base_uri": "https://localhost:8080/"
        },
        "id": "X85KkYloU9T8",
        "outputId": "cc7fec10-009e-42b2-ab78-2e5934937302"
      },
      "source": [
        "mean_squared_error(y_train, y_tr_pred), mean_squared_error(y_test, y_te_pred)"
      ],
      "execution_count": 207,
      "outputs": [
        {
          "output_type": "execute_result",
          "data": {
            "text/plain": [
              "(614.1334096969046, 581.4365441953483)"
            ]
          },
          "metadata": {
            "tags": []
          },
          "execution_count": 207
        }
      ]
    },
    {
      "cell_type": "markdown",
      "metadata": {
        "id": "BAcnRoxXU9T8"
      },
      "source": [
        "### 4.7.3 Note On Calculating Metrics<a id='4.7.3_Note_On_Calculating_Metrics'></a>"
      ]
    },
    {
      "cell_type": "markdown",
      "metadata": {
        "id": "yB89a-4FU9T9"
      },
      "source": [
        "When calling functions to calculate metrics, it is important to take care in the order of the arguments. Two of the metrics above actually don't care if the arguments are reversed; one does. Which one cares?"
      ]
    },
    {
      "cell_type": "markdown",
      "metadata": {
        "id": "zVRITPVPU9T9"
      },
      "source": [
        "In a Jupyter code cell, running `r2_score?` will bring up the docstring for the function, and `r2_score??` will bring up the actual code of the function! Try them and compare the source for `sklearn`'s function with yours. Feel free to explore what happens when you reverse the order of the arguments and compare behaviour of `sklearn`'s function and yours."
      ]
    },
    {
      "cell_type": "code",
      "metadata": {
        "colab": {
          "base_uri": "https://localhost:8080/"
        },
        "id": "dZ6inB7eU9T9",
        "outputId": "b4253440-91f7-4f19-c5a3-1b361e489c92"
      },
      "source": [
        "# train set - sklearn\n",
        "# correct order, incorrect order\n",
        "r2_score(y_train, y_tr_pred), r2_score(y_tr_pred, y_train)"
      ],
      "execution_count": 208,
      "outputs": [
        {
          "output_type": "execute_result",
          "data": {
            "text/plain": [
              "(0.0, -3.041041349306602e+30)"
            ]
          },
          "metadata": {
            "tags": []
          },
          "execution_count": 208
        }
      ]
    },
    {
      "cell_type": "code",
      "metadata": {
        "colab": {
          "base_uri": "https://localhost:8080/"
        },
        "id": "R-uSLthiU9T9",
        "outputId": "e1b454d6-87a1-408f-fd10-2e4f18a3aa6d"
      },
      "source": [
        "# test set - sklearn\n",
        "# correct order, incorrect order\n",
        "r2_score(y_test, y_te_pred), r2_score(y_te_pred, y_test)"
      ],
      "execution_count": 209,
      "outputs": [
        {
          "output_type": "execute_result",
          "data": {
            "text/plain": [
              "(-0.0031235200417913944, 0.0)"
            ]
          },
          "metadata": {
            "tags": []
          },
          "execution_count": 209
        }
      ]
    },
    {
      "cell_type": "code",
      "metadata": {
        "colab": {
          "base_uri": "https://localhost:8080/"
        },
        "id": "82EJ9hBIU9T9",
        "outputId": "80c4d439-a8ca-4be5-8a47-5c1388375263"
      },
      "source": [
        "# train set - using our homebrew function\n",
        "# correct order, incorrect order\n",
        "r_squared(y_train, y_tr_pred), r_squared(y_tr_pred, y_train)"
      ],
      "execution_count": 210,
      "outputs": [
        {
          "output_type": "execute_result",
          "data": {
            "text/plain": [
              "(0.0, -3.041041349306602e+30)"
            ]
          },
          "metadata": {
            "tags": []
          },
          "execution_count": 210
        }
      ]
    },
    {
      "cell_type": "code",
      "metadata": {
        "colab": {
          "base_uri": "https://localhost:8080/"
        },
        "id": "Bf-IoV-EU9T-",
        "outputId": "254020ca-4d90-40b0-cab3-e6f24851aaea"
      },
      "source": [
        "# test set - using our homebrew function\n",
        "# correct order, incorrect order\n",
        "r_squared(y_test, y_te_pred), r_squared(y_te_pred, y_test)"
      ],
      "execution_count": 211,
      "outputs": [
        {
          "output_type": "stream",
          "text": [
            "/usr/local/lib/python3.7/dist-packages/ipykernel_launcher.py:15: RuntimeWarning: divide by zero encountered in double_scalars\n",
            "  from ipykernel import kernelapp as app\n"
          ],
          "name": "stderr"
        },
        {
          "output_type": "execute_result",
          "data": {
            "text/plain": [
              "(-0.0031235200417913944, -inf)"
            ]
          },
          "metadata": {
            "tags": []
          },
          "execution_count": 211
        }
      ]
    },
    {
      "cell_type": "markdown",
      "metadata": {
        "id": "gtbLsjNkU9T-"
      },
      "source": [
        "You can get very different results swapping the argument order. It's worth highlighting this because data scientists do this too much in the real world! Don't be one of them! Frequently the argument order doesn't matter, but it will bite you when you do it with a function that does care. It's sloppy, bad practice and if you don't make a habit of putting arguments in the right order, you will forget!\n",
        "\n",
        "Remember:\n",
        "* argument order matters,\n",
        "* check function syntax with `func?` in a code cell"
      ]
    },
    {
      "cell_type": "markdown",
      "metadata": {
        "id": "BJRFdIb6U9T-"
      },
      "source": [
        "## 4.8 Initial Models<a id='4.8_Initial_Models'></a>"
      ]
    },
    {
      "cell_type": "markdown",
      "metadata": {
        "id": "BHhLhm68U9T_"
      },
      "source": [
        "### 4.8.1 Imputing missing feature (predictor) values<a id='4.8.1_Imputing_missing_feature_(predictor)_values'></a>"
      ]
    },
    {
      "cell_type": "markdown",
      "metadata": {
        "id": "e-xJGOeuU9T_"
      },
      "source": [
        "Recall when performing EDA, you imputed (filled in) some missing values in pandas. You did this judiciously for exploratory/visualization purposes. You left many missing values in the data. You can impute missing values using scikit-learn, but note that you should learn values to impute from a train split and apply that to the test split to then assess how well your imputation worked."
      ]
    },
    {
      "cell_type": "markdown",
      "metadata": {
        "id": "cj2XzVT6U9T_"
      },
      "source": [
        "#### 4.8.1.1 Impute missing values with median<a id='4.8.1.1_Impute_missing_values_with_median'></a>"
      ]
    },
    {
      "cell_type": "markdown",
      "metadata": {
        "id": "VVcCPuQfU9T_"
      },
      "source": [
        "There's missing values. Recall from your data exploration that many distributions were skewed. Your first thought might be to impute missing values using the median."
      ]
    },
    {
      "cell_type": "markdown",
      "metadata": {
        "id": "-tZkGNegU9T_"
      },
      "source": [
        "##### 4.8.1.1.1 Learn the values to impute from the train set<a id='4.8.1.1.1_Learn_the_values_to_impute_from_the_train_set'></a>"
      ]
    },
    {
      "cell_type": "code",
      "metadata": {
        "colab": {
          "base_uri": "https://localhost:8080/"
        },
        "id": "qpdDqg8xU9T_",
        "outputId": "0bd5d3ae-38e6-4ff1-84a6-192835a1a59a"
      },
      "source": [
        "# These are the values we'll use to fill in any missing values\n",
        "X_defaults_median = X_train.median()\n",
        "X_defaults_median"
      ],
      "execution_count": 212,
      "outputs": [
        {
          "output_type": "execute_result",
          "data": {
            "text/plain": [
              "summit_elev                           2215.000000\n",
              "vertical_drop                          750.000000\n",
              "base_elev                             1300.000000\n",
              "trams                                    0.000000\n",
              "fastSixes                                0.000000\n",
              "fastQuads                                0.000000\n",
              "quad                                     1.000000\n",
              "triple                                   1.000000\n",
              "double                                   1.000000\n",
              "surface                                  2.000000\n",
              "total_chairs                             7.000000\n",
              "Runs                                    28.000000\n",
              "TerrainParks                             2.000000\n",
              "LongestRun_mi                            1.000000\n",
              "SkiableTerrain_ac                      170.000000\n",
              "Snow Making_ac                          96.500000\n",
              "daysOpenLastYear                       109.000000\n",
              "yearsOpen                               57.000000\n",
              "averageSnowfall                        120.000000\n",
              "projectedDaysOpen                      115.000000\n",
              "NightSkiing_ac                          70.000000\n",
              "resorts_per_state                       15.000000\n",
              "resorts_per_100kcapita                   0.248243\n",
              "resorts_per_100ksq_mile                 22.902162\n",
              "resort_skiable_area_ac_state_ratio       0.051458\n",
              "resort_days_open_state_ratio             0.071225\n",
              "resort_terrain_park_state_ratio          0.069444\n",
              "resort_night_skiing_state_ratio          0.077081\n",
              "total_chairs_runs_ratio                  0.200000\n",
              "total_chairs_skiable_ratio               0.040323\n",
              "fastQuads_runs_ratio                     0.000000\n",
              "fastQuads_skiable_ratio                  0.000000\n",
              "dtype: float64"
            ]
          },
          "metadata": {
            "tags": []
          },
          "execution_count": 212
        }
      ]
    },
    {
      "cell_type": "markdown",
      "metadata": {
        "id": "ar2dNPb_U9UA"
      },
      "source": [
        "##### 4.8.1.1.2 Apply the imputation to both train and test splits<a id='4.8.1.1.2_Apply_the_imputation_to_both_train_and_test_splits'></a>"
      ]
    },
    {
      "cell_type": "code",
      "metadata": {
        "id": "hJT7PXyGU9UA"
      },
      "source": [
        "#Code task 9#\n",
        "#Call `X_train` and `X_test`'s `fillna()` method, passing `X_defaults_median` as the values to use\n",
        "#Assign the results to `X_tr` and `X_te`, respectively\n",
        "X_tr = X_train.fillna(X_defaults_median)\n",
        "X_te = X_test.fillna(X_defaults_median)"
      ],
      "execution_count": 213,
      "outputs": []
    },
    {
      "cell_type": "markdown",
      "metadata": {
        "id": "s4rnp6nbU9UA"
      },
      "source": [
        "##### 4.8.1.1.3 Scale the data<a id='4.8.1.1.3_Scale_the_data'></a>"
      ]
    },
    {
      "cell_type": "markdown",
      "metadata": {
        "id": "_tjQzmZ5U9UA"
      },
      "source": [
        "As you have features measured in many different units, with numbers that vary by orders of magnitude, start off by scaling them to put them all on a consistent scale. The [StandardScaler](https://scikit-learn.org/stable/modules/generated/sklearn.preprocessing.StandardScaler.html) scales each feature to zero mean and unit variance."
      ]
    },
    {
      "cell_type": "code",
      "metadata": {
        "id": "xHG7cJuAU9UA"
      },
      "source": [
        "#Code task 10#\n",
        "#Call the StandardScaler`s fit method on `X_tr` to fit the scaler\n",
        "#then use it's `transform()` method to apply the scaling to both the train and test split\n",
        "#data (`X_tr` and `X_te`), naming the results `X_tr_scaled` and `X_te_scaled`, respectively\n",
        "scaler = StandardScaler()\n",
        "scaler.fit(X_tr)\n",
        "X_tr_scaled = scaler.transform(X_tr)\n",
        "X_te_scaled = scaler.transform(X_te)"
      ],
      "execution_count": 214,
      "outputs": []
    },
    {
      "cell_type": "markdown",
      "metadata": {
        "id": "3q1VDJVOU9UB"
      },
      "source": [
        "##### 4.8.1.1.4 Train the model on the train split<a id='4.8.1.1.4_Train_the_model_on_the_train_split'></a>"
      ]
    },
    {
      "cell_type": "code",
      "metadata": {
        "id": "2Cet_USLU9UB"
      },
      "source": [
        "lm = LinearRegression().fit(X_tr_scaled, y_train)"
      ],
      "execution_count": 215,
      "outputs": []
    },
    {
      "cell_type": "markdown",
      "metadata": {
        "id": "XZSz6BNDU9UB"
      },
      "source": [
        "##### 4.8.1.1.5 Make predictions using the model on both train and test splits<a id='4.8.1.1.5_Make_predictions_using_the_model_on_both_train_and_test_splits'></a>"
      ]
    },
    {
      "cell_type": "code",
      "metadata": {
        "id": "hA3fARcVU9UB"
      },
      "source": [
        "#Code task 11#\n",
        "#Call the `predict()` method of the model (`lm`) on both the (scaled) train and test data\n",
        "#Assign the predictions to `y_tr_pred` and `y_te_pred`, respectively\n",
        "y_tr_pred = lm.predict(X_tr_scaled)\n",
        "y_te_pred = lm.predict(X_te_scaled)"
      ],
      "execution_count": 216,
      "outputs": []
    },
    {
      "cell_type": "markdown",
      "metadata": {
        "id": "vEZT6SwNU9UB"
      },
      "source": [
        "##### 4.8.1.1.6 Assess model performance<a id='4.8.1.1.6_Assess_model_performance'></a>"
      ]
    },
    {
      "cell_type": "code",
      "metadata": {
        "colab": {
          "base_uri": "https://localhost:8080/"
        },
        "id": "uMDRv6PHU9UB",
        "outputId": "41705e65-7a0a-4c25-e960-906cb5af723c"
      },
      "source": [
        "# r^2 - train, test\n",
        "median_r2 = r2_score(y_train, y_tr_pred), r2_score(y_test, y_te_pred)\n",
        "median_r2"
      ],
      "execution_count": 217,
      "outputs": [
        {
          "output_type": "execute_result",
          "data": {
            "text/plain": [
              "(0.8177988515690604, 0.7209725843435146)"
            ]
          },
          "metadata": {
            "tags": []
          },
          "execution_count": 217
        }
      ]
    },
    {
      "cell_type": "markdown",
      "metadata": {
        "id": "7hQXMqwFU9UC"
      },
      "source": [
        "Recall that you estimated ticket price by simply using a known average. As expected, this produced an $R^2$ of zero for both the training and test set, because $R^2$ tells us how much of the variance you're explaining beyond that of using just the mean, and you were using just the mean. Here we see that our simple linear regression model explains over 80% of the variance on the train set and over 70% on the test set. Clearly you are onto something, although the much lower value for the test set suggests you're overfitting somewhat. This isn't a surprise as you've made no effort to select a parsimonious set of features or deal with multicollinearity in our data."
      ]
    },
    {
      "cell_type": "code",
      "metadata": {
        "colab": {
          "base_uri": "https://localhost:8080/"
        },
        "id": "UlLknCiPU9UC",
        "outputId": "ce57e784-5c85-4c6d-959f-a2157072b5ee"
      },
      "source": [
        "#Code task 12#\n",
        "#Now calculate the mean absolute error scores using `sklearn`'s `mean_absolute_error` function\n",
        "# as we did above for R^2\n",
        "# MAE - train, test\n",
        "median_mae = mean_absolute_error(y_train, y_tr_pred), mean_absolute_error(y_test, y_te_pred)\n",
        "median_mae"
      ],
      "execution_count": 218,
      "outputs": [
        {
          "output_type": "execute_result",
          "data": {
            "text/plain": [
              "(8.547850301825424, 9.407020118581316)"
            ]
          },
          "metadata": {
            "tags": []
          },
          "execution_count": 218
        }
      ]
    },
    {
      "cell_type": "markdown",
      "metadata": {
        "id": "qnREjZxGU9UC"
      },
      "source": [
        "Using this model, then, on average you'd expect to estimate a ticket price within \\\\$9 or so of the real price. This is much, much better than the \\\\$19 from just guessing using the average. There may be something to this machine learning lark after all!"
      ]
    },
    {
      "cell_type": "code",
      "metadata": {
        "colab": {
          "base_uri": "https://localhost:8080/"
        },
        "id": "fhaKtOWhU9UC",
        "outputId": "1b4f2b2c-9939-4e84-d75e-d99c1d2ca861"
      },
      "source": [
        "#Code task 13#\n",
        "#And also do the same using `sklearn`'s `mean_squared_error`\n",
        "# MSE - train, test\n",
        "median_mse = mean_squared_error(y_train, y_tr_pred), mean_squared_error(y_test, y_te_pred)\n",
        "median_mse"
      ],
      "execution_count": 219,
      "outputs": [
        {
          "output_type": "execute_result",
          "data": {
            "text/plain": [
              "(111.89581253658478, 161.73156451192264)"
            ]
          },
          "metadata": {
            "tags": []
          },
          "execution_count": 219
        }
      ]
    },
    {
      "cell_type": "markdown",
      "metadata": {
        "id": "207d73HWU9UC"
      },
      "source": [
        "#### 4.8.1.2 Impute missing values with the mean<a id='4.8.1.2_Impute_missing_values_with_the_mean'></a>"
      ]
    },
    {
      "cell_type": "markdown",
      "metadata": {
        "id": "a3Hpu7TyU9UD"
      },
      "source": [
        "You chose to use the median for filling missing values because of the skew of many of our predictor feature distributions. What if you wanted to try something else, such as the mean?"
      ]
    },
    {
      "cell_type": "markdown",
      "metadata": {
        "id": "puiP9bpjU9UD"
      },
      "source": [
        "##### 4.8.1.2.1 Learn the values to impute from the train set<a id='4.8.1.2.1_Learn_the_values_to_impute_from_the_train_set'></a>"
      ]
    },
    {
      "cell_type": "code",
      "metadata": {
        "colab": {
          "base_uri": "https://localhost:8080/"
        },
        "id": "WlZwUk_SU9UD",
        "outputId": "61ddf24d-7997-49ba-9a93-2d539820d359"
      },
      "source": [
        "#Code task 14#\n",
        "#As we did for the median above, calculate mean values for imputing missing values\n",
        "# These are the values we'll use to fill in any missing values\n",
        "X_defaults_mean = X_train.mean()\n",
        "X_defaults_mean"
      ],
      "execution_count": 220,
      "outputs": [
        {
          "output_type": "execute_result",
          "data": {
            "text/plain": [
              "summit_elev                           4074.554404\n",
              "vertical_drop                         1043.196891\n",
              "base_elev                             3020.512953\n",
              "trams                                    0.103627\n",
              "fastSixes                                0.072539\n",
              "fastQuads                                0.673575\n",
              "quad                                     1.010363\n",
              "triple                                   1.440415\n",
              "double                                   1.813472\n",
              "surface                                  2.497409\n",
              "total_chairs                             7.611399\n",
              "Runs                                    41.188482\n",
              "TerrainParks                             2.434783\n",
              "LongestRun_mi                            1.293122\n",
              "SkiableTerrain_ac                      448.785340\n",
              "Snow Making_ac                         129.601190\n",
              "daysOpenLastYear                       110.100629\n",
              "yearsOpen                               56.559585\n",
              "averageSnowfall                        162.310160\n",
              "projectedDaysOpen                      115.920245\n",
              "NightSkiing_ac                          86.384615\n",
              "resorts_per_state                       16.264249\n",
              "resorts_per_100kcapita                   0.424802\n",
              "resorts_per_100ksq_mile                 40.957785\n",
              "resort_skiable_area_ac_state_ratio       0.097205\n",
              "resort_days_open_state_ratio             0.126014\n",
              "resort_terrain_park_state_ratio          0.116022\n",
              "resort_night_skiing_state_ratio          0.155024\n",
              "total_chairs_runs_ratio                  0.271441\n",
              "total_chairs_skiable_ratio               0.070483\n",
              "fastQuads_runs_ratio                     0.010401\n",
              "fastQuads_skiable_ratio                  0.001633\n",
              "dtype: float64"
            ]
          },
          "metadata": {
            "tags": []
          },
          "execution_count": 220
        }
      ]
    },
    {
      "cell_type": "markdown",
      "metadata": {
        "id": "w8DiobSKU9UD"
      },
      "source": [
        "By eye, you can immediately tell that your replacement values are much higher than those from using the median."
      ]
    },
    {
      "cell_type": "markdown",
      "metadata": {
        "id": "Qn_p1U6BU9UD"
      },
      "source": [
        "##### 4.8.1.2.2 Apply the imputation to both train and test splits<a id='4.8.1.2.2_Apply_the_imputation_to_both_train_and_test_splits'></a>"
      ]
    },
    {
      "cell_type": "code",
      "metadata": {
        "id": "0FDqfvh_U9UD"
      },
      "source": [
        "X_tr = X_train.fillna(X_defaults_mean)\n",
        "X_te = X_test.fillna(X_defaults_mean)"
      ],
      "execution_count": 221,
      "outputs": []
    },
    {
      "cell_type": "markdown",
      "metadata": {
        "id": "XIYZgVbeU9UE"
      },
      "source": [
        "##### 4.8.1.2.3 Scale the data<a id='4.8.1.2.3_Scale_the_data'></a>"
      ]
    },
    {
      "cell_type": "code",
      "metadata": {
        "id": "UIWPhmx5U9UE"
      },
      "source": [
        "scaler = StandardScaler()\n",
        "scaler.fit(X_tr)\n",
        "X_tr_scaled = scaler.transform(X_tr)\n",
        "X_te_scaled = scaler.transform(X_te)"
      ],
      "execution_count": 222,
      "outputs": []
    },
    {
      "cell_type": "markdown",
      "metadata": {
        "id": "ZD-SnpcGU9UE"
      },
      "source": [
        "##### 4.8.1.2.4 Train the model on the train split<a id='4.8.1.2.4_Train_the_model_on_the_train_split'></a>"
      ]
    },
    {
      "cell_type": "code",
      "metadata": {
        "id": "9zYZOSSBU9UE"
      },
      "source": [
        "lm = LinearRegression().fit(X_tr_scaled, y_train)"
      ],
      "execution_count": 223,
      "outputs": []
    },
    {
      "cell_type": "markdown",
      "metadata": {
        "id": "eAffHksLU9UE"
      },
      "source": [
        "##### 4.8.1.2.5 Make predictions using the model on both train and test splits<a id='4.8.1.2.5_Make_predictions_using_the_model_on_both_train_and_test_splits'></a>"
      ]
    },
    {
      "cell_type": "code",
      "metadata": {
        "id": "8YofMoFvU9UE"
      },
      "source": [
        "y_tr_pred = lm.predict(X_tr_scaled)\n",
        "y_te_pred = lm.predict(X_te_scaled)"
      ],
      "execution_count": 224,
      "outputs": []
    },
    {
      "cell_type": "markdown",
      "metadata": {
        "id": "4UScn5MvU9UF"
      },
      "source": [
        "##### 4.8.1.2.6 Assess model performance<a id='4.8.1.2.6_Assess_model_performance'></a>"
      ]
    },
    {
      "cell_type": "code",
      "metadata": {
        "colab": {
          "base_uri": "https://localhost:8080/"
        },
        "id": "Bfc5AWb8U9UF",
        "outputId": "40e1e699-b0ba-4f38-f927-131d1931fefb"
      },
      "source": [
        "r2_score(y_train, y_tr_pred), r2_score(y_test, y_te_pred)"
      ],
      "execution_count": 225,
      "outputs": [
        {
          "output_type": "execute_result",
          "data": {
            "text/plain": [
              "(0.8170154093990025, 0.716381471695996)"
            ]
          },
          "metadata": {
            "tags": []
          },
          "execution_count": 225
        }
      ]
    },
    {
      "cell_type": "code",
      "metadata": {
        "colab": {
          "base_uri": "https://localhost:8080/"
        },
        "id": "UVCXav5wU9UF",
        "outputId": "c46f81a8-ca03-4ef3-c4ae-73ab940ba8fe"
      },
      "source": [
        "mean_absolute_error(y_train, y_tr_pred), mean_absolute_error(y_test, y_te_pred)"
      ],
      "execution_count": 226,
      "outputs": [
        {
          "output_type": "execute_result",
          "data": {
            "text/plain": [
              "(8.536884040670973, 9.416375625789273)"
            ]
          },
          "metadata": {
            "tags": []
          },
          "execution_count": 226
        }
      ]
    },
    {
      "cell_type": "code",
      "metadata": {
        "colab": {
          "base_uri": "https://localhost:8080/"
        },
        "id": "9qHHgKVsU9UF",
        "outputId": "404c6131-98e8-49a4-e4e9-886abd61afb9"
      },
      "source": [
        "mean_squared_error(y_train, y_tr_pred), mean_squared_error(y_test, y_te_pred)"
      ],
      "execution_count": 227,
      "outputs": [
        {
          "output_type": "execute_result",
          "data": {
            "text/plain": [
              "(112.37695054778276, 164.3926930952437)"
            ]
          },
          "metadata": {
            "tags": []
          },
          "execution_count": 227
        }
      ]
    },
    {
      "cell_type": "markdown",
      "metadata": {
        "id": "oaLdL7bpU9UG"
      },
      "source": [
        "These results don't seem very different to when you used the median for imputing missing values. Perhaps it doesn't make much difference here. Maybe your overtraining dominates. Maybe other feature transformations, such as taking the log, would help. You could try with just a subset of features rather than using all of them as inputs.\n",
        "\n",
        "To perform the median/mean comparison, you copied and pasted a lot of code just to change the function for imputing missing values. It would make more sense to write a function that performed the sequence of steps:\n",
        "1. impute missing values\n",
        "2. scale the features\n",
        "3. train a model\n",
        "4. calculate model performance\n",
        "\n",
        "But these are common steps and `sklearn` provides something much better than writing custom functions."
      ]
    },
    {
      "cell_type": "markdown",
      "metadata": {
        "id": "iMkH5x8eU9UG"
      },
      "source": [
        "### 4.8.2 Pipelines<a id='4.8.2_Pipelines'></a>"
      ]
    },
    {
      "cell_type": "markdown",
      "metadata": {
        "id": "muz9nr88U9UG"
      },
      "source": [
        "One of the most important and useful components of `sklearn` is the [pipeline](https://scikit-learn.org/stable/modules/generated/sklearn.pipeline.Pipeline.html). In place of `panda`'s `fillna` DataFrame method, there is `sklearn`'s `SimpleImputer`. Remember the first linear model above performed the steps:\n",
        "\n",
        "1. replace missing values with the median for each feature\n",
        "2. scale the data to zero mean and unit variance\n",
        "3. train a linear regression model\n",
        "\n",
        "and all these steps were trained on the train split and then applied to the test split for assessment.\n",
        "\n",
        "The pipeline below defines exactly those same steps. Crucially, the resultant `Pipeline` object has a `fit()` method and a `predict()` method, just like the `LinearRegression()` object itself. Just as you might create a linear regression model and train it with `.fit()` and predict with `.predict()`, you can wrap the entire process of imputing and feature scaling and regression in a single object you can train with `.fit()` and predict with `.predict()`. And that's basically a pipeline: a model on steroids."
      ]
    },
    {
      "cell_type": "markdown",
      "metadata": {
        "id": "2Urz1_K6U9UG"
      },
      "source": [
        "#### 4.8.2.1 Define the pipeline<a id='4.8.2.1_Define_the_pipeline'></a>"
      ]
    },
    {
      "cell_type": "code",
      "metadata": {
        "id": "AFObKGI6U9UG"
      },
      "source": [
        "pipe = make_pipeline(\n",
        "    SimpleImputer(strategy='median'), \n",
        "    StandardScaler(), \n",
        "    LinearRegression()\n",
        ")"
      ],
      "execution_count": 228,
      "outputs": []
    },
    {
      "cell_type": "code",
      "metadata": {
        "colab": {
          "base_uri": "https://localhost:8080/"
        },
        "id": "PCj8iRlmU9UH",
        "outputId": "68dd3176-0e0f-49d5-cfb2-5de3774d9267"
      },
      "source": [
        "type(pipe)"
      ],
      "execution_count": 229,
      "outputs": [
        {
          "output_type": "execute_result",
          "data": {
            "text/plain": [
              "sklearn.pipeline.Pipeline"
            ]
          },
          "metadata": {
            "tags": []
          },
          "execution_count": 229
        }
      ]
    },
    {
      "cell_type": "code",
      "metadata": {
        "colab": {
          "base_uri": "https://localhost:8080/"
        },
        "id": "33EirQcHU9UH",
        "outputId": "480086ea-f847-4dc2-cf24-445178e944c6"
      },
      "source": [
        "hasattr(pipe, 'fit'), hasattr(pipe, 'predict')"
      ],
      "execution_count": 230,
      "outputs": [
        {
          "output_type": "execute_result",
          "data": {
            "text/plain": [
              "(True, True)"
            ]
          },
          "metadata": {
            "tags": []
          },
          "execution_count": 230
        }
      ]
    },
    {
      "cell_type": "markdown",
      "metadata": {
        "id": "3g34dVz3U9UH"
      },
      "source": [
        "#### 4.8.2.2 Fit the pipeline<a id='4.8.2.2_Fit_the_pipeline'></a>"
      ]
    },
    {
      "cell_type": "markdown",
      "metadata": {
        "id": "HMMANolVU9UH"
      },
      "source": [
        "Here, a single call to the pipeline's `fit()` method combines the steps of learning the imputation (determining what values to use to fill the missing ones), the scaling (determining the mean to subtract and the variance to divide by), and then training the model. It does this all in the one call with the training data as arguments."
      ]
    },
    {
      "cell_type": "code",
      "metadata": {
        "colab": {
          "base_uri": "https://localhost:8080/"
        },
        "id": "YA34BtrDU9UH",
        "outputId": "23747a68-6b21-4f60-f8f5-5fe9e3d7f5b3"
      },
      "source": [
        "#Code task 15#\n",
        "#Call the pipe's `fit()` method with `X_train` and `y_train` as arguments\n",
        "pipe.fit(X_train, y_train)"
      ],
      "execution_count": 231,
      "outputs": [
        {
          "output_type": "execute_result",
          "data": {
            "text/plain": [
              "Pipeline(memory=None,\n",
              "         steps=[('simpleimputer',\n",
              "                 SimpleImputer(add_indicator=False, copy=True, fill_value=None,\n",
              "                               missing_values=nan, strategy='median',\n",
              "                               verbose=0)),\n",
              "                ('standardscaler',\n",
              "                 StandardScaler(copy=True, with_mean=True, with_std=True)),\n",
              "                ('linearregression',\n",
              "                 LinearRegression(copy_X=True, fit_intercept=True, n_jobs=None,\n",
              "                                  normalize=False))],\n",
              "         verbose=False)"
            ]
          },
          "metadata": {
            "tags": []
          },
          "execution_count": 231
        }
      ]
    },
    {
      "cell_type": "markdown",
      "metadata": {
        "id": "hiSmNZ5_U9UI"
      },
      "source": [
        "#### 4.8.2.3 Make predictions on the train and test sets<a id='4.8.2.3_Make_predictions_on_the_train_and_test_sets'></a>"
      ]
    },
    {
      "cell_type": "code",
      "metadata": {
        "id": "gGzw_ZkjU9UI"
      },
      "source": [
        "y_tr_pred = pipe.predict(X_train)\n",
        "y_te_pred = pipe.predict(X_test)"
      ],
      "execution_count": 232,
      "outputs": []
    },
    {
      "cell_type": "markdown",
      "metadata": {
        "id": "RZA0nwMaU9UI"
      },
      "source": [
        "#### 4.8.2.4 Assess performance<a id='4.8.2.4_Assess_performance'></a>"
      ]
    },
    {
      "cell_type": "code",
      "metadata": {
        "colab": {
          "base_uri": "https://localhost:8080/"
        },
        "id": "Wou8qgfuU9UI",
        "outputId": "af23fdfb-4d00-4250-8432-a57f1487b938"
      },
      "source": [
        "r2_score(y_train, y_tr_pred), r2_score(y_test, y_te_pred)"
      ],
      "execution_count": 233,
      "outputs": [
        {
          "output_type": "execute_result",
          "data": {
            "text/plain": [
              "(0.8177988515690604, 0.7209725843435146)"
            ]
          },
          "metadata": {
            "tags": []
          },
          "execution_count": 233
        }
      ]
    },
    {
      "cell_type": "markdown",
      "metadata": {
        "id": "9uAQ5n2OU9UJ"
      },
      "source": [
        "And compare with your earlier (non-pipeline) result:"
      ]
    },
    {
      "cell_type": "code",
      "metadata": {
        "colab": {
          "base_uri": "https://localhost:8080/"
        },
        "id": "7dJOZQqpU9UJ",
        "outputId": "0ff98e93-0db4-4695-8890-bb9b1f7576b9"
      },
      "source": [
        "median_r2"
      ],
      "execution_count": 234,
      "outputs": [
        {
          "output_type": "execute_result",
          "data": {
            "text/plain": [
              "(0.8177988515690604, 0.7209725843435146)"
            ]
          },
          "metadata": {
            "tags": []
          },
          "execution_count": 234
        }
      ]
    },
    {
      "cell_type": "code",
      "metadata": {
        "colab": {
          "base_uri": "https://localhost:8080/"
        },
        "id": "dvOgO0_xU9UJ",
        "outputId": "97724c50-a5d6-4e0a-b65d-7f8d500d2f6c"
      },
      "source": [
        "mean_absolute_error(y_train, y_tr_pred), mean_absolute_error(y_test, y_te_pred)"
      ],
      "execution_count": 235,
      "outputs": [
        {
          "output_type": "execute_result",
          "data": {
            "text/plain": [
              "(8.547850301825424, 9.407020118581316)"
            ]
          },
          "metadata": {
            "tags": []
          },
          "execution_count": 235
        }
      ]
    },
    {
      "cell_type": "code",
      "metadata": {
        "id": "0RA2-NK_U9UJ"
      },
      "source": [
        "#Compare with your earlier result:"
      ],
      "execution_count": 236,
      "outputs": []
    },
    {
      "cell_type": "code",
      "metadata": {
        "colab": {
          "base_uri": "https://localhost:8080/"
        },
        "id": "HAj0HfQMU9UJ",
        "outputId": "6889747a-723d-43fd-887f-d54fda20730b"
      },
      "source": [
        "median_mae"
      ],
      "execution_count": 237,
      "outputs": [
        {
          "output_type": "execute_result",
          "data": {
            "text/plain": [
              "(8.547850301825424, 9.407020118581316)"
            ]
          },
          "metadata": {
            "tags": []
          },
          "execution_count": 237
        }
      ]
    },
    {
      "cell_type": "code",
      "metadata": {
        "colab": {
          "base_uri": "https://localhost:8080/"
        },
        "id": "i4qbfSlnU9UK",
        "outputId": "37befb42-9912-4f6f-de09-efe2dcced8ed"
      },
      "source": [
        "mean_squared_error(y_train, y_tr_pred), mean_squared_error(y_test, y_te_pred)"
      ],
      "execution_count": 238,
      "outputs": [
        {
          "output_type": "execute_result",
          "data": {
            "text/plain": [
              "(111.89581253658478, 161.73156451192264)"
            ]
          },
          "metadata": {
            "tags": []
          },
          "execution_count": 238
        }
      ]
    },
    {
      "cell_type": "markdown",
      "metadata": {
        "id": "ITpfqbJQU9UK"
      },
      "source": [
        "Compare with your earlier result:"
      ]
    },
    {
      "cell_type": "code",
      "metadata": {
        "colab": {
          "base_uri": "https://localhost:8080/"
        },
        "id": "_tO640tNU9UL",
        "outputId": "9bda5178-af90-44ce-873b-342bea50aef1"
      },
      "source": [
        "median_mse"
      ],
      "execution_count": 239,
      "outputs": [
        {
          "output_type": "execute_result",
          "data": {
            "text/plain": [
              "(111.89581253658478, 161.73156451192264)"
            ]
          },
          "metadata": {
            "tags": []
          },
          "execution_count": 239
        }
      ]
    },
    {
      "cell_type": "markdown",
      "metadata": {
        "id": "Dj9OnoV1U9UL"
      },
      "source": [
        "These results confirm the pipeline is doing exactly what's expected, and results are identical to your earlier steps. This allows you to move faster but with confidence."
      ]
    },
    {
      "cell_type": "markdown",
      "metadata": {
        "id": "7dmMdgNNU9UL"
      },
      "source": [
        "## 4.9 Refining The Linear Model<a id='4.9_Refining_The_Linear_Model'></a>"
      ]
    },
    {
      "cell_type": "markdown",
      "metadata": {
        "id": "j-3oZRByU9UM"
      },
      "source": [
        "You suspected the model was overfitting. This is no real surprise given the number of features you blindly used. It's likely a judicious subset of features would generalize better. `sklearn` has a number of feature selection functions available. The one you'll use here is `SelectKBest` which, as you might guess, selects the k best features. You can read about SelectKBest \n",
        "[here](https://scikit-learn.org/stable/modules/generated/sklearn.feature_selection.SelectKBest.html#sklearn.feature_selection.SelectKBest). `f_regression` is just the [score function](https://scikit-learn.org/stable/modules/generated/sklearn.feature_selection.f_regression.html#sklearn.feature_selection.f_regression) you're using because you're performing regression. It's important to choose an appropriate one for your machine learning task."
      ]
    },
    {
      "cell_type": "markdown",
      "metadata": {
        "id": "eR79g6jlU9UM"
      },
      "source": [
        "### 4.9.1 Define the pipeline<a id='4.9.1_Define_the_pipeline'></a>"
      ]
    },
    {
      "cell_type": "markdown",
      "metadata": {
        "id": "EzhToQGtU9UM"
      },
      "source": [
        "Redefine your pipeline to include this feature selection step:"
      ]
    },
    {
      "cell_type": "code",
      "metadata": {
        "id": "HYffPKxmU9UM"
      },
      "source": [
        "#Code task 16#\n",
        "#Add `SelectKBest` as a step in the pipeline between `StandardScaler()` and `LinearRegression()`\n",
        "#Don't forget to tell it to use `f_regression` as its score function\n",
        "pipe = make_pipeline(\n",
        "    SimpleImputer(strategy='median'), \n",
        "    StandardScaler(),\n",
        "    SelectKBest(f_regression),\n",
        "    LinearRegression()\n",
        ")"
      ],
      "execution_count": 240,
      "outputs": []
    },
    {
      "cell_type": "markdown",
      "metadata": {
        "id": "1H913YZ7U9UN"
      },
      "source": [
        "### 4.9.2 Fit the pipeline<a id='4.9.2_Fit_the_pipeline'></a>"
      ]
    },
    {
      "cell_type": "code",
      "metadata": {
        "colab": {
          "base_uri": "https://localhost:8080/"
        },
        "id": "MjbtwwWvU9UN",
        "outputId": "90a0b549-d57b-455f-ed9a-3cd0643ea3f7"
      },
      "source": [
        "pipe.fit(X_train, y_train)"
      ],
      "execution_count": 241,
      "outputs": [
        {
          "output_type": "execute_result",
          "data": {
            "text/plain": [
              "Pipeline(memory=None,\n",
              "         steps=[('simpleimputer',\n",
              "                 SimpleImputer(add_indicator=False, copy=True, fill_value=None,\n",
              "                               missing_values=nan, strategy='median',\n",
              "                               verbose=0)),\n",
              "                ('standardscaler',\n",
              "                 StandardScaler(copy=True, with_mean=True, with_std=True)),\n",
              "                ('selectkbest',\n",
              "                 SelectKBest(k=10,\n",
              "                             score_func=<function f_regression at 0x7ff737d319e0>)),\n",
              "                ('linearregression',\n",
              "                 LinearRegression(copy_X=True, fit_intercept=True, n_jobs=None,\n",
              "                                  normalize=False))],\n",
              "         verbose=False)"
            ]
          },
          "metadata": {
            "tags": []
          },
          "execution_count": 241
        }
      ]
    },
    {
      "cell_type": "markdown",
      "metadata": {
        "id": "YTr2iPDCU9UN"
      },
      "source": [
        "### 4.9.3 Assess performance on the train and test set<a id='4.9.3_Assess_performance_on_the_train_and_test_set'></a>"
      ]
    },
    {
      "cell_type": "code",
      "metadata": {
        "id": "DsTm9YN5U9UO"
      },
      "source": [
        "y_tr_pred = pipe.predict(X_train)\n",
        "y_te_pred = pipe.predict(X_test)"
      ],
      "execution_count": 242,
      "outputs": []
    },
    {
      "cell_type": "code",
      "metadata": {
        "colab": {
          "base_uri": "https://localhost:8080/"
        },
        "id": "WCortoqSU9UO",
        "outputId": "8475461f-376b-4db0-b380-e4f170dd574c"
      },
      "source": [
        "r2_score(y_train, y_tr_pred), r2_score(y_test, y_te_pred)"
      ],
      "execution_count": 243,
      "outputs": [
        {
          "output_type": "execute_result",
          "data": {
            "text/plain": [
              "(0.7674914326052744, 0.6259877354190837)"
            ]
          },
          "metadata": {
            "tags": []
          },
          "execution_count": 243
        }
      ]
    },
    {
      "cell_type": "code",
      "metadata": {
        "colab": {
          "base_uri": "https://localhost:8080/"
        },
        "id": "9HXXjUHxU9UP",
        "outputId": "64ed2852-9759-4cf7-fc53-ea0bdfe81fed"
      },
      "source": [
        "mean_absolute_error(y_train, y_tr_pred), mean_absolute_error(y_test, y_te_pred)"
      ],
      "execution_count": 244,
      "outputs": [
        {
          "output_type": "execute_result",
          "data": {
            "text/plain": [
              "(9.501495079727484, 11.20183019033205)"
            ]
          },
          "metadata": {
            "tags": []
          },
          "execution_count": 244
        }
      ]
    },
    {
      "cell_type": "markdown",
      "metadata": {
        "id": "zq9xKh75U9UP"
      },
      "source": [
        "This has made things worse! Clearly selecting a subset of features has an impact on performance. `SelectKBest` defaults to k=10. You've just seen that 10 is worse than using all features. What is the best k? You could create a new pipeline with a different value of k:"
      ]
    },
    {
      "cell_type": "markdown",
      "metadata": {
        "id": "LGZcl8IZU9UP"
      },
      "source": [
        "### 4.9.4 Define a new pipeline to select a different number of features<a id='4.9.4_Define_a_new_pipeline_to_select_a_different_number_of_features'></a>"
      ]
    },
    {
      "cell_type": "code",
      "metadata": {
        "id": "qhJaBchLU9UQ"
      },
      "source": [
        "#Code task 17#\n",
        "#Modify the `SelectKBest` step to use a value of 15 for k\n",
        "pipe15 = make_pipeline(\n",
        "    SimpleImputer(strategy='median'), \n",
        "    StandardScaler(),\n",
        "    SelectKBest(f_regression, k=15),\n",
        "    LinearRegression()\n",
        ")"
      ],
      "execution_count": 245,
      "outputs": []
    },
    {
      "cell_type": "markdown",
      "metadata": {
        "id": "_BGPWlLDU9UQ"
      },
      "source": [
        "### 4.9.5 Fit the pipeline<a id='4.9.5_Fit_the_pipeline'></a>"
      ]
    },
    {
      "cell_type": "code",
      "metadata": {
        "colab": {
          "base_uri": "https://localhost:8080/"
        },
        "id": "mk2mt0ooU9UQ",
        "outputId": "32736cc4-4dc0-4053-b6d6-ee32256c13fe"
      },
      "source": [
        "pipe15.fit(X_train, y_train)"
      ],
      "execution_count": 246,
      "outputs": [
        {
          "output_type": "execute_result",
          "data": {
            "text/plain": [
              "Pipeline(memory=None,\n",
              "         steps=[('simpleimputer',\n",
              "                 SimpleImputer(add_indicator=False, copy=True, fill_value=None,\n",
              "                               missing_values=nan, strategy='median',\n",
              "                               verbose=0)),\n",
              "                ('standardscaler',\n",
              "                 StandardScaler(copy=True, with_mean=True, with_std=True)),\n",
              "                ('selectkbest',\n",
              "                 SelectKBest(k=15,\n",
              "                             score_func=<function f_regression at 0x7ff737d319e0>)),\n",
              "                ('linearregression',\n",
              "                 LinearRegression(copy_X=True, fit_intercept=True, n_jobs=None,\n",
              "                                  normalize=False))],\n",
              "         verbose=False)"
            ]
          },
          "metadata": {
            "tags": []
          },
          "execution_count": 246
        }
      ]
    },
    {
      "cell_type": "markdown",
      "metadata": {
        "id": "4NDtAIIUU9UQ"
      },
      "source": [
        "### 4.9.6 Assess performance on train and test data<a id='4.9.6_Assess_performance_on_train_and_test_data'></a>"
      ]
    },
    {
      "cell_type": "code",
      "metadata": {
        "id": "B6HOHHNtU9UR"
      },
      "source": [
        "y_tr_pred = pipe15.predict(X_train)\n",
        "y_te_pred = pipe15.predict(X_test)"
      ],
      "execution_count": 247,
      "outputs": []
    },
    {
      "cell_type": "code",
      "metadata": {
        "colab": {
          "base_uri": "https://localhost:8080/"
        },
        "id": "ROZGA5nrU9UR",
        "outputId": "74a94eea-2d91-49da-937b-1958cfb30b73"
      },
      "source": [
        "r2_score(y_train, y_tr_pred), r2_score(y_test, y_te_pred)"
      ],
      "execution_count": 248,
      "outputs": [
        {
          "output_type": "execute_result",
          "data": {
            "text/plain": [
              "(0.7924096060483825, 0.6376199973170797)"
            ]
          },
          "metadata": {
            "tags": []
          },
          "execution_count": 248
        }
      ]
    },
    {
      "cell_type": "code",
      "metadata": {
        "colab": {
          "base_uri": "https://localhost:8080/"
        },
        "id": "e9FC0mJMU9UR",
        "outputId": "62265f66-3d01-45fa-ac55-96814fa04b9e"
      },
      "source": [
        "mean_absolute_error(y_train, y_tr_pred), mean_absolute_error(y_test, y_te_pred)"
      ],
      "execution_count": 249,
      "outputs": [
        {
          "output_type": "execute_result",
          "data": {
            "text/plain": [
              "(9.211767769307114, 10.488246867294356)"
            ]
          },
          "metadata": {
            "tags": []
          },
          "execution_count": 249
        }
      ]
    },
    {
      "cell_type": "markdown",
      "metadata": {
        "id": "tXHGRHhaU9UR"
      },
      "source": [
        "You could keep going, trying different values of k, training a model, measuring performance on the test set, and then picking the model with the best test set performance. There's a fundamental problem with this approach: _you're tuning the model to the arbitrary test set_! If you continue this way you'll end up with a model works well on the particular quirks of our test set _but fails to generalize to new data_. The whole point of keeping a test set is for it to be a set of that new data, to check how well our model might perform on data it hasn't seen.\n",
        "\n",
        "The way around this is a technique called _cross-validation_. You partition the training set into k folds, train our model on k-1 of those folds, and calculate performance on the fold not used in training. This procedure then cycles through k times with a different fold held back each time. Thus you end up building k models on k sets of data with k estimates of how the model performs on unseen data but without having to touch the test set."
      ]
    },
    {
      "cell_type": "markdown",
      "metadata": {
        "id": "fp_hofVjU9US"
      },
      "source": [
        "### 4.9.7 Assessing performance using cross-validation<a id='4.9.7_Assessing_performance_using_cross-validation'></a>"
      ]
    },
    {
      "cell_type": "code",
      "metadata": {
        "id": "jjcvEDNaU9US"
      },
      "source": [
        "cv_results = cross_validate(pipe15, X_train, y_train, cv=5)"
      ],
      "execution_count": 250,
      "outputs": []
    },
    {
      "cell_type": "code",
      "metadata": {
        "colab": {
          "base_uri": "https://localhost:8080/"
        },
        "id": "MhxEnTilU9US",
        "outputId": "858d2d94-e7b9-4268-98d9-2d9eb17ee842"
      },
      "source": [
        "cv_scores = cv_results['test_score']\n",
        "cv_scores"
      ],
      "execution_count": 251,
      "outputs": [
        {
          "output_type": "execute_result",
          "data": {
            "text/plain": [
              "array([0.63760862, 0.72831381, 0.74443537, 0.5487915 , 0.50441472])"
            ]
          },
          "metadata": {
            "tags": []
          },
          "execution_count": 251
        }
      ]
    },
    {
      "cell_type": "markdown",
      "metadata": {
        "id": "YLIK8ZTLU9US"
      },
      "source": [
        "Without using the same random state for initializing the CV folds, your actual numbers will be different."
      ]
    },
    {
      "cell_type": "code",
      "metadata": {
        "colab": {
          "base_uri": "https://localhost:8080/"
        },
        "id": "Fhr0ZCRAU9US",
        "outputId": "7cb5687d-0165-48cd-b7e7-f69bb8dd75a2"
      },
      "source": [
        "np.mean(cv_scores), np.std(cv_scores)"
      ],
      "execution_count": 252,
      "outputs": [
        {
          "output_type": "execute_result",
          "data": {
            "text/plain": [
              "(0.6327128053007864, 0.09502487849877701)"
            ]
          },
          "metadata": {
            "tags": []
          },
          "execution_count": 252
        }
      ]
    },
    {
      "cell_type": "markdown",
      "metadata": {
        "id": "gUs__jymU9US"
      },
      "source": [
        "These results highlight that assessing model performance in inherently open to variability. You'll get different results depending on the quirks of which points are in which fold. An advantage of this is that you can also obtain an estimate of the variability, or uncertainty, in your performance estimate."
      ]
    },
    {
      "cell_type": "code",
      "metadata": {
        "colab": {
          "base_uri": "https://localhost:8080/"
        },
        "id": "dYb5Ck4cU9UT",
        "outputId": "71de696f-3593-44ac-87ae-3381802a7325"
      },
      "source": [
        "np.round((np.mean(cv_scores) - 2 * np.std(cv_scores), np.mean(cv_scores) + 2 * np.std(cv_scores)), 2)"
      ],
      "execution_count": 253,
      "outputs": [
        {
          "output_type": "execute_result",
          "data": {
            "text/plain": [
              "array([0.44, 0.82])"
            ]
          },
          "metadata": {
            "tags": []
          },
          "execution_count": 253
        }
      ]
    },
    {
      "cell_type": "markdown",
      "metadata": {
        "id": "JnFA3R6hU9UT"
      },
      "source": [
        "### 4.9.8 Hyperparameter search using GridSearchCV<a id='4.9.8_Hyperparameter_search_using_GridSearchCV'></a>"
      ]
    },
    {
      "cell_type": "markdown",
      "metadata": {
        "id": "FpLQ_rKkU9UT"
      },
      "source": [
        "Pulling the above together, we have:\n",
        "* a pipeline that\n",
        "    * imputes missing values\n",
        "    * scales the data\n",
        "    * selects the k best features\n",
        "    * trains a linear regression model\n",
        "* a technique (cross-validation) for estimating model performance\n",
        "\n",
        "Now you want to use cross-validation for multiple values of k and use cross-validation to pick the value of k that gives the best performance. `make_pipeline` automatically names each step as the lowercase name of the step and the parameters of the step are then accessed by appending a double underscore followed by the parameter name. You know the name of the step will be 'selectkbest' and you know the parameter is 'k'.\n",
        "\n",
        "You can also list the names of all the parameters in a pipeline like this:"
      ]
    },
    {
      "cell_type": "code",
      "metadata": {
        "colab": {
          "base_uri": "https://localhost:8080/"
        },
        "id": "8Ets8fBXU9UT",
        "outputId": "bf6aa54d-a4d2-4fdf-aa18-aa2e67b7de8a"
      },
      "source": [
        "#Code task 18#\n",
        "#Call `pipe`'s `get_params()` method to get a dict of available parameters and print their names\n",
        "#using dict's `keys()` method\n",
        "pipe.get_params().keys()"
      ],
      "execution_count": 254,
      "outputs": [
        {
          "output_type": "execute_result",
          "data": {
            "text/plain": [
              "dict_keys(['memory', 'steps', 'verbose', 'simpleimputer', 'standardscaler', 'selectkbest', 'linearregression', 'simpleimputer__add_indicator', 'simpleimputer__copy', 'simpleimputer__fill_value', 'simpleimputer__missing_values', 'simpleimputer__strategy', 'simpleimputer__verbose', 'standardscaler__copy', 'standardscaler__with_mean', 'standardscaler__with_std', 'selectkbest__k', 'selectkbest__score_func', 'linearregression__copy_X', 'linearregression__fit_intercept', 'linearregression__n_jobs', 'linearregression__normalize'])"
            ]
          },
          "metadata": {
            "tags": []
          },
          "execution_count": 254
        }
      ]
    },
    {
      "cell_type": "markdown",
      "metadata": {
        "id": "SRcht8QxU9UT"
      },
      "source": [
        "The above can be particularly useful as your pipelines becomes more complex (you can even nest pipelines within pipelines)."
      ]
    },
    {
      "cell_type": "code",
      "metadata": {
        "id": "gtCTNU5fU9UU"
      },
      "source": [
        "k = [k+1 for k in range(len(X_train.columns))]\n",
        "grid_params = {'selectkbest__k': k}"
      ],
      "execution_count": 255,
      "outputs": []
    },
    {
      "cell_type": "markdown",
      "metadata": {
        "id": "lrcrj9o3U9UU"
      },
      "source": [
        "Now you have a range of `k` to investigate. Is 1 feature best? 2? 3? 4? All of them? You could write a for loop and iterate over each possible value, doing all the housekeeping oyurselves to track the best value of k. But this is  a common task so there's a built in function in `sklearn`. This is [`GridSearchCV`](https://scikit-learn.org/stable/modules/generated/sklearn.model_selection.GridSearchCV.html).\n",
        "This takes the pipeline object, in fact it takes anything with a `.fit()` and `.predict()` method. In simple cases with no feature selection or imputation or feature scaling etc. you may see the classifier or regressor object itself directly passed into `GridSearchCV`. The other key input is the parameters and values to search over. Optional parameters include the cross-validation strategy and number of CPUs to use."
      ]
    },
    {
      "cell_type": "code",
      "metadata": {
        "id": "CCiQ5YMeU9UU"
      },
      "source": [
        "lr_grid_cv = GridSearchCV(pipe, param_grid=grid_params, cv=5, n_jobs=-1)"
      ],
      "execution_count": 256,
      "outputs": []
    },
    {
      "cell_type": "code",
      "metadata": {
        "colab": {
          "base_uri": "https://localhost:8080/"
        },
        "id": "MFRMWit8U9UU",
        "outputId": "50526a57-f6d5-4c45-9b4b-eaa26bd4c6e7"
      },
      "source": [
        "lr_grid_cv.fit(X_train, y_train)"
      ],
      "execution_count": 257,
      "outputs": [
        {
          "output_type": "execute_result",
          "data": {
            "text/plain": [
              "GridSearchCV(cv=5, error_score=nan,\n",
              "             estimator=Pipeline(memory=None,\n",
              "                                steps=[('simpleimputer',\n",
              "                                        SimpleImputer(add_indicator=False,\n",
              "                                                      copy=True,\n",
              "                                                      fill_value=None,\n",
              "                                                      missing_values=nan,\n",
              "                                                      strategy='median',\n",
              "                                                      verbose=0)),\n",
              "                                       ('standardscaler',\n",
              "                                        StandardScaler(copy=True,\n",
              "                                                       with_mean=True,\n",
              "                                                       with_std=True)),\n",
              "                                       ('selectkbest',\n",
              "                                        SelectKBest(k=10,\n",
              "                                                    score_func=<function f_regression at 0x7ff737d319e0>)),\n",
              "                                       ('linearregression',\n",
              "                                        LinearRegression(copy_X=True,\n",
              "                                                         fit_intercept=True,\n",
              "                                                         n_jobs=None,\n",
              "                                                         normalize=False))],\n",
              "                                verbose=False),\n",
              "             iid='deprecated', n_jobs=-1,\n",
              "             param_grid={'selectkbest__k': [1, 2, 3, 4, 5, 6, 7, 8, 9, 10, 11,\n",
              "                                            12, 13, 14, 15, 16, 17, 18, 19, 20,\n",
              "                                            21, 22, 23, 24, 25, 26, 27, 28, 29,\n",
              "                                            30, ...]},\n",
              "             pre_dispatch='2*n_jobs', refit=True, return_train_score=False,\n",
              "             scoring=None, verbose=0)"
            ]
          },
          "metadata": {
            "tags": []
          },
          "execution_count": 257
        }
      ]
    },
    {
      "cell_type": "code",
      "metadata": {
        "id": "DeXln0A9U9UU"
      },
      "source": [
        "score_mean = lr_grid_cv.cv_results_['mean_test_score']\n",
        "score_std = lr_grid_cv.cv_results_['std_test_score']\n",
        "cv_k = [k for k in lr_grid_cv.cv_results_['param_selectkbest__k']]"
      ],
      "execution_count": 258,
      "outputs": []
    },
    {
      "cell_type": "code",
      "metadata": {
        "colab": {
          "base_uri": "https://localhost:8080/"
        },
        "id": "oRmYEaxHU9UV",
        "outputId": "220f8715-b1ac-4824-e201-a3fc98ea7528"
      },
      "source": [
        "#Code task 19#\n",
        "#Print the `best_params_` attribute of `lr_grid_cv`\n",
        "lr_grid_cv.best_params_"
      ],
      "execution_count": 259,
      "outputs": [
        {
          "output_type": "execute_result",
          "data": {
            "text/plain": [
              "{'selectkbest__k': 8}"
            ]
          },
          "metadata": {
            "tags": []
          },
          "execution_count": 259
        }
      ]
    },
    {
      "cell_type": "code",
      "metadata": {
        "colab": {
          "base_uri": "https://localhost:8080/",
          "height": 350
        },
        "id": "QgRDNQclU9UV",
        "outputId": "a0cd212d-20b5-4b96-a4ee-c96cbc33810e"
      },
      "source": [
        "#Code task 20#\n",
        "#Assign the value of k from the above dict of `best_params_` and assign it to `best_k`\n",
        "best_k = lr_grid_cv.best_params_['selectkbest__k']\n",
        "plt.subplots(figsize=(10, 5))\n",
        "plt.errorbar(cv_k, score_mean, yerr=score_std)\n",
        "plt.axvline(x=best_k, c='r', ls='--', alpha=.5)\n",
        "plt.xlabel('k')\n",
        "plt.ylabel('CV score (r-squared)')\n",
        "plt.title('Pipeline mean CV score (error bars +/- 1sd)');"
      ],
      "execution_count": 260,
      "outputs": [
        {
          "output_type": "display_data",
          "data": {
            "image/png": "[encoded data removed]",
            "text/plain": [
              "<Figure size 720x360 with 1 Axes>"
            ]
          },
          "metadata": {
            "tags": [],
            "needs_background": "light"
          }
        }
      ]
    },
    {
      "cell_type": "markdown",
      "metadata": {
        "id": "FwZOw9JHU9UV"
      },
      "source": [
        "The above suggests a good value for k is 8. There was an initial rapid increase with k, followed by a slow decline. Also noticeable is the variance of the results greatly increase above k=8. As you increasingly overfit, expect greater swings in performance as different points move in and out of the train/test folds."
      ]
    },
    {
      "cell_type": "markdown",
      "metadata": {
        "id": "epW5cNajU9UV"
      },
      "source": [
        "Which features were most useful? Step into your best model, shown below. Starting with the fitted grid search object, you get the best estimator, then the named step 'selectkbest', for which you can its `get_support()` method for a logical mask of the features selected."
      ]
    },
    {
      "cell_type": "code",
      "metadata": {
        "id": "WgTZ3rz9U9UV"
      },
      "source": [
        "selected = lr_grid_cv.best_estimator_.named_steps.selectkbest.get_support()"
      ],
      "execution_count": 261,
      "outputs": []
    },
    {
      "cell_type": "markdown",
      "metadata": {
        "id": "BciW5E6LU9UV"
      },
      "source": [
        "Similarly, instead of using the 'selectkbest' named step, you can access the named step for the linear regression model and, from that, grab the model coefficients via its `coef_` attribute:"
      ]
    },
    {
      "cell_type": "code",
      "metadata": {
        "colab": {
          "base_uri": "https://localhost:8080/"
        },
        "id": "obufhaUMU9UW",
        "outputId": "ac84c260-87ce-4a6c-83a5-b3bb1e8cbf78"
      },
      "source": [
        "#Code task 21#\n",
        "#Get the linear model coefficients from the `coef_` attribute and store in `coefs`,\n",
        "#get the matching feature names from the column names of the dataframe,\n",
        "#and display the results as a pandas Series with `coefs` as the values and `features` as the index,\n",
        "#sorting the values in descending order\n",
        "coefs = lr_grid_cv.best_estimator_.named_steps.linearregression.coef_\n",
        "features = X_train.columns[selected]\n",
        "pd.Series(coefs, index=features).sort_values(ascending=False)"
      ],
      "execution_count": 262,
      "outputs": [
        {
          "output_type": "execute_result",
          "data": {
            "text/plain": [
              "vertical_drop        10.767857\n",
              "Snow Making_ac        6.290074\n",
              "total_chairs          5.794156\n",
              "fastQuads             5.745626\n",
              "Runs                  5.370555\n",
              "LongestRun_mi         0.181814\n",
              "trams                -4.142024\n",
              "SkiableTerrain_ac    -5.249780\n",
              "dtype: float64"
            ]
          },
          "metadata": {
            "tags": []
          },
          "execution_count": 262
        }
      ]
    },
    {
      "cell_type": "markdown",
      "metadata": {
        "id": "-Ys83go1U9UW"
      },
      "source": [
        "These results suggest that vertical drop is your biggest positive feature. This makes intuitive sense and is consistent with what you saw during the EDA work. Also, you see the area covered by snow making equipment is a strong positive as well. People like guaranteed skiing! The skiable terrain area is negatively associated with ticket price! This seems odd. People will pay less for larger resorts? There could be all manner of reasons for this. It could be  an effect whereby larger resorts can host more visitors at any one time and so can charge less per ticket. As has been mentioned previously, the data are missing information about visitor numbers. Bear in mind,  the coefficient for skiable terrain is negative _for this model_. For example, if you kept the total number of chairs and fastQuads constant, but increased the skiable terrain extent, you might imagine the resort is worse off because the chairlift capacity is stretched thinner."
      ]
    },
    {
      "cell_type": "markdown",
      "metadata": {
        "id": "rG5i3QD9U9UW"
      },
      "source": [
        "## 4.10 Random Forest Model<a id='4.10_Random_Forest_Model'></a>"
      ]
    },
    {
      "cell_type": "markdown",
      "metadata": {
        "id": "JrpNN4WsU9UW"
      },
      "source": [
        "A model that can work very well in a lot of cases is the random forest. For regression, this is provided by `sklearn`'s `RandomForestRegressor` class.\n",
        "\n",
        "Time to stop the bad practice of repeatedly checking performance on the test split. Instead, go straight from defining the pipeline to assessing performance using cross-validation. `cross_validate` will perform the fitting as part of the process. This uses the default settings for the random forest so you'll then proceed to investigate some different hyperparameters."
      ]
    },
    {
      "cell_type": "markdown",
      "metadata": {
        "id": "JP4Ksjy_U9UX"
      },
      "source": [
        "### 4.10.1 Define the pipeline<a id='4.10.1_Define_the_pipeline'></a>"
      ]
    },
    {
      "cell_type": "code",
      "metadata": {
        "id": "MtUkVszMU9UX"
      },
      "source": [
        "#Code task 22#\n",
        "#Define a pipeline comprising the steps:\n",
        "#SimpleImputer() with a strategy of 'median'\n",
        "#StandardScaler(),\n",
        "#and then RandomForestRegressor() with a random state of 47\n",
        "RF_pipe = make_pipeline(\n",
        "    SimpleImputer(strategy='median'),\n",
        "    StandardScaler(),\n",
        "    RandomForestRegressor(random_state=47)\n",
        ")"
      ],
      "execution_count": 263,
      "outputs": []
    },
    {
      "cell_type": "markdown",
      "metadata": {
        "id": "rLJ3UN8JU9UX"
      },
      "source": [
        "### 4.10.2 Fit and assess performance using cross-validation<a id='4.10.2_Fit_and_assess_performance_using_cross-validation'></a>"
      ]
    },
    {
      "cell_type": "code",
      "metadata": {
        "id": "w5Fb4j9cU9UX"
      },
      "source": [
        "#Code task 23#\n",
        "#Call `cross_validate` to estimate the pipeline's performance.\n",
        "#Pass it the random forest pipe object, `X_train` and `y_train`,\n",
        "#and get it to use 5-fold cross-validation\n",
        "rf_default_cv_results = cross_validate(RF_pipe, X_train, y_train, cv=5)"
      ],
      "execution_count": 264,
      "outputs": []
    },
    {
      "cell_type": "code",
      "metadata": {
        "colab": {
          "base_uri": "https://localhost:8080/"
        },
        "id": "YAEApx2CU9UX",
        "outputId": "2540d184-c5a2-477e-bf99-185330394490"
      },
      "source": [
        "rf_cv_scores = rf_default_cv_results['test_score']\n",
        "rf_cv_scores"
      ],
      "execution_count": 265,
      "outputs": [
        {
          "output_type": "execute_result",
          "data": {
            "text/plain": [
              "array([0.6877383 , 0.77987845, 0.77753583, 0.62190924, 0.61794573])"
            ]
          },
          "metadata": {
            "tags": []
          },
          "execution_count": 265
        }
      ]
    },
    {
      "cell_type": "code",
      "metadata": {
        "colab": {
          "base_uri": "https://localhost:8080/"
        },
        "id": "7ZH3Q1_WU9UX",
        "outputId": "ea7e357e-275f-4c88-a7ea-0eab5b4bd7c3"
      },
      "source": [
        "np.mean(rf_cv_scores), np.std(rf_cv_scores)"
      ],
      "execution_count": 266,
      "outputs": [
        {
          "output_type": "execute_result",
          "data": {
            "text/plain": [
              "(0.6970015087370294, 0.07117420491358241)"
            ]
          },
          "metadata": {
            "tags": []
          },
          "execution_count": 266
        }
      ]
    },
    {
      "cell_type": "markdown",
      "metadata": {
        "id": "hNZma2j9U9UY"
      },
      "source": [
        "### 4.10.3 Hyperparameter search using GridSearchCV<a id='4.10.3_Hyperparameter_search_using_GridSearchCV'></a>"
      ]
    },
    {
      "cell_type": "markdown",
      "metadata": {
        "id": "1l-6bbbzU9UY"
      },
      "source": [
        "Random forest has a number of hyperparameters that can be explored, however here you'll limit yourselves to exploring some different values for the number of trees. You'll try it with and without feature scaling, and try both the mean and median as strategies for imputing missing values."
      ]
    },
    {
      "cell_type": "code",
      "metadata": {
        "colab": {
          "base_uri": "https://localhost:8080/"
        },
        "id": "B3A-93idU9UY",
        "outputId": "376c4533-e270-49a3-ba79-e8ac1a8e5dee"
      },
      "source": [
        "n_est = [int(n) for n in np.logspace(start=1, stop=3, num=20)]\n",
        "grid_params = {\n",
        "        'randomforestregressor__n_estimators': n_est,\n",
        "        'standardscaler': [StandardScaler(), None],\n",
        "        'simpleimputer__strategy': ['mean', 'median']\n",
        "}\n",
        "grid_params"
      ],
      "execution_count": 267,
      "outputs": [
        {
          "output_type": "execute_result",
          "data": {
            "text/plain": [
              "{'randomforestregressor__n_estimators': [10,\n",
              "  12,\n",
              "  16,\n",
              "  20,\n",
              "  26,\n",
              "  33,\n",
              "  42,\n",
              "  54,\n",
              "  69,\n",
              "  88,\n",
              "  112,\n",
              "  143,\n",
              "  183,\n",
              "  233,\n",
              "  297,\n",
              "  379,\n",
              "  483,\n",
              "  615,\n",
              "  784,\n",
              "  1000],\n",
              " 'simpleimputer__strategy': ['mean', 'median'],\n",
              " 'standardscaler': [StandardScaler(copy=True, with_mean=True, with_std=True),\n",
              "  None]}"
            ]
          },
          "metadata": {
            "tags": []
          },
          "execution_count": 267
        }
      ]
    },
    {
      "cell_type": "code",
      "metadata": {
        "id": "K5iLmFY9U9UY"
      },
      "source": [
        "#Code task 24#\n",
        "#Call `GridSearchCV` with the random forest pipeline, passing in the above `grid_params`\n",
        "#dict for parameters to evaluate, 5-fold cross-validation, and all available CPU cores (if desired)\n",
        "rf_grid_cv = GridSearchCV(RF_pipe, param_grid=grid_params, cv=5, n_jobs=-1)"
      ],
      "execution_count": 268,
      "outputs": []
    },
    {
      "cell_type": "code",
      "metadata": {
        "colab": {
          "base_uri": "https://localhost:8080/"
        },
        "id": "4kpgGWE0U9UZ",
        "outputId": "4963f23e-4e07-41a4-c789-6dea035a7ec7"
      },
      "source": [
        "#Code task 25#\n",
        "#Now call the `GridSearchCV`'s `fit()` method with `X_train` and `y_train` as arguments\n",
        "#to actually start the grid search. This may take a minute or two.\n",
        "rf_grid_cv.fit(X_train, y_train)"
      ],
      "execution_count": 269,
      "outputs": [
        {
          "output_type": "execute_result",
          "data": {
            "text/plain": [
              "GridSearchCV(cv=5, error_score=nan,\n",
              "             estimator=Pipeline(memory=None,\n",
              "                                steps=[('simpleimputer',\n",
              "                                        SimpleImputer(add_indicator=False,\n",
              "                                                      copy=True,\n",
              "                                                      fill_value=None,\n",
              "                                                      missing_values=nan,\n",
              "                                                      strategy='median',\n",
              "                                                      verbose=0)),\n",
              "                                       ('standardscaler',\n",
              "                                        StandardScaler(copy=True,\n",
              "                                                       with_mean=True,\n",
              "                                                       with_std=True)),\n",
              "                                       ('randomforestregressor',\n",
              "                                        RandomForestRegressor(bootstrap=True,\n",
              "                                                              ccp_alpha=0.0,\n",
              "                                                              cr...\n",
              "             iid='deprecated', n_jobs=-1,\n",
              "             param_grid={'randomforestregressor__n_estimators': [10, 12, 16, 20,\n",
              "                                                                 26, 33, 42, 54,\n",
              "                                                                 69, 88, 112,\n",
              "                                                                 143, 183, 233,\n",
              "                                                                 297, 379, 483,\n",
              "                                                                 615, 784,\n",
              "                                                                 1000],\n",
              "                         'simpleimputer__strategy': ['mean', 'median'],\n",
              "                         'standardscaler': [StandardScaler(copy=True,\n",
              "                                                           with_mean=True,\n",
              "                                                           with_std=True),\n",
              "                                            None]},\n",
              "             pre_dispatch='2*n_jobs', refit=True, return_train_score=False,\n",
              "             scoring=None, verbose=0)"
            ]
          },
          "metadata": {
            "tags": []
          },
          "execution_count": 269
        }
      ]
    },
    {
      "cell_type": "code",
      "metadata": {
        "id": "VETepEgUU9UZ",
        "colab": {
          "base_uri": "https://localhost:8080/"
        },
        "outputId": "5ef6212e-2d43-4e55-9289-a060ee15775d"
      },
      "source": [
        "#Code task 26#\n",
        "#Print the best params (`best_params_` attribute) from the grid search\n",
        "rf_grid_cv.best_params_"
      ],
      "execution_count": 270,
      "outputs": [
        {
          "output_type": "execute_result",
          "data": {
            "text/plain": [
              "{'randomforestregressor__n_estimators': 69,\n",
              " 'simpleimputer__strategy': 'median',\n",
              " 'standardscaler': None}"
            ]
          },
          "metadata": {
            "tags": []
          },
          "execution_count": 270
        }
      ]
    },
    {
      "cell_type": "markdown",
      "metadata": {
        "id": "CTaGlQpUU9UZ"
      },
      "source": [
        "It looks like imputing with the median helps, but scaling the features doesn't."
      ]
    },
    {
      "cell_type": "code",
      "metadata": {
        "id": "Me9ysfwcU9Ua",
        "colab": {
          "base_uri": "https://localhost:8080/"
        },
        "outputId": "df299b59-438b-44ac-dd5d-64c6c2db8481"
      },
      "source": [
        "rf_best_cv_results = cross_validate(rf_grid_cv.best_estimator_, X_train, y_train, cv=5)\n",
        "rf_best_scores = rf_best_cv_results['test_score']\n",
        "rf_best_scores"
      ],
      "execution_count": 271,
      "outputs": [
        {
          "output_type": "execute_result",
          "data": {
            "text/plain": [
              "array([0.68961442, 0.79593861, 0.77128447, 0.62254707, 0.66142192])"
            ]
          },
          "metadata": {
            "tags": []
          },
          "execution_count": 271
        }
      ]
    },
    {
      "cell_type": "code",
      "metadata": {
        "id": "Kh3q_hHEU9Ua",
        "colab": {
          "base_uri": "https://localhost:8080/"
        },
        "outputId": "12e1df4a-9a2e-4e9d-a4b2-f32a4abbe794"
      },
      "source": [
        "np.mean(rf_best_scores), np.std(rf_best_scores)"
      ],
      "execution_count": 272,
      "outputs": [
        {
          "output_type": "execute_result",
          "data": {
            "text/plain": [
              "(0.7081612973109424, 0.06564715369819316)"
            ]
          },
          "metadata": {
            "tags": []
          },
          "execution_count": 272
        }
      ]
    },
    {
      "cell_type": "markdown",
      "metadata": {
        "id": "Ulhb_rHeU9Ua"
      },
      "source": [
        "You've marginally improved upon the default CV results. Random forest has many more hyperparameters you could tune, but we won't dive into that here."
      ]
    },
    {
      "cell_type": "code",
      "metadata": {
        "colab": {
          "base_uri": "https://localhost:8080/",
          "height": 511
        },
        "id": "NVKpDkACU9Ub",
        "outputId": "e719806c-ecb7-45ba-a3dc-97ccf5df2138"
      },
      "source": [
        "#Code task 27#\n",
        "#Plot a barplot of the random forest's feature importances,\n",
        "#assigning the `feature_importances_` attribute of \n",
        "#`rf_grid_cv.best_estimator_.named_steps.randomforestregressor` to the name `imps` to then\n",
        "#create a pandas Series object of the feature importances, with the index given by the\n",
        "#training data column names, sorting the values in descending order\n",
        "plt.subplots(figsize=(10, 5))\n",
        "imps = rf_grid_cv.best_estimator_.named_steps.randomforestregressor.feature_importances_\n",
        "rf_feat_imps = pd.Series(imps, index=X_train.columns).sort_values(ascending=False)\n",
        "rf_feat_imps.plot(kind='bar')\n",
        "plt.xlabel('features')\n",
        "plt.ylabel('importance')\n",
        "plt.title('Best random forest regressor feature importances');"
      ],
      "execution_count": 276,
      "outputs": [
        {
          "output_type": "display_data",
          "data": {
            "image/png": "[encoded data removed]",
            "text/plain": [
              "<Figure size 720x360 with 1 Axes>"
            ]
          },
          "metadata": {
            "tags": [],
            "needs_background": "light"
          }
        }
      ]
    },
    {
      "cell_type": "markdown",
      "metadata": {
        "id": "QHuTVwfuU9Ub"
      },
      "source": [
        "Encouragingly, the dominant top four features are in common with your linear model:\n",
        "* fastQuads\n",
        "* Runs\n",
        "* Snow Making_ac\n",
        "* vertical_drop"
      ]
    },
    {
      "cell_type": "markdown",
      "metadata": {
        "id": "I22KBg20U9Ub"
      },
      "source": [
        "## 4.11 Final Model Selection<a id='4.11_Final_Model_Selection'></a>"
      ]
    },
    {
      "cell_type": "markdown",
      "metadata": {
        "id": "Owhwoda9U9Ub"
      },
      "source": [
        "Time to select your final model to use for further business modeling! It would be good to revisit the above model selection; there is undoubtedly more that could be done to explore possible hyperparameters.\n",
        "It would also be worthwhile to investigate removing the least useful features. Gathering or calculating, and storing, features adds business cost and dependencies, so if features genuinely are not needed they should be removed.\n",
        "Building a simpler model with fewer features can also have the advantage of being easier to sell (and/or explain) to stakeholders.\n",
        "Certainly there seem to be four strong features here and so a model using only those would probably work well.\n",
        "However, you want to explore some different scenarios where other features vary so keep the fuller \n",
        "model for now. \n",
        "The business is waiting for this model and you have something that you have confidence in to be much better than guessing with the average price.\n",
        "\n",
        "Or, rather, you have two \"somethings\". You built a best linear model and a best random forest model. You need to finally choose between them. You can calculate the mean absolute error using cross-validation. Although `cross-validate` defaults to the $R^2$ [metric for scoring](https://scikit-learn.org/stable/modules/model_evaluation.html#scoring) regression, you can specify the mean absolute error as an alternative via\n",
        "the `scoring` parameter."
      ]
    },
    {
      "cell_type": "markdown",
      "metadata": {
        "id": "EwfPH3qlU9Ub"
      },
      "source": [
        "### 4.11.1 Linear regression model performance<a id='4.11.1_Linear_regression_model_performance'></a>"
      ]
    },
    {
      "cell_type": "code",
      "metadata": {
        "id": "I3agwj4mU9Uc"
      },
      "source": [
        "# 'neg_mean_absolute_error' uses the (negative of) the mean absolute error\n",
        "lr_neg_mae = cross_validate(lr_grid_cv.best_estimator_, X_train, y_train, \n",
        "                            scoring='neg_mean_absolute_error', cv=5, n_jobs=-1)"
      ],
      "execution_count": 277,
      "outputs": []
    },
    {
      "cell_type": "code",
      "metadata": {
        "colab": {
          "base_uri": "https://localhost:8080/"
        },
        "id": "Rspt-DiuU9Uc",
        "outputId": "9744ae33-5bf1-4619-a2c9-4212726b63d3"
      },
      "source": [
        "lr_mae_mean = np.mean(-1 * lr_neg_mae['test_score'])\n",
        "lr_mae_std = np.std(-1 * lr_neg_mae['test_score'])\n",
        "lr_mae_mean, lr_mae_std"
      ],
      "execution_count": 278,
      "outputs": [
        {
          "output_type": "execute_result",
          "data": {
            "text/plain": [
              "(10.499032338015294, 1.6220608976799658)"
            ]
          },
          "metadata": {
            "tags": []
          },
          "execution_count": 278
        }
      ]
    },
    {
      "cell_type": "code",
      "metadata": {
        "colab": {
          "base_uri": "https://localhost:8080/"
        },
        "id": "aGiOMM-iU9Uc",
        "outputId": "318e6d4f-b17d-404b-da3e-202959efb9c5"
      },
      "source": [
        "mean_absolute_error(y_test, lr_grid_cv.best_estimator_.predict(X_test))"
      ],
      "execution_count": 279,
      "outputs": [
        {
          "output_type": "execute_result",
          "data": {
            "text/plain": [
              "11.793465668669327"
            ]
          },
          "metadata": {
            "tags": []
          },
          "execution_count": 279
        }
      ]
    },
    {
      "cell_type": "markdown",
      "metadata": {
        "id": "JASNolWwU9Uc"
      },
      "source": [
        "### 4.11.2 Random forest regression model performance<a id='4.11.2_Random_forest_regression_model_performance'></a>"
      ]
    },
    {
      "cell_type": "code",
      "metadata": {
        "id": "YBUzanyLU9Uc"
      },
      "source": [
        "rf_neg_mae = cross_validate(rf_grid_cv.best_estimator_, X_train, y_train, \n",
        "                            scoring='neg_mean_absolute_error', cv=5, n_jobs=-1)"
      ],
      "execution_count": 280,
      "outputs": []
    },
    {
      "cell_type": "code",
      "metadata": {
        "id": "DN4HYJpuU9Ud",
        "colab": {
          "base_uri": "https://localhost:8080/"
        },
        "outputId": "5b44b348-6580-4976-f28a-f4d29f9dfbd6"
      },
      "source": [
        "rf_mae_mean = np.mean(-1 * rf_neg_mae['test_score'])\n",
        "rf_mae_std = np.std(-1 * rf_neg_mae['test_score'])\n",
        "rf_mae_mean, rf_mae_std"
      ],
      "execution_count": 281,
      "outputs": [
        {
          "output_type": "execute_result",
          "data": {
            "text/plain": [
              "(9.659539811066127, 1.3496029127071227)"
            ]
          },
          "metadata": {
            "tags": []
          },
          "execution_count": 281
        }
      ]
    },
    {
      "cell_type": "code",
      "metadata": {
        "id": "5RDDLbSMU9Ue",
        "colab": {
          "base_uri": "https://localhost:8080/"
        },
        "outputId": "a858aed3-af97-44ae-fce4-1cabe3462e62"
      },
      "source": [
        "mean_absolute_error(y_test, rf_grid_cv.best_estimator_.predict(X_test))"
      ],
      "execution_count": 282,
      "outputs": [
        {
          "output_type": "execute_result",
          "data": {
            "text/plain": [
              "9.495505500261919"
            ]
          },
          "metadata": {
            "tags": []
          },
          "execution_count": 282
        }
      ]
    },
    {
      "cell_type": "markdown",
      "metadata": {
        "id": "925gYPgsU9Ue"
      },
      "source": [
        "### 4.11.3 Conclusion<a id='4.11.3_Conclusion'></a>"
      ]
    },
    {
      "cell_type": "markdown",
      "metadata": {
        "id": "r9kGMNUzU9Ue"
      },
      "source": [
        "The random forest model has a lower cross-validation mean absolute error by almost \\\\$1. It also exhibits less variability. Verifying performance on the test set produces performance consistent with the cross-validation results."
      ]
    },
    {
      "cell_type": "markdown",
      "metadata": {
        "id": "xEIonAkwU9Ue"
      },
      "source": [
        "## 4.12 Data quantity assessment<a id='4.12_Data_quantity_assessment'></a>"
      ]
    },
    {
      "cell_type": "markdown",
      "metadata": {
        "id": "ivs0KiYcU9Ue"
      },
      "source": [
        "Finally, you need to advise the business whether it needs to undertake further data collection. Would more data be useful? We're often led to believe more data is always good, but gathering data invariably has a cost associated with it. Assess this trade off by seeing how performance varies with differing data set sizes. The `learning_curve` function does this conveniently."
      ]
    },
    {
      "cell_type": "code",
      "metadata": {
        "id": "oaSK13IHU9Uf"
      },
      "source": [
        "fractions = [.2, .25, .3, .35, .4, .45, .5, .6, .75, .8, 1.0]\n",
        "train_size, train_scores, test_scores = learning_curve(pipe, X_train, y_train, train_sizes=fractions)\n",
        "train_scores_mean = np.mean(train_scores, axis=1)\n",
        "train_scores_std = np.std(train_scores, axis=1)\n",
        "test_scores_mean = np.mean(test_scores, axis=1)\n",
        "test_scores_std = np.std(test_scores, axis=1)"
      ],
      "execution_count": 283,
      "outputs": []
    },
    {
      "cell_type": "code",
      "metadata": {
        "colab": {
          "base_uri": "https://localhost:8080/",
          "height": 350
        },
        "id": "wA1R2CuBU9Uf",
        "outputId": "a8920c2b-904c-4429-df57-a1fc7f23c909"
      },
      "source": [
        "plt.subplots(figsize=(10, 5))\n",
        "plt.errorbar(train_size, test_scores_mean, yerr=test_scores_std)\n",
        "plt.xlabel('Training set size')\n",
        "plt.ylabel('CV scores')\n",
        "plt.title('Cross-validation score as training set size increases');"
      ],
      "execution_count": 284,
      "outputs": [
        {
          "output_type": "display_data",
          "data": {
            "image/png": "[encoded data removed]",
            "text/plain": [
              "<Figure size 720x360 with 1 Axes>"
            ]
          },
          "metadata": {
            "tags": [],
            "needs_background": "light"
          }
        }
      ]
    },
    {
      "cell_type": "markdown",
      "metadata": {
        "id": "UD028tueU9Uf"
      },
      "source": [
        "This shows that you seem to have plenty of data. There's an initial rapid improvement in model scores as one would expect, but it's essentially levelled off by around a sample size of 40-50."
      ]
    },
    {
      "cell_type": "markdown",
      "metadata": {
        "id": "V94I3KfNU9Uf"
      },
      "source": [
        "## 4.13 Save best model object from pipeline<a id='4.13_Save_best_model_object_from_pipeline'></a>"
      ]
    },
    {
      "cell_type": "code",
      "metadata": {
        "id": "9lrPTBkzU9Ug"
      },
      "source": [
        "#Code task 28#\n",
        "#This may not be \"production grade ML deployment\" practice, but adding some basic\n",
        "#information to your saved models can save your bacon in development.\n",
        "#Just what version model have you just loaded to reuse? What version of `sklearn`\n",
        "#created it? When did you make it?\n",
        "#Assign the pandas version number (`pd.__version__`) to the `pandas_version` attribute,\n",
        "#the numpy version (`np.__version__`) to the `numpy_version` attribute,\n",
        "#the sklearn version (`sklearn_version`) to the `sklearn_version` attribute,\n",
        "#and the current datetime (`datetime.datetime.now()`) to the `build_datetime` attribute\n",
        "#Let's call this model version '1.0'\n",
        "best_model = rf_grid_cv.best_estimator_\n",
        "best_model.version = 1\n",
        "best_model.pandas_version = pd.__version__\n",
        "best_model.numpy_version = np.__version__\n",
        "best_model.sklearn_version = sklearn_version\n",
        "best_model.X_columns = [col for col in X_train.columns]\n",
        "best_model.build_datetime = datetime.datetime.now()"
      ],
      "execution_count": 285,
      "outputs": []
    },
    {
      "cell_type": "code",
      "metadata": {
        "id": "a3VUePljU9Ug",
        "colab": {
          "base_uri": "https://localhost:8080/"
        },
        "outputId": "d29d354e-3530-41c6-8c48-9f6fb187dd25"
      },
      "source": [
        "# save the model\n",
        "\n",
        "modelpath = '/'\n",
        "save_file(best_model, 'ski_resort_pricing_model.pkl', modelpath)"
      ],
      "execution_count": 288,
      "outputs": [
        {
          "output_type": "stream",
          "text": [
            "Writing file.  \"/ski_resort_pricing_model.pkl\"\n"
          ],
          "name": "stdout"
        }
      ]
    },
    {
      "cell_type": "markdown",
      "metadata": {
        "id": "-TIPWJGYU9Ug"
      },
      "source": [
        "## 4.14 Summary<a id='4.14_Summary'></a>"
      ]
    },
    {
      "cell_type": "markdown",
      "metadata": {
        "id": "CpBvMMn6U9Ug"
      },
      "source": [
        "**Q: 1** Write a summary of the work in this notebook. Capture the fact that you gained a baseline idea of performance by simply taking the average price and how well that did. Then highlight that you built a linear model and the features that found. Comment on the estimate of its performance from cross-validation and whether its performance on the test split was consistent with this estimate. Also highlight that a random forest regressor was tried, what preprocessing steps were found to be best, and again what its estimated performance via cross-validation was and whether its performance on the test set was consistent with that. State which model you have decided to use going forwards and why. This summary should provide a quick overview for someone wanting to know quickly why the given model was chosen for the next part of the business problem to help guide important business decisions."
      ]
    },
    {
      "cell_type": "markdown",
      "metadata": {
        "id": "5GvnLPK2U9Uh"
      },
      "source": [
        "**A: 1** Write a summary of the work in this notebook. \n",
        "\n",
        "This workbook was an introduction to creating a predictive model.  It began by using a simple average price of the price at other resorts as a baseline predictor.  This gave a ballpark number that while somewhat usable, was clearly not accurate enough.  \n",
        "\n",
        "A linear model was then built, using the attributes of the ski resorts in the data file.  This model was trained on one set of data, then tested on another set to determine accuracy of predictions.  The model was much more accurate than the simple average, showing the power of using a predictive model over relatively simple mathematical functions.  A pipline was built, which packages together different functions/processing steps in a coherent sequence for re-use.  The pipeline method is new to me.  \n",
        "\n",
        "With the pipeline, parameters of the model could be altered, allowing for model tuning and the selection of the model with the best resuls.  This was the result of cross-validation, and the results were decent and usable, as to be expected after model tuning.  So the conclusion is that a linear model can be used.  For any business partner with a business education and basic statistical undersanding, it could be explained that his model performs a linear regression and the partner would understand at a high level what is going on.  Ths most important features were *vertical_drop, Snow Making_ac, total_chairs* and *fastQuads*.  \n",
        "\n",
        "A random forest regressor was also build, and the most important features were found to be *fastQuads*, *Runs*,\n",
        "*Snow Making_ac*, *vertical_drop*. This model had a Mean Absolute Error (MAE) of 9.496, while the Linear model had an MAE of 11.793.  This random forest model is much more accurate, and going forward will be the preferred model for this analysis.  It would be a little more difficult to explain the mechanics of Random Forest models to partners, but since it is much more accurate it would be a much better model.\n",
        "\n",
        "Also highlight that a random forest regressor was tried, what preprocessing steps were found to be best, and again what its estimated performance via cross-validation was and whether its performance on the test set was consistent with that. \n",
        "\n"
      ]
    }
  ]
}