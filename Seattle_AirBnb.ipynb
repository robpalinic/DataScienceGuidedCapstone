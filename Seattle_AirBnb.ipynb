{
  "nbformat": 4,
  "nbformat_minor": 0,
  "metadata": {
    "colab": {
      "name": "Seattle AirBnb.ipynb",
      "provenance": [],
      "collapsed_sections": [],
      "mount_file_id": "1mPPnJJg1VY064CeqpnLbT43iyJ6jQV8G",
      "authorship_tag": "ABX9TyOu+5GnINCRXoRdO/4xwL/P",
      "include_colab_link": true
    },
    "kernelspec": {
      "name": "python3",
      "display_name": "Python 3"
    },
    "language_info": {
      "name": "python"
    }
  },
  "cells": [
    {
      "cell_type": "markdown",
      "metadata": {
        "id": "view-in-github",
        "colab_type": "text"
      },
      "source": [
        "<a href=\"https://colab.research.google.com/github/robpalinic/DataScienceGuidedCapstone/blob/master/Seattle_AirBnb.ipynb\" target=\"_parent\"><img src=\"https://colab.research.google.com/assets/colab-badge.svg\" alt=\"Open In Colab\"/></a>"
      ]
    },
    {
      "cell_type": "markdown",
      "metadata": {
        "id": "bnCPNuBiLsLZ"
      },
      "source": [
        "# **Optimizing the Seattle AirBnB market**\n",
        "Hosts that have high occupancy rates (above 90%) may be underpricing their units, but may not know an ideal price to charge. Conversely, the rest of the market may have low occupancy due to factors under their control that they do not know about.\n",
        "\n",
        "The goal is to create a model that can inform decision making to maximize overall revenue. The dataset will be segmented into neighbourhood and rental type, then further divided into two by high occupancy vs. regular units.\n",
        "\n",
        "A model will then be trained on the non-90% occupancy units, or 'regular' units', to identify price and which features lead to higher prices. Ideally, these features will be controllable by the host. Both linear regression and random forest models will be built, with the most accurate model being chosen.\n",
        "\n",
        "This model will then be applied to the high occupancy hosts and determine if they are priced well or below-market.\n",
        "\n",
        "There will be two outputs from this project: recommended prices for high occupancy hosts, and potential improvements for regular hosts. The overall market will then be analyzed with potential changes."
      ]
    },
    {
      "cell_type": "markdown",
      "metadata": {
        "id": "lcXQpvXeL-er"
      },
      "source": [
        "## **Step 1: Data Collection**\n",
        "Data was sourced from Kaggle, which had a dataset for one year for Seattle by unit, as well as a separate file for reviews that can be linked to this file if necessary.\n",
        "\n",
        "An important portion of this analysis will revolve around occupancy rates, which are not part of the data set. Analysis from insideairbnb.com, which analyzes AirBnB data, suggests that half of the guests leave reviews. As review counts are part of the dataset, a heuristic analysis should be possible. Some data munging may be needed to determine the occupancy rate.\n",
        "\n",
        "The original data: https://www.kaggle.com/airbnb/seattle\n",
        "\n",
        "The Occupancy Model: http://insideairbnb.com/about.html#The%20Occupancy%20Model"
      ]
    },
    {
      "cell_type": "code",
      "metadata": {
        "id": "MDTQcx9DMnc6"
      },
      "source": [
        "import pandas as pd\n",
        "import matplotlib.pyplot as plt\n",
        "import datetime as dt"
      ],
      "execution_count": 324,
      "outputs": []
    },
    {
      "cell_type": "code",
      "metadata": {
        "id": "gqEwUt8aO2K8"
      },
      "source": [
        "listings = pd.read_csv('/content/drive/MyDrive/Seattle AirBnb/listings.csv')"
      ],
      "execution_count": 325,
      "outputs": []
    },
    {
      "cell_type": "markdown",
      "metadata": {
        "id": "SPE4C3KXMISk"
      },
      "source": [
        "## **Step 2:  Data Definition**\n",
        "The goal of this step is to gain an understanding of the data I have, the number of records, the types of fields, etc.  This will help inform both the data cleansing portion as well as give an understanding of features which will be used."
      ]
    },
    {
      "cell_type": "code",
      "metadata": {
        "colab": {
          "base_uri": "https://localhost:8080/"
        },
        "id": "ennaHTaqNd0Z",
        "outputId": "d887fac0-4b2a-4b38-a188-4b94defc2191"
      },
      "source": [
        "listings.shape"
      ],
      "execution_count": 326,
      "outputs": [
        {
          "output_type": "execute_result",
          "data": {
            "text/plain": [
              "(3818, 92)"
            ]
          },
          "metadata": {
            "tags": []
          },
          "execution_count": 326
        }
      ]
    },
    {
      "cell_type": "code",
      "metadata": {
        "colab": {
          "base_uri": "https://localhost:8080/"
        },
        "id": "Ms5zw2zMOl8g",
        "outputId": "f5d24c95-03d5-4f81-f3b7-6ad959f68065"
      },
      "source": [
        "listings.columns"
      ],
      "execution_count": 327,
      "outputs": [
        {
          "output_type": "execute_result",
          "data": {
            "text/plain": [
              "Index(['id', 'listing_url', 'scrape_id', 'last_scraped', 'name', 'summary',\n",
              "       'space', 'description', 'experiences_offered', 'neighborhood_overview',\n",
              "       'notes', 'transit', 'thumbnail_url', 'medium_url', 'picture_url',\n",
              "       'xl_picture_url', 'host_id', 'host_url', 'host_name', 'host_since',\n",
              "       'host_location', 'host_about', 'host_response_time',\n",
              "       'host_response_rate', 'host_acceptance_rate', 'host_is_superhost',\n",
              "       'host_thumbnail_url', 'host_picture_url', 'host_neighbourhood',\n",
              "       'host_listings_count', 'host_total_listings_count',\n",
              "       'host_verifications', 'host_has_profile_pic', 'host_identity_verified',\n",
              "       'street', 'neighbourhood', 'neighbourhood_cleansed',\n",
              "       'neighbourhood_group_cleansed', 'city', 'state', 'zipcode', 'market',\n",
              "       'smart_location', 'country_code', 'country', 'latitude', 'longitude',\n",
              "       'is_location_exact', 'property_type', 'room_type', 'accommodates',\n",
              "       'bathrooms', 'bedrooms', 'beds', 'bed_type', 'amenities', 'square_feet',\n",
              "       'price', 'weekly_price', 'monthly_price', 'security_deposit',\n",
              "       'cleaning_fee', 'guests_included', 'extra_people', 'minimum_nights',\n",
              "       'maximum_nights', 'calendar_updated', 'has_availability',\n",
              "       'availability_30', 'availability_60', 'availability_90',\n",
              "       'availability_365', 'calendar_last_scraped', 'number_of_reviews',\n",
              "       'first_review', 'last_review', 'review_scores_rating',\n",
              "       'review_scores_accuracy', 'review_scores_cleanliness',\n",
              "       'review_scores_checkin', 'review_scores_communication',\n",
              "       'review_scores_location', 'review_scores_value', 'requires_license',\n",
              "       'license', 'jurisdiction_names', 'instant_bookable',\n",
              "       'cancellation_policy', 'require_guest_profile_picture',\n",
              "       'require_guest_phone_verification', 'calculated_host_listings_count',\n",
              "       'reviews_per_month'],\n",
              "      dtype='object')"
            ]
          },
          "metadata": {
            "tags": []
          },
          "execution_count": 327
        }
      ]
    },
    {
      "cell_type": "code",
      "metadata": {
        "colab": {
          "base_uri": "https://localhost:8080/",
          "height": 381
        },
        "id": "PylmuLTYOmi8",
        "outputId": "91fa088a-acb9-469d-ba00-bb796b4871ea"
      },
      "source": [
        "listings.head(2)"
      ],
      "execution_count": 328,
      "outputs": [
        {
          "output_type": "execute_result",
          "data": {
            "text/html": [
              "<div>\n",
              "<style scoped>\n",
              "    .dataframe tbody tr th:only-of-type {\n",
              "        vertical-align: middle;\n",
              "    }\n",
              "\n",
              "    .dataframe tbody tr th {\n",
              "        vertical-align: top;\n",
              "    }\n",
              "\n",
              "    .dataframe thead th {\n",
              "        text-align: right;\n",
              "    }\n",
              "</style>\n",
              "<table border=\"1\" class=\"dataframe\">\n",
              "  <thead>\n",
              "    <tr style=\"text-align: right;\">\n",
              "      <th></th>\n",
              "      <th>id</th>\n",
              "      <th>listing_url</th>\n",
              "      <th>scrape_id</th>\n",
              "      <th>last_scraped</th>\n",
              "      <th>name</th>\n",
              "      <th>summary</th>\n",
              "      <th>space</th>\n",
              "      <th>description</th>\n",
              "      <th>experiences_offered</th>\n",
              "      <th>neighborhood_overview</th>\n",
              "      <th>notes</th>\n",
              "      <th>transit</th>\n",
              "      <th>thumbnail_url</th>\n",
              "      <th>medium_url</th>\n",
              "      <th>picture_url</th>\n",
              "      <th>xl_picture_url</th>\n",
              "      <th>host_id</th>\n",
              "      <th>host_url</th>\n",
              "      <th>host_name</th>\n",
              "      <th>host_since</th>\n",
              "      <th>host_location</th>\n",
              "      <th>host_about</th>\n",
              "      <th>host_response_time</th>\n",
              "      <th>host_response_rate</th>\n",
              "      <th>host_acceptance_rate</th>\n",
              "      <th>host_is_superhost</th>\n",
              "      <th>host_thumbnail_url</th>\n",
              "      <th>host_picture_url</th>\n",
              "      <th>host_neighbourhood</th>\n",
              "      <th>host_listings_count</th>\n",
              "      <th>host_total_listings_count</th>\n",
              "      <th>host_verifications</th>\n",
              "      <th>host_has_profile_pic</th>\n",
              "      <th>host_identity_verified</th>\n",
              "      <th>street</th>\n",
              "      <th>neighbourhood</th>\n",
              "      <th>neighbourhood_cleansed</th>\n",
              "      <th>neighbourhood_group_cleansed</th>\n",
              "      <th>city</th>\n",
              "      <th>state</th>\n",
              "      <th>...</th>\n",
              "      <th>bedrooms</th>\n",
              "      <th>beds</th>\n",
              "      <th>bed_type</th>\n",
              "      <th>amenities</th>\n",
              "      <th>square_feet</th>\n",
              "      <th>price</th>\n",
              "      <th>weekly_price</th>\n",
              "      <th>monthly_price</th>\n",
              "      <th>security_deposit</th>\n",
              "      <th>cleaning_fee</th>\n",
              "      <th>guests_included</th>\n",
              "      <th>extra_people</th>\n",
              "      <th>minimum_nights</th>\n",
              "      <th>maximum_nights</th>\n",
              "      <th>calendar_updated</th>\n",
              "      <th>has_availability</th>\n",
              "      <th>availability_30</th>\n",
              "      <th>availability_60</th>\n",
              "      <th>availability_90</th>\n",
              "      <th>availability_365</th>\n",
              "      <th>calendar_last_scraped</th>\n",
              "      <th>number_of_reviews</th>\n",
              "      <th>first_review</th>\n",
              "      <th>last_review</th>\n",
              "      <th>review_scores_rating</th>\n",
              "      <th>review_scores_accuracy</th>\n",
              "      <th>review_scores_cleanliness</th>\n",
              "      <th>review_scores_checkin</th>\n",
              "      <th>review_scores_communication</th>\n",
              "      <th>review_scores_location</th>\n",
              "      <th>review_scores_value</th>\n",
              "      <th>requires_license</th>\n",
              "      <th>license</th>\n",
              "      <th>jurisdiction_names</th>\n",
              "      <th>instant_bookable</th>\n",
              "      <th>cancellation_policy</th>\n",
              "      <th>require_guest_profile_picture</th>\n",
              "      <th>require_guest_phone_verification</th>\n",
              "      <th>calculated_host_listings_count</th>\n",
              "      <th>reviews_per_month</th>\n",
              "    </tr>\n",
              "  </thead>\n",
              "  <tbody>\n",
              "    <tr>\n",
              "      <th>0</th>\n",
              "      <td>241032</td>\n",
              "      <td>https://www.airbnb.com/rooms/241032</td>\n",
              "      <td>20160104002432</td>\n",
              "      <td>2016-01-04</td>\n",
              "      <td>Stylish Queen Anne Apartment</td>\n",
              "      <td>NaN</td>\n",
              "      <td>Make your self at home in this charming one-be...</td>\n",
              "      <td>Make your self at home in this charming one-be...</td>\n",
              "      <td>none</td>\n",
              "      <td>NaN</td>\n",
              "      <td>NaN</td>\n",
              "      <td>NaN</td>\n",
              "      <td>NaN</td>\n",
              "      <td>NaN</td>\n",
              "      <td>https://a1.muscache.com/ac/pictures/67560560/c...</td>\n",
              "      <td>NaN</td>\n",
              "      <td>956883</td>\n",
              "      <td>https://www.airbnb.com/users/show/956883</td>\n",
              "      <td>Maija</td>\n",
              "      <td>2011-08-11</td>\n",
              "      <td>Seattle, Washington, United States</td>\n",
              "      <td>I am an artist, interior designer, and run a s...</td>\n",
              "      <td>within a few hours</td>\n",
              "      <td>96%</td>\n",
              "      <td>100%</td>\n",
              "      <td>f</td>\n",
              "      <td>https://a0.muscache.com/ac/users/956883/profil...</td>\n",
              "      <td>https://a0.muscache.com/ac/users/956883/profil...</td>\n",
              "      <td>Queen Anne</td>\n",
              "      <td>3.0</td>\n",
              "      <td>3.0</td>\n",
              "      <td>['email', 'phone', 'reviews', 'kba']</td>\n",
              "      <td>t</td>\n",
              "      <td>t</td>\n",
              "      <td>Gilman Dr W, Seattle, WA 98119, United States</td>\n",
              "      <td>Queen Anne</td>\n",
              "      <td>West Queen Anne</td>\n",
              "      <td>Queen Anne</td>\n",
              "      <td>Seattle</td>\n",
              "      <td>WA</td>\n",
              "      <td>...</td>\n",
              "      <td>1.0</td>\n",
              "      <td>1.0</td>\n",
              "      <td>Real Bed</td>\n",
              "      <td>{TV,\"Cable TV\",Internet,\"Wireless Internet\",\"A...</td>\n",
              "      <td>NaN</td>\n",
              "      <td>$85.00</td>\n",
              "      <td>NaN</td>\n",
              "      <td>NaN</td>\n",
              "      <td>NaN</td>\n",
              "      <td>NaN</td>\n",
              "      <td>2</td>\n",
              "      <td>$5.00</td>\n",
              "      <td>1</td>\n",
              "      <td>365</td>\n",
              "      <td>4 weeks ago</td>\n",
              "      <td>t</td>\n",
              "      <td>14</td>\n",
              "      <td>41</td>\n",
              "      <td>71</td>\n",
              "      <td>346</td>\n",
              "      <td>2016-01-04</td>\n",
              "      <td>207</td>\n",
              "      <td>2011-11-01</td>\n",
              "      <td>2016-01-02</td>\n",
              "      <td>95.0</td>\n",
              "      <td>10.0</td>\n",
              "      <td>10.0</td>\n",
              "      <td>10.0</td>\n",
              "      <td>10.0</td>\n",
              "      <td>9.0</td>\n",
              "      <td>10.0</td>\n",
              "      <td>f</td>\n",
              "      <td>NaN</td>\n",
              "      <td>WASHINGTON</td>\n",
              "      <td>f</td>\n",
              "      <td>moderate</td>\n",
              "      <td>f</td>\n",
              "      <td>f</td>\n",
              "      <td>2</td>\n",
              "      <td>4.07</td>\n",
              "    </tr>\n",
              "    <tr>\n",
              "      <th>1</th>\n",
              "      <td>953595</td>\n",
              "      <td>https://www.airbnb.com/rooms/953595</td>\n",
              "      <td>20160104002432</td>\n",
              "      <td>2016-01-04</td>\n",
              "      <td>Bright &amp; Airy Queen Anne Apartment</td>\n",
              "      <td>Chemically sensitive? We've removed the irrita...</td>\n",
              "      <td>Beautiful, hypoallergenic apartment in an extr...</td>\n",
              "      <td>Chemically sensitive? We've removed the irrita...</td>\n",
              "      <td>none</td>\n",
              "      <td>Queen Anne is a wonderful, truly functional vi...</td>\n",
              "      <td>What's up with the free pillows?  Our home was...</td>\n",
              "      <td>Convenient bus stops are just down the block, ...</td>\n",
              "      <td>https://a0.muscache.com/ac/pictures/14409893/f...</td>\n",
              "      <td>https://a0.muscache.com/im/pictures/14409893/f...</td>\n",
              "      <td>https://a0.muscache.com/ac/pictures/14409893/f...</td>\n",
              "      <td>https://a0.muscache.com/ac/pictures/14409893/f...</td>\n",
              "      <td>5177328</td>\n",
              "      <td>https://www.airbnb.com/users/show/5177328</td>\n",
              "      <td>Andrea</td>\n",
              "      <td>2013-02-21</td>\n",
              "      <td>Seattle, Washington, United States</td>\n",
              "      <td>Living east coast/left coast/overseas.  Time i...</td>\n",
              "      <td>within an hour</td>\n",
              "      <td>98%</td>\n",
              "      <td>100%</td>\n",
              "      <td>t</td>\n",
              "      <td>https://a0.muscache.com/ac/users/5177328/profi...</td>\n",
              "      <td>https://a0.muscache.com/ac/users/5177328/profi...</td>\n",
              "      <td>Queen Anne</td>\n",
              "      <td>6.0</td>\n",
              "      <td>6.0</td>\n",
              "      <td>['email', 'phone', 'facebook', 'linkedin', 're...</td>\n",
              "      <td>t</td>\n",
              "      <td>t</td>\n",
              "      <td>7th Avenue West, Seattle, WA 98119, United States</td>\n",
              "      <td>Queen Anne</td>\n",
              "      <td>West Queen Anne</td>\n",
              "      <td>Queen Anne</td>\n",
              "      <td>Seattle</td>\n",
              "      <td>WA</td>\n",
              "      <td>...</td>\n",
              "      <td>1.0</td>\n",
              "      <td>1.0</td>\n",
              "      <td>Real Bed</td>\n",
              "      <td>{TV,Internet,\"Wireless Internet\",Kitchen,\"Free...</td>\n",
              "      <td>NaN</td>\n",
              "      <td>$150.00</td>\n",
              "      <td>$1,000.00</td>\n",
              "      <td>$3,000.00</td>\n",
              "      <td>$100.00</td>\n",
              "      <td>$40.00</td>\n",
              "      <td>1</td>\n",
              "      <td>$0.00</td>\n",
              "      <td>2</td>\n",
              "      <td>90</td>\n",
              "      <td>today</td>\n",
              "      <td>t</td>\n",
              "      <td>13</td>\n",
              "      <td>13</td>\n",
              "      <td>16</td>\n",
              "      <td>291</td>\n",
              "      <td>2016-01-04</td>\n",
              "      <td>43</td>\n",
              "      <td>2013-08-19</td>\n",
              "      <td>2015-12-29</td>\n",
              "      <td>96.0</td>\n",
              "      <td>10.0</td>\n",
              "      <td>10.0</td>\n",
              "      <td>10.0</td>\n",
              "      <td>10.0</td>\n",
              "      <td>10.0</td>\n",
              "      <td>10.0</td>\n",
              "      <td>f</td>\n",
              "      <td>NaN</td>\n",
              "      <td>WASHINGTON</td>\n",
              "      <td>f</td>\n",
              "      <td>strict</td>\n",
              "      <td>t</td>\n",
              "      <td>t</td>\n",
              "      <td>6</td>\n",
              "      <td>1.48</td>\n",
              "    </tr>\n",
              "  </tbody>\n",
              "</table>\n",
              "<p>2 rows × 92 columns</p>\n",
              "</div>"
            ],
            "text/plain": [
              "       id  ... reviews_per_month\n",
              "0  241032  ...              4.07\n",
              "1  953595  ...              1.48\n",
              "\n",
              "[2 rows x 92 columns]"
            ]
          },
          "metadata": {
            "tags": []
          },
          "execution_count": 328
        }
      ]
    },
    {
      "cell_type": "markdown",
      "metadata": {
        "id": "yRRxgzPdPZxJ"
      },
      "source": [
        "**Recap:**  92 fields and 3818 records.  There are way too many fields, but a quick view through the example shows that many, many fields will either not be needed or can be covered by other fields.  The record count is high enough to allow a model to be built."
      ]
    },
    {
      "cell_type": "markdown",
      "metadata": {
        "id": "xgCyg_t6MI9O"
      },
      "source": [
        "## **Step 3:  Data Cleansing**\n",
        "The purpose of this step is identify records missing, unnecessary fields, fields that need formatting, and any categorical data which require changes.  I will be taking three different actions: removing fields, removing records, or altering records."
      ]
    },
    {
      "cell_type": "markdown",
      "metadata": {
        "id": "eZ617Q7FMX8O"
      },
      "source": [
        "**3.1 Initial fields to remove**\n",
        "Any field that is redundant (geographic data), text heavy or about the host will be removed as it will not assist analysis.\n"
      ]
    },
    {
      "cell_type": "code",
      "metadata": {
        "id": "KRIuV-s1SB7L"
      },
      "source": [
        "remove_fields = ['host_id', 'host_has_profile_pic', 'zipcode', 'market', 'smart_location', 'country_code', \n",
        "                 'country', 'longitude', 'latitude', 'is_location_exact', 'host_neighbourhood',\n",
        "                 'listing_url', 'scrape_id', 'last_scraped', 'name', 'summary', 'space', 'description', \n",
        "                 'experiences_offered', 'neighborhood_overview', 'notes', 'transit', 'thumbnail_url', \n",
        "                 'medium_url', 'picture_url', 'xl_picture_url', 'host_url', 'host_name', 'host_since', \n",
        "                 'host_location', 'host_about', 'host_thumbnail_url', 'host_picture_url', 'host_listings_count', \n",
        "                 'host_total_listings_count', 'host_verifications', 'host_identity_verified', 'street', 'city', \n",
        "                 'state','calendar_updated', 'has_availability', 'calendar_last_scraped', 'requires_license', \n",
        "                 'license', 'jurisdiction_names', 'calculated_host_listings_count']"
      ],
      "execution_count": 329,
      "outputs": []
    },
    {
      "cell_type": "code",
      "metadata": {
        "colab": {
          "base_uri": "https://localhost:8080/"
        },
        "id": "XFbi2m4RTYvs",
        "outputId": "7da53e86-aeaf-451b-9e09-67741ade8cec"
      },
      "source": [
        "listings = listings.drop(remove_fields, axis=1)\n",
        "listings.shape"
      ],
      "execution_count": 330,
      "outputs": [
        {
          "output_type": "execute_result",
          "data": {
            "text/plain": [
              "(3818, 45)"
            ]
          },
          "metadata": {
            "tags": []
          },
          "execution_count": 330
        }
      ]
    },
    {
      "cell_type": "markdown",
      "metadata": {
        "id": "ssV-ScTbcncG"
      },
      "source": [
        "**3.2 Formatting changes**\n",
        "\n",
        "Several fields with dollar amounts need to be changed to float, while the percentage needs to be converted to float."
      ]
    },
    {
      "cell_type": "code",
      "metadata": {
        "id": "XOAyNBoucnzf"
      },
      "source": [
        "fields_to_float = ['price', 'weekly_price', 'monthly_price', 'security_deposit', 'cleaning_fee', 'extra_people']\n",
        "\n",
        "for f in fields_to_float:\n",
        "  listings[f] = pd.to_numeric(listings[f].str.strip(',$'), errors='coerce')"
      ],
      "execution_count": 331,
      "outputs": []
    },
    {
      "cell_type": "code",
      "metadata": {
        "id": "yxqMCrSxh_x4"
      },
      "source": [
        "listings['host_response_rate'] = pd.to_numeric(listings['host_response_rate'].str.strip('%'), errors='coerce')/100"
      ],
      "execution_count": 332,
      "outputs": []
    },
    {
      "cell_type": "markdown",
      "metadata": {
        "id": "zZnnCy97ONJT"
      },
      "source": [
        "**3.3 Dealing with missing data**\n",
        "\t"
      ]
    },
    {
      "cell_type": "code",
      "metadata": {
        "colab": {
          "base_uri": "https://localhost:8080/"
        },
        "id": "q53ij_WkRMRu",
        "outputId": "5e6bc3f2-fd9a-4518-e737-5c3191d5ab06"
      },
      "source": [
        "listings.isna().sum().sort_values(ascending=False)"
      ],
      "execution_count": 333,
      "outputs": [
        {
          "output_type": "execute_result",
          "data": {
            "text/plain": [
              "square_feet                         3721\n",
              "monthly_price                       3697\n",
              "weekly_price                        2284\n",
              "security_deposit                    2005\n",
              "cleaning_fee                        1030\n",
              "host_acceptance_rate                 773\n",
              "review_scores_accuracy               658\n",
              "review_scores_checkin                658\n",
              "review_scores_value                  656\n",
              "review_scores_location               655\n",
              "review_scores_cleanliness            653\n",
              "review_scores_communication          651\n",
              "review_scores_rating                 647\n",
              "last_review                          627\n",
              "first_review                         627\n",
              "reviews_per_month                    627\n",
              "host_response_rate                   523\n",
              "host_response_time                   523\n",
              "neighbourhood                        416\n",
              "bathrooms                             16\n",
              "bedrooms                               6\n",
              "host_is_superhost                      2\n",
              "property_type                          1\n",
              "price                                  1\n",
              "beds                                   1\n",
              "room_type                              0\n",
              "accommodates                           0\n",
              "neighbourhood_group_cleansed           0\n",
              "neighbourhood_cleansed                 0\n",
              "bed_type                               0\n",
              "guests_included                        0\n",
              "amenities                              0\n",
              "require_guest_phone_verification       0\n",
              "extra_people                           0\n",
              "minimum_nights                         0\n",
              "maximum_nights                         0\n",
              "availability_30                        0\n",
              "availability_60                        0\n",
              "availability_90                        0\n",
              "availability_365                       0\n",
              "number_of_reviews                      0\n",
              "instant_bookable                       0\n",
              "cancellation_policy                    0\n",
              "require_guest_profile_picture          0\n",
              "id                                     0\n",
              "dtype: int64"
            ]
          },
          "metadata": {
            "tags": []
          },
          "execution_count": 333
        }
      ]
    },
    {
      "cell_type": "markdown",
      "metadata": {
        "id": "mlcu9FReXL7P"
      },
      "source": [
        "**3.3.1 Square Feet**\n",
        "\n",
        "Just about every record is missing this field.  Drop the field."
      ]
    },
    {
      "cell_type": "code",
      "metadata": {
        "id": "yQFng_PTXChq"
      },
      "source": [
        "listings = listings.drop(['square_feet'], axis=1)"
      ],
      "execution_count": 334,
      "outputs": []
    },
    {
      "cell_type": "markdown",
      "metadata": {
        "id": "iVVOYPd9XRU2"
      },
      "source": [
        "**3.3.2 Weekly and Monthly Rent**\n",
        "Not all hosts have entered a weekly or monthly price.  For now, just multiply by 7 for weekly and 30.3 for monthly."
      ]
    },
    {
      "cell_type": "code",
      "metadata": {
        "colab": {
          "base_uri": "https://localhost:8080/",
          "height": 204
        },
        "id": "q9uo0bqJXQHg",
        "outputId": "3dd50d85-699d-4324-ceb6-a45b489fbe95"
      },
      "source": [
        "missing_rent = listings[listings['weekly_price']!=listings['weekly_price']][['price', 'weekly_price', 'monthly_price']]\n",
        "missing_rent.head()"
      ],
      "execution_count": 335,
      "outputs": [
        {
          "output_type": "execute_result",
          "data": {
            "text/html": [
              "<div>\n",
              "<style scoped>\n",
              "    .dataframe tbody tr th:only-of-type {\n",
              "        vertical-align: middle;\n",
              "    }\n",
              "\n",
              "    .dataframe tbody tr th {\n",
              "        vertical-align: top;\n",
              "    }\n",
              "\n",
              "    .dataframe thead th {\n",
              "        text-align: right;\n",
              "    }\n",
              "</style>\n",
              "<table border=\"1\" class=\"dataframe\">\n",
              "  <thead>\n",
              "    <tr style=\"text-align: right;\">\n",
              "      <th></th>\n",
              "      <th>price</th>\n",
              "      <th>weekly_price</th>\n",
              "      <th>monthly_price</th>\n",
              "    </tr>\n",
              "  </thead>\n",
              "  <tbody>\n",
              "    <tr>\n",
              "      <th>0</th>\n",
              "      <td>85.0</td>\n",
              "      <td>NaN</td>\n",
              "      <td>NaN</td>\n",
              "    </tr>\n",
              "    <tr>\n",
              "      <th>1</th>\n",
              "      <td>150.0</td>\n",
              "      <td>NaN</td>\n",
              "      <td>NaN</td>\n",
              "    </tr>\n",
              "    <tr>\n",
              "      <th>2</th>\n",
              "      <td>975.0</td>\n",
              "      <td>NaN</td>\n",
              "      <td>NaN</td>\n",
              "    </tr>\n",
              "    <tr>\n",
              "      <th>4</th>\n",
              "      <td>450.0</td>\n",
              "      <td>NaN</td>\n",
              "      <td>NaN</td>\n",
              "    </tr>\n",
              "    <tr>\n",
              "      <th>9</th>\n",
              "      <td>150.0</td>\n",
              "      <td>NaN</td>\n",
              "      <td>NaN</td>\n",
              "    </tr>\n",
              "  </tbody>\n",
              "</table>\n",
              "</div>"
            ],
            "text/plain": [
              "   price  weekly_price  monthly_price\n",
              "0   85.0           NaN            NaN\n",
              "1  150.0           NaN            NaN\n",
              "2  975.0           NaN            NaN\n",
              "4  450.0           NaN            NaN\n",
              "9  150.0           NaN            NaN"
            ]
          },
          "metadata": {
            "tags": []
          },
          "execution_count": 335
        }
      ]
    },
    {
      "cell_type": "code",
      "metadata": {
        "colab": {
          "base_uri": "https://localhost:8080/"
        },
        "id": "woQ8DxMSaJpR",
        "outputId": "691e1062-fdf7-4aea-d31a-a2d98aa81c3e"
      },
      "source": [
        "print(listings['weekly_price'].head())\n",
        "#Enter weekly and monthly prices\n",
        "for i in range(len(listings)):\n",
        "  if listings.loc[i, 'weekly_price'] != listings.loc[i, 'weekly_price']:\n",
        "    listings.loc[i, 'weekly_price'] = listings.loc[i, 'price']*7\n",
        "print(listings['weekly_price'].head())\n",
        "\n",
        "\n",
        "for i in range(len(listings)):\n",
        "  if listings.loc[i, 'monthly_price'] != listings.loc[i, 'monthly_price']:\n",
        "    listings.loc[i, 'monthly_price'] = listings.loc[i, 'price']*30\n"
      ],
      "execution_count": 336,
      "outputs": [
        {
          "output_type": "stream",
          "text": [
            "0      NaN\n",
            "1      NaN\n",
            "2      NaN\n",
            "3    650.0\n",
            "4      NaN\n",
            "Name: weekly_price, dtype: float64\n",
            "0     595.0\n",
            "1    1050.0\n",
            "2    6825.0\n",
            "3     650.0\n",
            "4    3150.0\n",
            "Name: weekly_price, dtype: float64\n"
          ],
          "name": "stdout"
        }
      ]
    },
    {
      "cell_type": "markdown",
      "metadata": {
        "id": "kb0OYfCVXhIu"
      },
      "source": [
        "**3.3.3 Security Deposit and Cleaning Fee**\n",
        "\n",
        "Both of these fields should be set to zero for no fee."
      ]
    },
    {
      "cell_type": "code",
      "metadata": {
        "colab": {
          "base_uri": "https://localhost:8080/"
        },
        "id": "j3LbQWWcXKlU",
        "outputId": "f3424cbf-8fe4-48ce-b9c2-bf84618b4944"
      },
      "source": [
        "#Security deposit set to zero.\n",
        "print(listings['security_deposit'].head())\n",
        "\n",
        "for i in range(len(listings)):\n",
        "  if listings.loc[i, 'security_deposit'] != listings.loc[i, 'security_deposit']:\n",
        "    listings.loc[i, 'security_deposit'] = 0\n",
        "\n",
        "print(listings['security_deposit'].head())"
      ],
      "execution_count": 337,
      "outputs": [
        {
          "output_type": "stream",
          "text": [
            "0      NaN\n",
            "1    100.0\n",
            "2      NaN\n",
            "3      NaN\n",
            "4    700.0\n",
            "Name: security_deposit, dtype: float64\n",
            "0      0.0\n",
            "1    100.0\n",
            "2      0.0\n",
            "3      0.0\n",
            "4    700.0\n",
            "Name: security_deposit, dtype: float64\n"
          ],
          "name": "stdout"
        }
      ]
    },
    {
      "cell_type": "code",
      "metadata": {
        "colab": {
          "base_uri": "https://localhost:8080/"
        },
        "id": "PNQyji4beZZI",
        "outputId": "b67b922f-3d2c-47e2-97f0-3737597cfe8e"
      },
      "source": [
        "#Cleaning fee set to zero\n",
        "print(listings['cleaning_fee'].head())\n",
        "\n",
        "for i in range(len(listings)):\n",
        "  if listings.loc[i, 'cleaning_fee'] != listings.loc[i, 'cleaning_fee']:\n",
        "    listings.loc[i, 'cleaning_fee'] = 0\n",
        "\n",
        "print(listings['cleaning_fee'].head())"
      ],
      "execution_count": 338,
      "outputs": [
        {
          "output_type": "stream",
          "text": [
            "0      NaN\n",
            "1     40.0\n",
            "2    300.0\n",
            "3      NaN\n",
            "4    125.0\n",
            "Name: cleaning_fee, dtype: float64\n",
            "0      0.0\n",
            "1     40.0\n",
            "2    300.0\n",
            "3      0.0\n",
            "4    125.0\n",
            "Name: cleaning_fee, dtype: float64\n"
          ],
          "name": "stdout"
        }
      ]
    },
    {
      "cell_type": "markdown",
      "metadata": {
        "id": "DFb9dtKDXm9L"
      },
      "source": [
        "**3.3.4 Host Acceptance Rate**"
      ]
    },
    {
      "cell_type": "code",
      "metadata": {
        "colab": {
          "base_uri": "https://localhost:8080/"
        },
        "id": "QJixds6oXK1L",
        "outputId": "975c75a1-bd9a-4462-82f6-c9cdef741b25"
      },
      "source": [
        "#Investigate acceptance rate field\n",
        "print(listings['host_acceptance_rate'].head())\n",
        "listings['host_acceptance_rate'].value_counts()\n",
        "\n",
        "#This field is either 100%, or nothing. Will drop this field."
      ],
      "execution_count": 339,
      "outputs": [
        {
          "output_type": "stream",
          "text": [
            "0    100%\n",
            "1    100%\n",
            "2    100%\n",
            "3     NaN\n",
            "4     NaN\n",
            "Name: host_acceptance_rate, dtype: object\n"
          ],
          "name": "stdout"
        },
        {
          "output_type": "execute_result",
          "data": {
            "text/plain": [
              "100%    3044\n",
              "0%         1\n",
              "Name: host_acceptance_rate, dtype: int64"
            ]
          },
          "metadata": {
            "tags": []
          },
          "execution_count": 339
        }
      ]
    },
    {
      "cell_type": "code",
      "metadata": {
        "id": "3eXbNvG0fBys"
      },
      "source": [
        "listings = listings.drop('host_acceptance_rate', axis=1)"
      ],
      "execution_count": 340,
      "outputs": []
    },
    {
      "cell_type": "markdown",
      "metadata": {
        "id": "70zxEwvPXt5c"
      },
      "source": [
        "**3.3.5 Review Score**\n",
        "\n",
        "It looks like if some review scores are missing they are all missing.  Best to remove all of these records."
      ]
    },
    {
      "cell_type": "code",
      "metadata": {
        "colab": {
          "base_uri": "https://localhost:8080/",
          "height": 394
        },
        "id": "eenYnE2yXK9s",
        "outputId": "fd656878-2eea-41db-c4eb-db6fc8b2f2fe"
      },
      "source": [
        "missing_review_scores = listings[listings['review_scores_checkin']!=listings['review_scores_checkin']]\n",
        "missing_review_scores.head()"
      ],
      "execution_count": 341,
      "outputs": [
        {
          "output_type": "execute_result",
          "data": {
            "text/html": [
              "<div>\n",
              "<style scoped>\n",
              "    .dataframe tbody tr th:only-of-type {\n",
              "        vertical-align: middle;\n",
              "    }\n",
              "\n",
              "    .dataframe tbody tr th {\n",
              "        vertical-align: top;\n",
              "    }\n",
              "\n",
              "    .dataframe thead th {\n",
              "        text-align: right;\n",
              "    }\n",
              "</style>\n",
              "<table border=\"1\" class=\"dataframe\">\n",
              "  <thead>\n",
              "    <tr style=\"text-align: right;\">\n",
              "      <th></th>\n",
              "      <th>id</th>\n",
              "      <th>host_response_time</th>\n",
              "      <th>host_response_rate</th>\n",
              "      <th>host_is_superhost</th>\n",
              "      <th>neighbourhood</th>\n",
              "      <th>neighbourhood_cleansed</th>\n",
              "      <th>neighbourhood_group_cleansed</th>\n",
              "      <th>property_type</th>\n",
              "      <th>room_type</th>\n",
              "      <th>accommodates</th>\n",
              "      <th>bathrooms</th>\n",
              "      <th>bedrooms</th>\n",
              "      <th>beds</th>\n",
              "      <th>bed_type</th>\n",
              "      <th>amenities</th>\n",
              "      <th>price</th>\n",
              "      <th>weekly_price</th>\n",
              "      <th>monthly_price</th>\n",
              "      <th>security_deposit</th>\n",
              "      <th>cleaning_fee</th>\n",
              "      <th>guests_included</th>\n",
              "      <th>extra_people</th>\n",
              "      <th>minimum_nights</th>\n",
              "      <th>maximum_nights</th>\n",
              "      <th>availability_30</th>\n",
              "      <th>availability_60</th>\n",
              "      <th>availability_90</th>\n",
              "      <th>availability_365</th>\n",
              "      <th>number_of_reviews</th>\n",
              "      <th>first_review</th>\n",
              "      <th>last_review</th>\n",
              "      <th>review_scores_rating</th>\n",
              "      <th>review_scores_accuracy</th>\n",
              "      <th>review_scores_cleanliness</th>\n",
              "      <th>review_scores_checkin</th>\n",
              "      <th>review_scores_communication</th>\n",
              "      <th>review_scores_location</th>\n",
              "      <th>review_scores_value</th>\n",
              "      <th>instant_bookable</th>\n",
              "      <th>cancellation_policy</th>\n",
              "      <th>require_guest_profile_picture</th>\n",
              "      <th>require_guest_phone_verification</th>\n",
              "      <th>reviews_per_month</th>\n",
              "    </tr>\n",
              "  </thead>\n",
              "  <tbody>\n",
              "    <tr>\n",
              "      <th>3</th>\n",
              "      <td>7421966</td>\n",
              "      <td>NaN</td>\n",
              "      <td>NaN</td>\n",
              "      <td>f</td>\n",
              "      <td>Queen Anne</td>\n",
              "      <td>West Queen Anne</td>\n",
              "      <td>Queen Anne</td>\n",
              "      <td>Apartment</td>\n",
              "      <td>Entire home/apt</td>\n",
              "      <td>3</td>\n",
              "      <td>1.0</td>\n",
              "      <td>0.0</td>\n",
              "      <td>2.0</td>\n",
              "      <td>Real Bed</td>\n",
              "      <td>{Internet,\"Wireless Internet\",Kitchen,\"Indoor ...</td>\n",
              "      <td>100.0</td>\n",
              "      <td>650.0</td>\n",
              "      <td>3000.0</td>\n",
              "      <td>0.0</td>\n",
              "      <td>0.0</td>\n",
              "      <td>1</td>\n",
              "      <td>0.0</td>\n",
              "      <td>1</td>\n",
              "      <td>1125</td>\n",
              "      <td>0</td>\n",
              "      <td>0</td>\n",
              "      <td>0</td>\n",
              "      <td>143</td>\n",
              "      <td>0</td>\n",
              "      <td>NaN</td>\n",
              "      <td>NaN</td>\n",
              "      <td>NaN</td>\n",
              "      <td>NaN</td>\n",
              "      <td>NaN</td>\n",
              "      <td>NaN</td>\n",
              "      <td>NaN</td>\n",
              "      <td>NaN</td>\n",
              "      <td>NaN</td>\n",
              "      <td>f</td>\n",
              "      <td>flexible</td>\n",
              "      <td>f</td>\n",
              "      <td>f</td>\n",
              "      <td>NaN</td>\n",
              "    </tr>\n",
              "    <tr>\n",
              "      <th>18</th>\n",
              "      <td>7735464</td>\n",
              "      <td>NaN</td>\n",
              "      <td>NaN</td>\n",
              "      <td>f</td>\n",
              "      <td>Queen Anne</td>\n",
              "      <td>West Queen Anne</td>\n",
              "      <td>Queen Anne</td>\n",
              "      <td>Apartment</td>\n",
              "      <td>Private room</td>\n",
              "      <td>2</td>\n",
              "      <td>2.0</td>\n",
              "      <td>1.0</td>\n",
              "      <td>1.0</td>\n",
              "      <td>Futon</td>\n",
              "      <td>{TV,\"Cable TV\",Internet,\"Wireless Internet\",Ki...</td>\n",
              "      <td>200.0</td>\n",
              "      <td>1400.0</td>\n",
              "      <td>6000.0</td>\n",
              "      <td>0.0</td>\n",
              "      <td>0.0</td>\n",
              "      <td>1</td>\n",
              "      <td>0.0</td>\n",
              "      <td>1</td>\n",
              "      <td>1125</td>\n",
              "      <td>0</td>\n",
              "      <td>0</td>\n",
              "      <td>0</td>\n",
              "      <td>125</td>\n",
              "      <td>0</td>\n",
              "      <td>NaN</td>\n",
              "      <td>NaN</td>\n",
              "      <td>NaN</td>\n",
              "      <td>NaN</td>\n",
              "      <td>NaN</td>\n",
              "      <td>NaN</td>\n",
              "      <td>NaN</td>\n",
              "      <td>NaN</td>\n",
              "      <td>NaN</td>\n",
              "      <td>f</td>\n",
              "      <td>flexible</td>\n",
              "      <td>f</td>\n",
              "      <td>f</td>\n",
              "      <td>NaN</td>\n",
              "    </tr>\n",
              "    <tr>\n",
              "      <th>23</th>\n",
              "      <td>10106055</td>\n",
              "      <td>NaN</td>\n",
              "      <td>NaN</td>\n",
              "      <td>f</td>\n",
              "      <td>Queen Anne</td>\n",
              "      <td>West Queen Anne</td>\n",
              "      <td>Queen Anne</td>\n",
              "      <td>House</td>\n",
              "      <td>Private room</td>\n",
              "      <td>2</td>\n",
              "      <td>1.0</td>\n",
              "      <td>1.0</td>\n",
              "      <td>1.0</td>\n",
              "      <td>Real Bed</td>\n",
              "      <td>{Internet,\"Wireless Internet\",\"Air Conditionin...</td>\n",
              "      <td>75.0</td>\n",
              "      <td>350.0</td>\n",
              "      <td>2250.0</td>\n",
              "      <td>0.0</td>\n",
              "      <td>0.0</td>\n",
              "      <td>1</td>\n",
              "      <td>0.0</td>\n",
              "      <td>1</td>\n",
              "      <td>1125</td>\n",
              "      <td>30</td>\n",
              "      <td>60</td>\n",
              "      <td>90</td>\n",
              "      <td>365</td>\n",
              "      <td>0</td>\n",
              "      <td>NaN</td>\n",
              "      <td>NaN</td>\n",
              "      <td>NaN</td>\n",
              "      <td>NaN</td>\n",
              "      <td>NaN</td>\n",
              "      <td>NaN</td>\n",
              "      <td>NaN</td>\n",
              "      <td>NaN</td>\n",
              "      <td>NaN</td>\n",
              "      <td>f</td>\n",
              "      <td>flexible</td>\n",
              "      <td>f</td>\n",
              "      <td>f</td>\n",
              "      <td>NaN</td>\n",
              "    </tr>\n",
              "    <tr>\n",
              "      <th>26</th>\n",
              "      <td>9025039</td>\n",
              "      <td>within a few hours</td>\n",
              "      <td>1.0</td>\n",
              "      <td>f</td>\n",
              "      <td>Queen Anne</td>\n",
              "      <td>West Queen Anne</td>\n",
              "      <td>Queen Anne</td>\n",
              "      <td>House</td>\n",
              "      <td>Entire home/apt</td>\n",
              "      <td>5</td>\n",
              "      <td>1.0</td>\n",
              "      <td>2.0</td>\n",
              "      <td>3.0</td>\n",
              "      <td>Real Bed</td>\n",
              "      <td>{\"Cable TV\",\"Wireless Internet\",Kitchen,\"Free ...</td>\n",
              "      <td>150.0</td>\n",
              "      <td>1050.0</td>\n",
              "      <td>4500.0</td>\n",
              "      <td>250.0</td>\n",
              "      <td>35.0</td>\n",
              "      <td>1</td>\n",
              "      <td>0.0</td>\n",
              "      <td>1</td>\n",
              "      <td>1125</td>\n",
              "      <td>0</td>\n",
              "      <td>0</td>\n",
              "      <td>0</td>\n",
              "      <td>49</td>\n",
              "      <td>0</td>\n",
              "      <td>NaN</td>\n",
              "      <td>NaN</td>\n",
              "      <td>NaN</td>\n",
              "      <td>NaN</td>\n",
              "      <td>NaN</td>\n",
              "      <td>NaN</td>\n",
              "      <td>NaN</td>\n",
              "      <td>NaN</td>\n",
              "      <td>NaN</td>\n",
              "      <td>f</td>\n",
              "      <td>flexible</td>\n",
              "      <td>f</td>\n",
              "      <td>f</td>\n",
              "      <td>NaN</td>\n",
              "    </tr>\n",
              "    <tr>\n",
              "      <th>46</th>\n",
              "      <td>9550869</td>\n",
              "      <td>within a day</td>\n",
              "      <td>0.9</td>\n",
              "      <td>f</td>\n",
              "      <td>Queen Anne</td>\n",
              "      <td>West Queen Anne</td>\n",
              "      <td>Queen Anne</td>\n",
              "      <td>Bungalow</td>\n",
              "      <td>Entire home/apt</td>\n",
              "      <td>10</td>\n",
              "      <td>3.0</td>\n",
              "      <td>4.0</td>\n",
              "      <td>4.0</td>\n",
              "      <td>Real Bed</td>\n",
              "      <td>{Internet,\"Wireless Internet\",Kitchen,\"Free Pa...</td>\n",
              "      <td>349.0</td>\n",
              "      <td>2443.0</td>\n",
              "      <td>10470.0</td>\n",
              "      <td>0.0</td>\n",
              "      <td>200.0</td>\n",
              "      <td>1</td>\n",
              "      <td>0.0</td>\n",
              "      <td>1</td>\n",
              "      <td>1125</td>\n",
              "      <td>30</td>\n",
              "      <td>60</td>\n",
              "      <td>90</td>\n",
              "      <td>354</td>\n",
              "      <td>0</td>\n",
              "      <td>NaN</td>\n",
              "      <td>NaN</td>\n",
              "      <td>NaN</td>\n",
              "      <td>NaN</td>\n",
              "      <td>NaN</td>\n",
              "      <td>NaN</td>\n",
              "      <td>NaN</td>\n",
              "      <td>NaN</td>\n",
              "      <td>NaN</td>\n",
              "      <td>f</td>\n",
              "      <td>strict</td>\n",
              "      <td>f</td>\n",
              "      <td>f</td>\n",
              "      <td>NaN</td>\n",
              "    </tr>\n",
              "  </tbody>\n",
              "</table>\n",
              "</div>"
            ],
            "text/plain": [
              "          id  ... reviews_per_month\n",
              "3    7421966  ...               NaN\n",
              "18   7735464  ...               NaN\n",
              "23  10106055  ...               NaN\n",
              "26   9025039  ...               NaN\n",
              "46   9550869  ...               NaN\n",
              "\n",
              "[5 rows x 43 columns]"
            ]
          },
          "metadata": {
            "tags": []
          },
          "execution_count": 341
        }
      ]
    },
    {
      "cell_type": "code",
      "metadata": {
        "colab": {
          "base_uri": "https://localhost:8080/"
        },
        "id": "qFU2uCuRfUqQ",
        "outputId": "3d73e3ee-f3f9-40b5-8a66-170fa46f5fea"
      },
      "source": [
        "listings = listings[listings['review_scores_checkin']==listings['review_scores_checkin']]\n",
        "listings.reset_index(inplace=True)\n",
        "listings.shape"
      ],
      "execution_count": 342,
      "outputs": [
        {
          "output_type": "execute_result",
          "data": {
            "text/plain": [
              "(3160, 44)"
            ]
          },
          "metadata": {
            "tags": []
          },
          "execution_count": 342
        }
      ]
    },
    {
      "cell_type": "markdown",
      "metadata": {
        "id": "lf2cNzWDhC-m"
      },
      "source": [
        "**3.3.6  Host Response Rate and Time**\n",
        "\n",
        "Unknown why this data is missing, many of these listings are active.  I have to assume they just didn't have someone reach out.  Set these to 100% and 'Within an hour'"
      ]
    },
    {
      "cell_type": "code",
      "metadata": {
        "colab": {
          "base_uri": "https://localhost:8080/"
        },
        "id": "Gf0dsQBzf95P",
        "outputId": "804c667a-e16a-413b-9e06-696a439df3d6"
      },
      "source": [
        "listings['host_response_time'].head()"
      ],
      "execution_count": 343,
      "outputs": [
        {
          "output_type": "execute_result",
          "data": {
            "text/plain": [
              "0    within a few hours\n",
              "1        within an hour\n",
              "2    within a few hours\n",
              "3        within an hour\n",
              "4                   NaN\n",
              "Name: host_response_time, dtype: object"
            ]
          },
          "metadata": {
            "tags": []
          },
          "execution_count": 343
        }
      ]
    },
    {
      "cell_type": "code",
      "metadata": {
        "colab": {
          "base_uri": "https://localhost:8080/",
          "height": 216
        },
        "id": "tZciml0uhcHg",
        "outputId": "4721179d-f50d-4792-c3fa-fb785c6fc606"
      },
      "source": [
        "missing_response_rate = listings[listings['host_response_time']!=listings['host_response_time']]\n",
        "missing_response_rate.head(2)"
      ],
      "execution_count": 344,
      "outputs": [
        {
          "output_type": "execute_result",
          "data": {
            "text/html": [
              "<div>\n",
              "<style scoped>\n",
              "    .dataframe tbody tr th:only-of-type {\n",
              "        vertical-align: middle;\n",
              "    }\n",
              "\n",
              "    .dataframe tbody tr th {\n",
              "        vertical-align: top;\n",
              "    }\n",
              "\n",
              "    .dataframe thead th {\n",
              "        text-align: right;\n",
              "    }\n",
              "</style>\n",
              "<table border=\"1\" class=\"dataframe\">\n",
              "  <thead>\n",
              "    <tr style=\"text-align: right;\">\n",
              "      <th></th>\n",
              "      <th>index</th>\n",
              "      <th>id</th>\n",
              "      <th>host_response_time</th>\n",
              "      <th>host_response_rate</th>\n",
              "      <th>host_is_superhost</th>\n",
              "      <th>neighbourhood</th>\n",
              "      <th>neighbourhood_cleansed</th>\n",
              "      <th>neighbourhood_group_cleansed</th>\n",
              "      <th>property_type</th>\n",
              "      <th>room_type</th>\n",
              "      <th>accommodates</th>\n",
              "      <th>bathrooms</th>\n",
              "      <th>bedrooms</th>\n",
              "      <th>beds</th>\n",
              "      <th>bed_type</th>\n",
              "      <th>amenities</th>\n",
              "      <th>price</th>\n",
              "      <th>weekly_price</th>\n",
              "      <th>monthly_price</th>\n",
              "      <th>security_deposit</th>\n",
              "      <th>cleaning_fee</th>\n",
              "      <th>guests_included</th>\n",
              "      <th>extra_people</th>\n",
              "      <th>minimum_nights</th>\n",
              "      <th>maximum_nights</th>\n",
              "      <th>availability_30</th>\n",
              "      <th>availability_60</th>\n",
              "      <th>availability_90</th>\n",
              "      <th>availability_365</th>\n",
              "      <th>number_of_reviews</th>\n",
              "      <th>first_review</th>\n",
              "      <th>last_review</th>\n",
              "      <th>review_scores_rating</th>\n",
              "      <th>review_scores_accuracy</th>\n",
              "      <th>review_scores_cleanliness</th>\n",
              "      <th>review_scores_checkin</th>\n",
              "      <th>review_scores_communication</th>\n",
              "      <th>review_scores_location</th>\n",
              "      <th>review_scores_value</th>\n",
              "      <th>instant_bookable</th>\n",
              "      <th>cancellation_policy</th>\n",
              "      <th>require_guest_profile_picture</th>\n",
              "      <th>require_guest_phone_verification</th>\n",
              "      <th>reviews_per_month</th>\n",
              "    </tr>\n",
              "  </thead>\n",
              "  <tbody>\n",
              "    <tr>\n",
              "      <th>4</th>\n",
              "      <td>5</td>\n",
              "      <td>5956968</td>\n",
              "      <td>NaN</td>\n",
              "      <td>NaN</td>\n",
              "      <td>f</td>\n",
              "      <td>Queen Anne</td>\n",
              "      <td>West Queen Anne</td>\n",
              "      <td>Queen Anne</td>\n",
              "      <td>House</td>\n",
              "      <td>Private room</td>\n",
              "      <td>2</td>\n",
              "      <td>1.0</td>\n",
              "      <td>1.0</td>\n",
              "      <td>1.0</td>\n",
              "      <td>Real Bed</td>\n",
              "      <td>{\"Wireless Internet\",\"Free Parking on Premises...</td>\n",
              "      <td>120.0</td>\n",
              "      <td>800.0</td>\n",
              "      <td>3600.0</td>\n",
              "      <td>0.0</td>\n",
              "      <td>40.0</td>\n",
              "      <td>1</td>\n",
              "      <td>30.0</td>\n",
              "      <td>1</td>\n",
              "      <td>6</td>\n",
              "      <td>0</td>\n",
              "      <td>0</td>\n",
              "      <td>27</td>\n",
              "      <td>302</td>\n",
              "      <td>17</td>\n",
              "      <td>2015-06-11</td>\n",
              "      <td>2015-09-28</td>\n",
              "      <td>95.0</td>\n",
              "      <td>10.0</td>\n",
              "      <td>10.0</td>\n",
              "      <td>10.0</td>\n",
              "      <td>10.0</td>\n",
              "      <td>10.0</td>\n",
              "      <td>10.0</td>\n",
              "      <td>f</td>\n",
              "      <td>strict</td>\n",
              "      <td>f</td>\n",
              "      <td>f</td>\n",
              "      <td>2.45</td>\n",
              "    </tr>\n",
              "    <tr>\n",
              "      <th>7</th>\n",
              "      <td>8</td>\n",
              "      <td>4948745</td>\n",
              "      <td>NaN</td>\n",
              "      <td>NaN</td>\n",
              "      <td>f</td>\n",
              "      <td>Queen Anne</td>\n",
              "      <td>West Queen Anne</td>\n",
              "      <td>Queen Anne</td>\n",
              "      <td>Apartment</td>\n",
              "      <td>Private room</td>\n",
              "      <td>2</td>\n",
              "      <td>1.0</td>\n",
              "      <td>1.0</td>\n",
              "      <td>1.0</td>\n",
              "      <td>Real Bed</td>\n",
              "      <td>{TV,\"Cable TV\",Internet,\"Wireless Internet\",Ki...</td>\n",
              "      <td>90.0</td>\n",
              "      <td>500.0</td>\n",
              "      <td>2700.0</td>\n",
              "      <td>0.0</td>\n",
              "      <td>0.0</td>\n",
              "      <td>1</td>\n",
              "      <td>0.0</td>\n",
              "      <td>3</td>\n",
              "      <td>1125</td>\n",
              "      <td>6</td>\n",
              "      <td>36</td>\n",
              "      <td>66</td>\n",
              "      <td>341</td>\n",
              "      <td>8</td>\n",
              "      <td>2015-06-22</td>\n",
              "      <td>2015-08-17</td>\n",
              "      <td>97.0</td>\n",
              "      <td>10.0</td>\n",
              "      <td>9.0</td>\n",
              "      <td>10.0</td>\n",
              "      <td>9.0</td>\n",
              "      <td>10.0</td>\n",
              "      <td>10.0</td>\n",
              "      <td>f</td>\n",
              "      <td>strict</td>\n",
              "      <td>f</td>\n",
              "      <td>f</td>\n",
              "      <td>1.22</td>\n",
              "    </tr>\n",
              "  </tbody>\n",
              "</table>\n",
              "</div>"
            ],
            "text/plain": [
              "   index       id  ... require_guest_phone_verification  reviews_per_month\n",
              "4      5  5956968  ...                                f               2.45\n",
              "7      8  4948745  ...                                f               1.22\n",
              "\n",
              "[2 rows x 44 columns]"
            ]
          },
          "metadata": {
            "tags": []
          },
          "execution_count": 344
        }
      ]
    },
    {
      "cell_type": "code",
      "metadata": {
        "id": "Rz_8E_4PgBkL"
      },
      "source": [
        "for i in range(len(listings)):\n",
        "  if listings.loc[i, 'host_response_rate'] != listings.loc[i, 'host_response_rate']:\n",
        "    listings.loc[i, 'host_response_rate'] = 1"
      ],
      "execution_count": 345,
      "outputs": []
    },
    {
      "cell_type": "code",
      "metadata": {
        "id": "s64AreMFgHdj"
      },
      "source": [
        "for i in range(len(listings)):\n",
        "  if listings.loc[i, 'host_response_time'] != listings.loc[i, 'host_response_time']:\n",
        "    listings.loc[i, 'host_response_time'] = 'within an hour'"
      ],
      "execution_count": 346,
      "outputs": []
    },
    {
      "cell_type": "markdown",
      "metadata": {
        "id": "8fJylPh6YDiB"
      },
      "source": [
        "**3.3.7 Last Review Time**\n",
        "The data for the last review shows most listings had their reviews in 2015 or 2016.  Best to remove the older listings from 2014 and before."
      ]
    },
    {
      "cell_type": "code",
      "metadata": {
        "colab": {
          "base_uri": "https://localhost:8080/"
        },
        "id": "ZUp6dvsYYD-Z",
        "outputId": "fdf3ba40-16c7-4f94-e3f3-b9d83c45dee3"
      },
      "source": [
        "last= pd.to_datetime(listings['last_review'])\n",
        "listings['year'] = last.dt.year\n",
        "listings['year'].value_counts()"
      ],
      "execution_count": 347,
      "outputs": [
        {
          "output_type": "execute_result",
          "data": {
            "text/plain": [
              "2015    2867\n",
              "2016     215\n",
              "2014      60\n",
              "2013      11\n",
              "2012       6\n",
              "2011       1\n",
              "Name: year, dtype: int64"
            ]
          },
          "metadata": {
            "tags": []
          },
          "execution_count": 347
        }
      ]
    },
    {
      "cell_type": "code",
      "metadata": {
        "colab": {
          "base_uri": "https://localhost:8080/"
        },
        "id": "B1L-tEN0zdIF",
        "outputId": "851a82e7-43be-4fac-b715-6bca97789d1e"
      },
      "source": [
        "listings = listings[listings['year']>=2015]\n",
        "listings['year'].value_counts()"
      ],
      "execution_count": 348,
      "outputs": [
        {
          "output_type": "execute_result",
          "data": {
            "text/plain": [
              "2015    2867\n",
              "2016     215\n",
              "Name: year, dtype: int64"
            ]
          },
          "metadata": {
            "tags": []
          },
          "execution_count": 348
        }
      ]
    },
    {
      "cell_type": "code",
      "metadata": {
        "id": "eqWzXdMBzzO0"
      },
      "source": [
        "listings = listings.drop(['first_review', 'last_review', 'year'], axis=1)"
      ],
      "execution_count": 349,
      "outputs": []
    },
    {
      "cell_type": "markdown",
      "metadata": {
        "id": "I1l4ODSuYdaD"
      },
      "source": [
        "**3.3.9 Neighborhood**\n",
        "The neighborhood field is missing values.  Luckily, there are two other neighborhood fields.  The neighborhood group cleansed field has 17 unique entries, while neighbourhood cleansed has 87.  I will be keeping the group field and dropping the other two."
      ]
    },
    {
      "cell_type": "code",
      "metadata": {
        "colab": {
          "base_uri": "https://localhost:8080/"
        },
        "id": "mm59SCrwYdmt",
        "outputId": "94f6233d-6b06-4c7b-e9ec-dc9cff3fdb11"
      },
      "source": [
        "listings['neighbourhood_group_cleansed'].nunique()"
      ],
      "execution_count": 350,
      "outputs": [
        {
          "output_type": "execute_result",
          "data": {
            "text/plain": [
              "17"
            ]
          },
          "metadata": {
            "tags": []
          },
          "execution_count": 350
        }
      ]
    },
    {
      "cell_type": "code",
      "metadata": {
        "colab": {
          "base_uri": "https://localhost:8080/"
        },
        "id": "d7LKyhwHrL3-",
        "outputId": "4dc30db5-f6d7-4ce7-b9bb-9c7a11f3938d"
      },
      "source": [
        "listings['neighbourhood_cleansed'].nunique()"
      ],
      "execution_count": 351,
      "outputs": [
        {
          "output_type": "execute_result",
          "data": {
            "text/plain": [
              "87"
            ]
          },
          "metadata": {
            "tags": []
          },
          "execution_count": 351
        }
      ]
    },
    {
      "cell_type": "code",
      "metadata": {
        "colab": {
          "base_uri": "https://localhost:8080/"
        },
        "id": "TC98_STo1UVN",
        "outputId": "d0566eed-e0d5-42cd-f560-a9db9c95935a"
      },
      "source": [
        "listings = listings.drop(['neighbourhood', 'neighbourhood_cleansed'], axis=1)\n",
        "listings.shape"
      ],
      "execution_count": 352,
      "outputs": [
        {
          "output_type": "execute_result",
          "data": {
            "text/plain": [
              "(3082, 40)"
            ]
          },
          "metadata": {
            "tags": []
          },
          "execution_count": 352
        }
      ]
    },
    {
      "cell_type": "markdown",
      "metadata": {
        "id": "3Z33SZwwYqLU"
      },
      "source": [
        "**3.3.10 Bathrooms, bedrooms, beds**\n",
        "\n",
        "It is hard to believe there are no bathrooms, bedrooms, or beds in a listing.  Where the data is missing, we will enter a value of 1."
      ]
    },
    {
      "cell_type": "code",
      "metadata": {
        "colab": {
          "base_uri": "https://localhost:8080/"
        },
        "id": "DeCpUo5FYs4b",
        "outputId": "51dc1c5e-1b03-41a2-8cdd-5daf79912d86"
      },
      "source": [
        "print(listings.shape)\n",
        "listings.reset_index(drop=True, inplace=True)\n",
        "\n",
        "for i in range(len(listings)):\n",
        "  if listings.loc[i, 'bathrooms'] != listings.loc[i, 'bathrooms']:\n",
        "    listings.loc[i, 'bathrooms'] = 1\n",
        "\n",
        "for i in range(len(listings)):\n",
        "  if listings.loc[i, 'bedrooms'] != listings.loc[i, 'bedrooms']:\n",
        "    listings.loc[i, 'bedrooms'] = 1\n",
        "\n",
        "for i in range(len(listings)):\n",
        "  if listings.loc[i, 'beds'] != listings.loc[i, 'beds']:\n",
        "    listings.loc[i, 'beds'] = 1 "
      ],
      "execution_count": 353,
      "outputs": [
        {
          "output_type": "stream",
          "text": [
            "(3082, 40)\n"
          ],
          "name": "stdout"
        }
      ]
    },
    {
      "cell_type": "markdown",
      "metadata": {
        "id": "R4leenOMwJzC"
      },
      "source": [
        "**`3.3.11 Dedupe data`**\n",
        "It appears that there were no duplicates."
      ]
    },
    {
      "cell_type": "code",
      "metadata": {
        "colab": {
          "base_uri": "https://localhost:8080/"
        },
        "id": "8HLGpxKfRM53",
        "outputId": "fac3279e-316a-40fa-b943-c6dae6b30b9f"
      },
      "source": [
        "listings.drop_duplicates()\n",
        "print(listings.shape)"
      ],
      "execution_count": 354,
      "outputs": [
        {
          "output_type": "stream",
          "text": [
            "(3082, 40)\n"
          ],
          "name": "stdout"
        }
      ]
    },
    {
      "cell_type": "markdown",
      "metadata": {
        "id": "s0qDL2zZRyVQ"
      },
      "source": [
        "**3.4 Recap:  What is the state of the data**\n",
        "After all this, there is only one missing value in the review_scores_value field.  All of its reviews are 10s, so we will manually change the missing value to 10.\n",
        "\n",
        "We are left with 3082 records in 40 fields."
      ]
    },
    {
      "cell_type": "code",
      "metadata": {
        "colab": {
          "base_uri": "https://localhost:8080/"
        },
        "id": "q7kMZBd1R78n",
        "outputId": "0ce4a89a-0052-4143-be95-96defe1af5f0"
      },
      "source": [
        "listings.isna().sum().sort_values(ascending=False)"
      ],
      "execution_count": 355,
      "outputs": [
        {
          "output_type": "execute_result",
          "data": {
            "text/plain": [
              "review_scores_value                 1\n",
              "reviews_per_month                   0\n",
              "bathrooms                           0\n",
              "monthly_price                       0\n",
              "weekly_price                        0\n",
              "price                               0\n",
              "amenities                           0\n",
              "bed_type                            0\n",
              "beds                                0\n",
              "bedrooms                            0\n",
              "accommodates                        0\n",
              "cleaning_fee                        0\n",
              "room_type                           0\n",
              "property_type                       0\n",
              "neighbourhood_group_cleansed        0\n",
              "host_is_superhost                   0\n",
              "host_response_rate                  0\n",
              "host_response_time                  0\n",
              "id                                  0\n",
              "security_deposit                    0\n",
              "guests_included                     0\n",
              "require_guest_phone_verification    0\n",
              "review_scores_accuracy              0\n",
              "require_guest_profile_picture       0\n",
              "cancellation_policy                 0\n",
              "instant_bookable                    0\n",
              "review_scores_location              0\n",
              "review_scores_communication         0\n",
              "review_scores_checkin               0\n",
              "review_scores_cleanliness           0\n",
              "review_scores_rating                0\n",
              "extra_people                        0\n",
              "number_of_reviews                   0\n",
              "availability_365                    0\n",
              "availability_90                     0\n",
              "availability_60                     0\n",
              "availability_30                     0\n",
              "maximum_nights                      0\n",
              "minimum_nights                      0\n",
              "index                               0\n",
              "dtype: int64"
            ]
          },
          "metadata": {
            "tags": []
          },
          "execution_count": 355
        }
      ]
    },
    {
      "cell_type": "code",
      "metadata": {
        "id": "dV8esmcN45tb"
      },
      "source": [
        "change = listings[listings['review_scores_value']!=listings['review_scores_value']].index\n",
        "listings.loc[change, 'review_scores_value'] = 10"
      ],
      "execution_count": 356,
      "outputs": []
    },
    {
      "cell_type": "markdown",
      "metadata": {
        "id": "JnmmEaQs9oZN"
      },
      "source": [
        "**3.5 Check for outliers.**\n",
        "\n",
        "Taking the minimum and maximum of each field, nothing sticks out as being too high or too low, except for one home with a price of $999.  It doesn't appear to be an error, so it is left in.  Perhaps a 'luxury' condo.\n",
        "\n",
        "I did notice that a property type had a yurt.  I investigated and found some other weird property types (dorm, treehouse) that won't help with the modeling. These will be removed, leaving only House and Apartment.  Townhomes will be rolled up into House, while Condo and Loft will roll up into Apartment.\n",
        "\n",
        "When we look at listings by neighbourhood, we find some neighbourhoods just have too few listings to justify analysis.  We can remove these from the dataset."
      ]
    },
    {
      "cell_type": "code",
      "metadata": {
        "colab": {
          "base_uri": "https://localhost:8080/"
        },
        "id": "HfFPX9-RcQ3Y",
        "outputId": "d4b9ed28-f08a-41c3-ae26-fbdd2b3bbf2d"
      },
      "source": [
        "for col in listings.columns:\n",
        "  print(col + ' min: ' + str(listings[col].min()) + ', max: ' + str(listings[col].max()))"
      ],
      "execution_count": 357,
      "outputs": [
        {
          "output_type": "stream",
          "text": [
            "index min: 0, max: 3814\n",
            "id min: 4291, max: 10118341\n",
            "host_response_time min: a few days or more, max: within an hour\n",
            "host_response_rate min: 0.17, max: 1.0\n",
            "host_is_superhost min: f, max: t\n",
            "neighbourhood_group_cleansed min: Ballard, max: West Seattle\n",
            "property_type min: Apartment, max: Yurt\n",
            "room_type min: Entire home/apt, max: Shared room\n",
            "accommodates min: 1, max: 16\n",
            "bathrooms min: 0.0, max: 8.0\n",
            "bedrooms min: 0.0, max: 7.0\n",
            "beds min: 1.0, max: 15.0\n",
            "bed_type min: Airbed, max: Real Bed\n",
            "amenities min: {\"Cable TV\",\"Wireless Internet\",\"Air Conditioning\",\"Free Parking on Premises\",Breakfast,\"Pets live on this property\",Dog(s),\"Indoor Fireplace\",Heating,Washer,Dryer,\"Smoke Detector\",\"Carbon Monoxide Detector\",\"Fire Extinguisher\",Essentials,Shampoo}, max: {}\n",
            "price min: 25.0, max: 999.0\n",
            "weekly_price min: 100.0, max: 6993.0\n",
            "monthly_price min: 500.0, max: 29970.0\n",
            "security_deposit min: 0.0, max: 995.0\n",
            "cleaning_fee min: 0.0, max: 300.0\n",
            "guests_included min: 0, max: 13\n",
            "extra_people min: 0.0, max: 300.0\n",
            "minimum_nights min: 1, max: 1000\n",
            "maximum_nights min: 1, max: 100000\n",
            "availability_30 min: 0, max: 30\n",
            "availability_60 min: 0, max: 60\n",
            "availability_90 min: 0, max: 90\n",
            "availability_365 min: 0, max: 365\n",
            "number_of_reviews min: 1, max: 474\n",
            "review_scores_rating min: 20.0, max: 100.0\n",
            "review_scores_accuracy min: 2.0, max: 10.0\n",
            "review_scores_cleanliness min: 3.0, max: 10.0\n",
            "review_scores_checkin min: 2.0, max: 10.0\n",
            "review_scores_communication min: 2.0, max: 10.0\n",
            "review_scores_location min: 4.0, max: 10.0\n",
            "review_scores_value min: 2.0, max: 10.0\n",
            "instant_bookable min: f, max: t\n",
            "cancellation_policy min: flexible, max: strict\n",
            "require_guest_profile_picture min: f, max: t\n",
            "require_guest_phone_verification min: f, max: t\n",
            "reviews_per_month min: 0.04, max: 12.15\n"
          ],
          "name": "stdout"
        }
      ]
    },
    {
      "cell_type": "code",
      "metadata": {
        "colab": {
          "base_uri": "https://localhost:8080/",
          "height": 117
        },
        "id": "_cQyknxchjnV",
        "outputId": "e670041e-4219-464a-a1f3-97cd12e0fb1e"
      },
      "source": [
        "listings[listings['price']==999]"
      ],
      "execution_count": 358,
      "outputs": [
        {
          "output_type": "execute_result",
          "data": {
            "text/html": [
              "<div>\n",
              "<style scoped>\n",
              "    .dataframe tbody tr th:only-of-type {\n",
              "        vertical-align: middle;\n",
              "    }\n",
              "\n",
              "    .dataframe tbody tr th {\n",
              "        vertical-align: top;\n",
              "    }\n",
              "\n",
              "    .dataframe thead th {\n",
              "        text-align: right;\n",
              "    }\n",
              "</style>\n",
              "<table border=\"1\" class=\"dataframe\">\n",
              "  <thead>\n",
              "    <tr style=\"text-align: right;\">\n",
              "      <th></th>\n",
              "      <th>index</th>\n",
              "      <th>id</th>\n",
              "      <th>host_response_time</th>\n",
              "      <th>host_response_rate</th>\n",
              "      <th>host_is_superhost</th>\n",
              "      <th>neighbourhood_group_cleansed</th>\n",
              "      <th>property_type</th>\n",
              "      <th>room_type</th>\n",
              "      <th>accommodates</th>\n",
              "      <th>bathrooms</th>\n",
              "      <th>bedrooms</th>\n",
              "      <th>beds</th>\n",
              "      <th>bed_type</th>\n",
              "      <th>amenities</th>\n",
              "      <th>price</th>\n",
              "      <th>weekly_price</th>\n",
              "      <th>monthly_price</th>\n",
              "      <th>security_deposit</th>\n",
              "      <th>cleaning_fee</th>\n",
              "      <th>guests_included</th>\n",
              "      <th>extra_people</th>\n",
              "      <th>minimum_nights</th>\n",
              "      <th>maximum_nights</th>\n",
              "      <th>availability_30</th>\n",
              "      <th>availability_60</th>\n",
              "      <th>availability_90</th>\n",
              "      <th>availability_365</th>\n",
              "      <th>number_of_reviews</th>\n",
              "      <th>review_scores_rating</th>\n",
              "      <th>review_scores_accuracy</th>\n",
              "      <th>review_scores_cleanliness</th>\n",
              "      <th>review_scores_checkin</th>\n",
              "      <th>review_scores_communication</th>\n",
              "      <th>review_scores_location</th>\n",
              "      <th>review_scores_value</th>\n",
              "      <th>instant_bookable</th>\n",
              "      <th>cancellation_policy</th>\n",
              "      <th>require_guest_profile_picture</th>\n",
              "      <th>require_guest_phone_verification</th>\n",
              "      <th>reviews_per_month</th>\n",
              "    </tr>\n",
              "  </thead>\n",
              "  <tbody>\n",
              "    <tr>\n",
              "      <th>982</th>\n",
              "      <td>1208</td>\n",
              "      <td>3345341</td>\n",
              "      <td>within a few hours</td>\n",
              "      <td>1.0</td>\n",
              "      <td>f</td>\n",
              "      <td>Downtown</td>\n",
              "      <td>Apartment</td>\n",
              "      <td>Entire home/apt</td>\n",
              "      <td>4</td>\n",
              "      <td>1.0</td>\n",
              "      <td>1.0</td>\n",
              "      <td>1.0</td>\n",
              "      <td>Real Bed</td>\n",
              "      <td>{Internet,\"Wireless Internet\",Kitchen,\"Elevato...</td>\n",
              "      <td>999.0</td>\n",
              "      <td>6993.0</td>\n",
              "      <td>29970.0</td>\n",
              "      <td>95.0</td>\n",
              "      <td>85.0</td>\n",
              "      <td>1</td>\n",
              "      <td>10.0</td>\n",
              "      <td>1</td>\n",
              "      <td>31</td>\n",
              "      <td>0</td>\n",
              "      <td>0</td>\n",
              "      <td>0</td>\n",
              "      <td>0</td>\n",
              "      <td>54</td>\n",
              "      <td>94.0</td>\n",
              "      <td>9.0</td>\n",
              "      <td>9.0</td>\n",
              "      <td>10.0</td>\n",
              "      <td>10.0</td>\n",
              "      <td>10.0</td>\n",
              "      <td>9.0</td>\n",
              "      <td>f</td>\n",
              "      <td>moderate</td>\n",
              "      <td>f</td>\n",
              "      <td>f</td>\n",
              "      <td>2.89</td>\n",
              "    </tr>\n",
              "  </tbody>\n",
              "</table>\n",
              "</div>"
            ],
            "text/plain": [
              "     index       id  ... require_guest_phone_verification  reviews_per_month\n",
              "982   1208  3345341  ...                                f               2.89\n",
              "\n",
              "[1 rows x 40 columns]"
            ]
          },
          "metadata": {
            "tags": []
          },
          "execution_count": 358
        }
      ]
    },
    {
      "cell_type": "code",
      "metadata": {
        "colab": {
          "base_uri": "https://localhost:8080/"
        },
        "id": "FeRT0uiujdXw",
        "outputId": "10c660e8-e561-4e55-894c-7d58e432fe1f"
      },
      "source": [
        "listings['property_type'].value_counts()"
      ],
      "execution_count": 359,
      "outputs": [
        {
          "output_type": "execute_result",
          "data": {
            "text/plain": [
              "House              1414\n",
              "Apartment          1392\n",
              "Townhouse            80\n",
              "Condominium          67\n",
              "Loft                 33\n",
              "Bed & Breakfast      25\n",
              "Cabin                21\n",
              "Other                18\n",
              "Camper/RV            10\n",
              "Bungalow              9\n",
              "Tent                  4\n",
              "Boat                  3\n",
              "Dorm                  2\n",
              "Treehouse             2\n",
              "Chalet                1\n",
              "Yurt                  1\n",
              "Name: property_type, dtype: int64"
            ]
          },
          "metadata": {
            "tags": []
          },
          "execution_count": 359
        }
      ]
    },
    {
      "cell_type": "code",
      "metadata": {
        "id": "1AdIPkq2lAWT"
      },
      "source": [
        "listings.loc[(listings['property_type'] == 'Townhouse'),'property_type'] = 'House'\n",
        "listings.loc[(listings['property_type'] == 'Bungalow'),'property_type'] = 'House'\n",
        "\n",
        "listings.loc[(listings['property_type'] == 'Condominium'),'property_type'] = 'Apartment'\n",
        "listings.loc[(listings['property_type'] == 'Loft'),'property_type'] = 'Apartment'\n",
        "\n",
        "to_drop = ['Bed & Breakfast', 'Cabin', 'Other', 'Camper/RV', 'Tent', 'Boat', 'Dorm', 'Treehouse', 'Chalet', 'Yurt']\n",
        "\n",
        "listings = listings[~listings['property_type'].isin(to_drop)]"
      ],
      "execution_count": 360,
      "outputs": []
    },
    {
      "cell_type": "code",
      "metadata": {
        "colab": {
          "base_uri": "https://localhost:8080/"
        },
        "id": "WmIbLvksp6h0",
        "outputId": "4e6cb5af-c528-4b17-e243-6527375ded7f"
      },
      "source": [
        "listings['neighbourhood_group_cleansed'].value_counts()"
      ],
      "execution_count": 361,
      "outputs": [
        {
          "output_type": "execute_result",
          "data": {
            "text/plain": [
              "Other neighborhoods    608\n",
              "Downtown               438\n",
              "Capitol Hill           436\n",
              "Central Area           309\n",
              "Queen Anne             238\n",
              "Ballard                186\n",
              "West Seattle           151\n",
              "Rainier Valley         121\n",
              "Beacon Hill             90\n",
              "University District     89\n",
              "Delridge                62\n",
              "Cascade                 61\n",
              "Northgate               61\n",
              "Lake City               54\n",
              "Magnolia                45\n",
              "Seward Park             38\n",
              "Interbay                 8\n",
              "Name: neighbourhood_group_cleansed, dtype: int64"
            ]
          },
          "metadata": {
            "tags": []
          },
          "execution_count": 361
        }
      ]
    },
    {
      "cell_type": "code",
      "metadata": {
        "id": "WYhUOhmJrrmP"
      },
      "source": [
        "neighbourhood_remove = ['Interbay', 'Seward Park', 'Magnolia', 'Lake City', 'Northgate', 'Cascade', 'Delridge']\n",
        "\n",
        "listings = listings[~listings['neighbourhood_group_cleansed'].isin(neighbourhood_remove)]"
      ],
      "execution_count": 362,
      "outputs": []
    },
    {
      "cell_type": "markdown",
      "metadata": {
        "id": "HwccMInApqam"
      },
      "source": [
        "**3.6 Final Data Frame**\n",
        "\n",
        "We are now left with 40 fields and 2666 records.  This represents ten Seattle neighbourhoods, broken down into homes or apartments.\n"
      ]
    },
    {
      "cell_type": "code",
      "metadata": {
        "colab": {
          "base_uri": "https://localhost:8080/"
        },
        "id": "IOgQLFPGpqmY",
        "outputId": "245bd860-1d95-4f1f-a37b-e707f492d713"
      },
      "source": [
        "listings.shape"
      ],
      "execution_count": 363,
      "outputs": [
        {
          "output_type": "execute_result",
          "data": {
            "text/plain": [
              "(2666, 40)"
            ]
          },
          "metadata": {
            "tags": []
          },
          "execution_count": 363
        }
      ]
    }
  ]
}